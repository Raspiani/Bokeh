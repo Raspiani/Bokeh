{
 "cells": [
  {
   "cell_type": "markdown",
   "metadata": {},
   "source": [
    "## Bokeh - Scatter Plots\n",
    "\n",
    "    Berikut ini cara memvisualisasikan data dengan bokeh."
   ]
  },
  {
   "cell_type": "code",
   "execution_count": 35,
   "metadata": {},
   "outputs": [],
   "source": [
    "#memasukan modul yang digunakan \n",
    "import bokeh \n",
    "from bokeh.io import output_notebook, show\n",
    "from bokeh.plotting import figure"
   ]
  },
  {
   "cell_type": "code",
   "execution_count": 36,
   "metadata": {},
   "outputs": [
    {
     "data": {
      "text/html": [
       "\n",
       "    <div class=\"bk-root\">\n",
       "        <a href=\"https://bokeh.pydata.org\" target=\"_blank\" class=\"bk-logo bk-logo-small bk-logo-notebook\"></a>\n",
       "        <span id=\"6f75fe7b-daa7-4448-9595-a9fc6a985956\">Loading BokehJS ...</span>\n",
       "    </div>"
      ]
     },
     "metadata": {},
     "output_type": "display_data"
    },
    {
     "data": {
      "application/javascript": [
       "\n",
       "(function(root) {\n",
       "  function now() {\n",
       "    return new Date();\n",
       "  }\n",
       "\n",
       "  var force = true;\n",
       "\n",
       "  if (typeof (root._bokeh_onload_callbacks) === \"undefined\" || force === true) {\n",
       "    root._bokeh_onload_callbacks = [];\n",
       "    root._bokeh_is_loading = undefined;\n",
       "  }\n",
       "\n",
       "  var JS_MIME_TYPE = 'application/javascript';\n",
       "  var HTML_MIME_TYPE = 'text/html';\n",
       "  var EXEC_MIME_TYPE = 'application/vnd.bokehjs_exec.v0+json';\n",
       "  var CLASS_NAME = 'output_bokeh rendered_html';\n",
       "\n",
       "  /**\n",
       "   * Render data to the DOM node\n",
       "   */\n",
       "  function render(props, node) {\n",
       "    var script = document.createElement(\"script\");\n",
       "    node.appendChild(script);\n",
       "  }\n",
       "\n",
       "  /**\n",
       "   * Handle when an output is cleared or removed\n",
       "   */\n",
       "  function handleClearOutput(event, handle) {\n",
       "    var cell = handle.cell;\n",
       "\n",
       "    var id = cell.output_area._bokeh_element_id;\n",
       "    var server_id = cell.output_area._bokeh_server_id;\n",
       "    // Clean up Bokeh references\n",
       "    if (id !== undefined) {\n",
       "      Bokeh.index[id].model.document.clear();\n",
       "      delete Bokeh.index[id];\n",
       "    }\n",
       "\n",
       "    if (server_id !== undefined) {\n",
       "      // Clean up Bokeh references\n",
       "      var cmd = \"from bokeh.io.state import curstate; print(curstate().uuid_to_server['\" + server_id + \"'].get_sessions()[0].document.roots[0]._id)\";\n",
       "      cell.notebook.kernel.execute(cmd, {\n",
       "        iopub: {\n",
       "          output: function(msg) {\n",
       "            var element_id = msg.content.text.trim();\n",
       "            Bokeh.index[element_id].model.document.clear();\n",
       "            delete Bokeh.index[element_id];\n",
       "          }\n",
       "        }\n",
       "      });\n",
       "      // Destroy server and session\n",
       "      var cmd = \"import bokeh.io.notebook as ion; ion.destroy_server('\" + server_id + \"')\";\n",
       "      cell.notebook.kernel.execute(cmd);\n",
       "    }\n",
       "  }\n",
       "\n",
       "  /**\n",
       "   * Handle when a new output is added\n",
       "   */\n",
       "  function handleAddOutput(event, handle) {\n",
       "    var output_area = handle.output_area;\n",
       "    var output = handle.output;\n",
       "\n",
       "    // limit handleAddOutput to display_data with EXEC_MIME_TYPE content only\n",
       "    if ((output.output_type != \"display_data\") || (!output.data.hasOwnProperty(EXEC_MIME_TYPE))) {\n",
       "      return\n",
       "    }\n",
       "\n",
       "    var toinsert = output_area.element.find(\".\" + CLASS_NAME.split(' ')[0]);\n",
       "\n",
       "    if (output.metadata[EXEC_MIME_TYPE][\"id\"] !== undefined) {\n",
       "      toinsert[toinsert.length - 1].firstChild.textContent = output.data[JS_MIME_TYPE];\n",
       "      // store reference to embed id on output_area\n",
       "      output_area._bokeh_element_id = output.metadata[EXEC_MIME_TYPE][\"id\"];\n",
       "    }\n",
       "    if (output.metadata[EXEC_MIME_TYPE][\"server_id\"] !== undefined) {\n",
       "      var bk_div = document.createElement(\"div\");\n",
       "      bk_div.innerHTML = output.data[HTML_MIME_TYPE];\n",
       "      var script_attrs = bk_div.children[0].attributes;\n",
       "      for (var i = 0; i < script_attrs.length; i++) {\n",
       "        toinsert[toinsert.length - 1].firstChild.setAttribute(script_attrs[i].name, script_attrs[i].value);\n",
       "      }\n",
       "      // store reference to server id on output_area\n",
       "      output_area._bokeh_server_id = output.metadata[EXEC_MIME_TYPE][\"server_id\"];\n",
       "    }\n",
       "  }\n",
       "\n",
       "  function register_renderer(events, OutputArea) {\n",
       "\n",
       "    function append_mime(data, metadata, element) {\n",
       "      // create a DOM node to render to\n",
       "      var toinsert = this.create_output_subarea(\n",
       "        metadata,\n",
       "        CLASS_NAME,\n",
       "        EXEC_MIME_TYPE\n",
       "      );\n",
       "      this.keyboard_manager.register_events(toinsert);\n",
       "      // Render to node\n",
       "      var props = {data: data, metadata: metadata[EXEC_MIME_TYPE]};\n",
       "      render(props, toinsert[toinsert.length - 1]);\n",
       "      element.append(toinsert);\n",
       "      return toinsert\n",
       "    }\n",
       "\n",
       "    /* Handle when an output is cleared or removed */\n",
       "    events.on('clear_output.CodeCell', handleClearOutput);\n",
       "    events.on('delete.Cell', handleClearOutput);\n",
       "\n",
       "    /* Handle when a new output is added */\n",
       "    events.on('output_added.OutputArea', handleAddOutput);\n",
       "\n",
       "    /**\n",
       "     * Register the mime type and append_mime function with output_area\n",
       "     */\n",
       "    OutputArea.prototype.register_mime_type(EXEC_MIME_TYPE, append_mime, {\n",
       "      /* Is output safe? */\n",
       "      safe: true,\n",
       "      /* Index of renderer in `output_area.display_order` */\n",
       "      index: 0\n",
       "    });\n",
       "  }\n",
       "\n",
       "  // register the mime type if in Jupyter Notebook environment and previously unregistered\n",
       "  if (root.Jupyter !== undefined) {\n",
       "    var events = require('base/js/events');\n",
       "    var OutputArea = require('notebook/js/outputarea').OutputArea;\n",
       "\n",
       "    if (OutputArea.prototype.mime_types().indexOf(EXEC_MIME_TYPE) == -1) {\n",
       "      register_renderer(events, OutputArea);\n",
       "    }\n",
       "  }\n",
       "\n",
       "  \n",
       "  if (typeof (root._bokeh_timeout) === \"undefined\" || force === true) {\n",
       "    root._bokeh_timeout = Date.now() + 5000;\n",
       "    root._bokeh_failed_load = false;\n",
       "  }\n",
       "\n",
       "  var NB_LOAD_WARNING = {'data': {'text/html':\n",
       "     \"<div style='background-color: #fdd'>\\n\"+\n",
       "     \"<p>\\n\"+\n",
       "     \"BokehJS does not appear to have successfully loaded. If loading BokehJS from CDN, this \\n\"+\n",
       "     \"may be due to a slow or bad network connection. Possible fixes:\\n\"+\n",
       "     \"</p>\\n\"+\n",
       "     \"<ul>\\n\"+\n",
       "     \"<li>re-rerun `output_notebook()` to attempt to load from CDN again, or</li>\\n\"+\n",
       "     \"<li>use INLINE resources instead, as so:</li>\\n\"+\n",
       "     \"</ul>\\n\"+\n",
       "     \"<code>\\n\"+\n",
       "     \"from bokeh.resources import INLINE\\n\"+\n",
       "     \"output_notebook(resources=INLINE)\\n\"+\n",
       "     \"</code>\\n\"+\n",
       "     \"</div>\"}};\n",
       "\n",
       "  function display_loaded() {\n",
       "    var el = document.getElementById(\"6f75fe7b-daa7-4448-9595-a9fc6a985956\");\n",
       "    if (el != null) {\n",
       "      el.textContent = \"BokehJS is loading...\";\n",
       "    }\n",
       "    if (root.Bokeh !== undefined) {\n",
       "      if (el != null) {\n",
       "        el.textContent = \"BokehJS \" + root.Bokeh.version + \" successfully loaded.\";\n",
       "      }\n",
       "    } else if (Date.now() < root._bokeh_timeout) {\n",
       "      setTimeout(display_loaded, 100)\n",
       "    }\n",
       "  }\n",
       "\n",
       "\n",
       "  function run_callbacks() {\n",
       "    try {\n",
       "      root._bokeh_onload_callbacks.forEach(function(callback) { callback() });\n",
       "    }\n",
       "    finally {\n",
       "      delete root._bokeh_onload_callbacks\n",
       "    }\n",
       "    console.info(\"Bokeh: all callbacks have finished\");\n",
       "  }\n",
       "\n",
       "  function load_libs(js_urls, callback) {\n",
       "    root._bokeh_onload_callbacks.push(callback);\n",
       "    if (root._bokeh_is_loading > 0) {\n",
       "      console.log(\"Bokeh: BokehJS is being loaded, scheduling callback at\", now());\n",
       "      return null;\n",
       "    }\n",
       "    if (js_urls == null || js_urls.length === 0) {\n",
       "      run_callbacks();\n",
       "      return null;\n",
       "    }\n",
       "    console.log(\"Bokeh: BokehJS not loaded, scheduling load and callback at\", now());\n",
       "    root._bokeh_is_loading = js_urls.length;\n",
       "    for (var i = 0; i < js_urls.length; i++) {\n",
       "      var url = js_urls[i];\n",
       "      var s = document.createElement('script');\n",
       "      s.src = url;\n",
       "      s.async = false;\n",
       "      s.onreadystatechange = s.onload = function() {\n",
       "        root._bokeh_is_loading--;\n",
       "        if (root._bokeh_is_loading === 0) {\n",
       "          console.log(\"Bokeh: all BokehJS libraries loaded\");\n",
       "          run_callbacks()\n",
       "        }\n",
       "      };\n",
       "      s.onerror = function() {\n",
       "        console.warn(\"failed to load library \" + url);\n",
       "      };\n",
       "      console.log(\"Bokeh: injecting script tag for BokehJS library: \", url);\n",
       "      document.getElementsByTagName(\"head\")[0].appendChild(s);\n",
       "    }\n",
       "  };var element = document.getElementById(\"6f75fe7b-daa7-4448-9595-a9fc6a985956\");\n",
       "  if (element == null) {\n",
       "    console.log(\"Bokeh: ERROR: autoload.js configured with elementid '6f75fe7b-daa7-4448-9595-a9fc6a985956' but no matching script tag was found. \")\n",
       "    return false;\n",
       "  }\n",
       "\n",
       "  var js_urls = [\"https://cdn.pydata.org/bokeh/release/bokeh-0.12.15.min.js\", \"https://cdn.pydata.org/bokeh/release/bokeh-widgets-0.12.15.min.js\", \"https://cdn.pydata.org/bokeh/release/bokeh-tables-0.12.15.min.js\", \"https://cdn.pydata.org/bokeh/release/bokeh-gl-0.12.15.min.js\"];\n",
       "\n",
       "  var inline_js = [\n",
       "    function(Bokeh) {\n",
       "      Bokeh.set_log_level(\"info\");\n",
       "    },\n",
       "    \n",
       "    function(Bokeh) {\n",
       "      \n",
       "    },\n",
       "    function(Bokeh) {\n",
       "      console.log(\"Bokeh: injecting CSS: https://cdn.pydata.org/bokeh/release/bokeh-0.12.15.min.css\");\n",
       "      Bokeh.embed.inject_css(\"https://cdn.pydata.org/bokeh/release/bokeh-0.12.15.min.css\");\n",
       "      console.log(\"Bokeh: injecting CSS: https://cdn.pydata.org/bokeh/release/bokeh-widgets-0.12.15.min.css\");\n",
       "      Bokeh.embed.inject_css(\"https://cdn.pydata.org/bokeh/release/bokeh-widgets-0.12.15.min.css\");\n",
       "      console.log(\"Bokeh: injecting CSS: https://cdn.pydata.org/bokeh/release/bokeh-tables-0.12.15.min.css\");\n",
       "      Bokeh.embed.inject_css(\"https://cdn.pydata.org/bokeh/release/bokeh-tables-0.12.15.min.css\");\n",
       "    }\n",
       "  ];\n",
       "\n",
       "  function run_inline_js() {\n",
       "    \n",
       "    if ((root.Bokeh !== undefined) || (force === true)) {\n",
       "      for (var i = 0; i < inline_js.length; i++) {\n",
       "        inline_js[i].call(root, root.Bokeh);\n",
       "      }if (force === true) {\n",
       "        display_loaded();\n",
       "      }} else if (Date.now() < root._bokeh_timeout) {\n",
       "      setTimeout(run_inline_js, 100);\n",
       "    } else if (!root._bokeh_failed_load) {\n",
       "      console.log(\"Bokeh: BokehJS failed to load within specified timeout.\");\n",
       "      root._bokeh_failed_load = true;\n",
       "    } else if (force !== true) {\n",
       "      var cell = $(document.getElementById(\"6f75fe7b-daa7-4448-9595-a9fc6a985956\")).parents('.cell').data().cell;\n",
       "      cell.output_area.append_execute_result(NB_LOAD_WARNING)\n",
       "    }\n",
       "\n",
       "  }\n",
       "\n",
       "  if (root._bokeh_is_loading === 0) {\n",
       "    console.log(\"Bokeh: BokehJS loaded, going straight to plotting\");\n",
       "    run_inline_js();\n",
       "  } else {\n",
       "    load_libs(js_urls, function() {\n",
       "      console.log(\"Bokeh: BokehJS plotting callback run at\", now());\n",
       "      run_inline_js();\n",
       "    });\n",
       "  }\n",
       "}(window));"
      ],
      "application/vnd.bokehjs_load.v0+json": "\n(function(root) {\n  function now() {\n    return new Date();\n  }\n\n  var force = true;\n\n  if (typeof (root._bokeh_onload_callbacks) === \"undefined\" || force === true) {\n    root._bokeh_onload_callbacks = [];\n    root._bokeh_is_loading = undefined;\n  }\n\n  \n\n  \n  if (typeof (root._bokeh_timeout) === \"undefined\" || force === true) {\n    root._bokeh_timeout = Date.now() + 5000;\n    root._bokeh_failed_load = false;\n  }\n\n  var NB_LOAD_WARNING = {'data': {'text/html':\n     \"<div style='background-color: #fdd'>\\n\"+\n     \"<p>\\n\"+\n     \"BokehJS does not appear to have successfully loaded. If loading BokehJS from CDN, this \\n\"+\n     \"may be due to a slow or bad network connection. Possible fixes:\\n\"+\n     \"</p>\\n\"+\n     \"<ul>\\n\"+\n     \"<li>re-rerun `output_notebook()` to attempt to load from CDN again, or</li>\\n\"+\n     \"<li>use INLINE resources instead, as so:</li>\\n\"+\n     \"</ul>\\n\"+\n     \"<code>\\n\"+\n     \"from bokeh.resources import INLINE\\n\"+\n     \"output_notebook(resources=INLINE)\\n\"+\n     \"</code>\\n\"+\n     \"</div>\"}};\n\n  function display_loaded() {\n    var el = document.getElementById(\"6f75fe7b-daa7-4448-9595-a9fc6a985956\");\n    if (el != null) {\n      el.textContent = \"BokehJS is loading...\";\n    }\n    if (root.Bokeh !== undefined) {\n      if (el != null) {\n        el.textContent = \"BokehJS \" + root.Bokeh.version + \" successfully loaded.\";\n      }\n    } else if (Date.now() < root._bokeh_timeout) {\n      setTimeout(display_loaded, 100)\n    }\n  }\n\n\n  function run_callbacks() {\n    try {\n      root._bokeh_onload_callbacks.forEach(function(callback) { callback() });\n    }\n    finally {\n      delete root._bokeh_onload_callbacks\n    }\n    console.info(\"Bokeh: all callbacks have finished\");\n  }\n\n  function load_libs(js_urls, callback) {\n    root._bokeh_onload_callbacks.push(callback);\n    if (root._bokeh_is_loading > 0) {\n      console.log(\"Bokeh: BokehJS is being loaded, scheduling callback at\", now());\n      return null;\n    }\n    if (js_urls == null || js_urls.length === 0) {\n      run_callbacks();\n      return null;\n    }\n    console.log(\"Bokeh: BokehJS not loaded, scheduling load and callback at\", now());\n    root._bokeh_is_loading = js_urls.length;\n    for (var i = 0; i < js_urls.length; i++) {\n      var url = js_urls[i];\n      var s = document.createElement('script');\n      s.src = url;\n      s.async = false;\n      s.onreadystatechange = s.onload = function() {\n        root._bokeh_is_loading--;\n        if (root._bokeh_is_loading === 0) {\n          console.log(\"Bokeh: all BokehJS libraries loaded\");\n          run_callbacks()\n        }\n      };\n      s.onerror = function() {\n        console.warn(\"failed to load library \" + url);\n      };\n      console.log(\"Bokeh: injecting script tag for BokehJS library: \", url);\n      document.getElementsByTagName(\"head\")[0].appendChild(s);\n    }\n  };var element = document.getElementById(\"6f75fe7b-daa7-4448-9595-a9fc6a985956\");\n  if (element == null) {\n    console.log(\"Bokeh: ERROR: autoload.js configured with elementid '6f75fe7b-daa7-4448-9595-a9fc6a985956' but no matching script tag was found. \")\n    return false;\n  }\n\n  var js_urls = [\"https://cdn.pydata.org/bokeh/release/bokeh-0.12.15.min.js\", \"https://cdn.pydata.org/bokeh/release/bokeh-widgets-0.12.15.min.js\", \"https://cdn.pydata.org/bokeh/release/bokeh-tables-0.12.15.min.js\", \"https://cdn.pydata.org/bokeh/release/bokeh-gl-0.12.15.min.js\"];\n\n  var inline_js = [\n    function(Bokeh) {\n      Bokeh.set_log_level(\"info\");\n    },\n    \n    function(Bokeh) {\n      \n    },\n    function(Bokeh) {\n      console.log(\"Bokeh: injecting CSS: https://cdn.pydata.org/bokeh/release/bokeh-0.12.15.min.css\");\n      Bokeh.embed.inject_css(\"https://cdn.pydata.org/bokeh/release/bokeh-0.12.15.min.css\");\n      console.log(\"Bokeh: injecting CSS: https://cdn.pydata.org/bokeh/release/bokeh-widgets-0.12.15.min.css\");\n      Bokeh.embed.inject_css(\"https://cdn.pydata.org/bokeh/release/bokeh-widgets-0.12.15.min.css\");\n      console.log(\"Bokeh: injecting CSS: https://cdn.pydata.org/bokeh/release/bokeh-tables-0.12.15.min.css\");\n      Bokeh.embed.inject_css(\"https://cdn.pydata.org/bokeh/release/bokeh-tables-0.12.15.min.css\");\n    }\n  ];\n\n  function run_inline_js() {\n    \n    if ((root.Bokeh !== undefined) || (force === true)) {\n      for (var i = 0; i < inline_js.length; i++) {\n        inline_js[i].call(root, root.Bokeh);\n      }if (force === true) {\n        display_loaded();\n      }} else if (Date.now() < root._bokeh_timeout) {\n      setTimeout(run_inline_js, 100);\n    } else if (!root._bokeh_failed_load) {\n      console.log(\"Bokeh: BokehJS failed to load within specified timeout.\");\n      root._bokeh_failed_load = true;\n    } else if (force !== true) {\n      var cell = $(document.getElementById(\"6f75fe7b-daa7-4448-9595-a9fc6a985956\")).parents('.cell').data().cell;\n      cell.output_area.append_execute_result(NB_LOAD_WARNING)\n    }\n\n  }\n\n  if (root._bokeh_is_loading === 0) {\n    console.log(\"Bokeh: BokehJS loaded, going straight to plotting\");\n    run_inline_js();\n  } else {\n    load_libs(js_urls, function() {\n      console.log(\"Bokeh: BokehJS plotting callback run at\", now());\n      run_inline_js();\n    });\n  }\n}(window));"
     },
     "metadata": {},
     "output_type": "display_data"
    }
   ],
   "source": [
    "#mengaktifkan output_notebook()\n",
    "output_notebook()"
   ]
  },
  {
   "cell_type": "code",
   "execution_count": 37,
   "metadata": {},
   "outputs": [],
   "source": [
    "#membuat bingkai dengan ukuran 450 x 350\n",
    "p = figure(plot_width = 450, plot_height = 350)"
   ]
  },
  {
   "cell_type": "code",
   "execution_count": 38,
   "metadata": {},
   "outputs": [
    {
     "data": {
      "text/html": [
       "\n",
       "<div class=\"bk-root\">\n",
       "    <div class=\"bk-plotdiv\" id=\"cc8f6875-5f73-4f9f-a50c-16df072da8ec\"></div>\n",
       "</div>"
      ]
     },
     "metadata": {},
     "output_type": "display_data"
    },
    {
     "data": {
      "application/javascript": [
       "(function(root) {\n",
       "  function embed_document(root) {\n",
       "    \n",
       "  var docs_json = {\"ee23cbd3-b42e-4931-b484-e42a5ce02897\":{\"roots\":{\"references\":[{\"attributes\":{},\"id\":\"fc14ef96-b0bc-45c6-954d-521b0afd0054\",\"type\":\"PanTool\"},{\"attributes\":{},\"id\":\"08bd2102-5959-42cc-8604-de42618f09ce\",\"type\":\"BasicTickFormatter\"},{\"attributes\":{},\"id\":\"bd148b2a-0b27-4ce1-a217-f58f81c3046b\",\"type\":\"HelpTool\"},{\"attributes\":{},\"id\":\"b563cd8c-5981-4e51-9aba-f3a0cffe3935\",\"type\":\"BasicTickFormatter\"},{\"attributes\":{},\"id\":\"dc99e461-1b89-485f-9055-2b4e36f324b4\",\"type\":\"LinearScale\"},{\"attributes\":{},\"id\":\"a8d6e5a6-3c3b-41f9-b004-437cf92c8dae\",\"type\":\"LinearScale\"},{\"attributes\":{\"active_drag\":\"auto\",\"active_inspect\":\"auto\",\"active_scroll\":\"auto\",\"active_tap\":\"auto\",\"tools\":[{\"id\":\"fc14ef96-b0bc-45c6-954d-521b0afd0054\",\"type\":\"PanTool\"},{\"id\":\"9f6071d1-4e1d-4162-b3fe-c868c5c2340a\",\"type\":\"WheelZoomTool\"},{\"id\":\"d776721f-3c5e-46b9-aca2-6a03c7192bae\",\"type\":\"BoxZoomTool\"},{\"id\":\"f4bfed7d-bd57-4cdb-beba-53423a174637\",\"type\":\"SaveTool\"},{\"id\":\"134e708b-b67b-4a8d-8bfd-c005bf098e0d\",\"type\":\"ResetTool\"},{\"id\":\"bd148b2a-0b27-4ce1-a217-f58f81c3046b\",\"type\":\"HelpTool\"}]},\"id\":\"87bec1b7-949b-4398-bd22-b88055a8b201\",\"type\":\"Toolbar\"},{\"attributes\":{\"formatter\":{\"id\":\"08bd2102-5959-42cc-8604-de42618f09ce\",\"type\":\"BasicTickFormatter\"},\"plot\":{\"id\":\"74662d2d-a3e1-4524-8137-a434485f29fd\",\"subtype\":\"Figure\",\"type\":\"Plot\"},\"ticker\":{\"id\":\"160a5f9a-39c0-47fc-ac95-261002ba857d\",\"type\":\"BasicTicker\"}},\"id\":\"403d6003-c9d7-4562-a5f5-b9966129f180\",\"type\":\"LinearAxis\"},{\"attributes\":{},\"id\":\"f4bfed7d-bd57-4cdb-beba-53423a174637\",\"type\":\"SaveTool\"},{\"attributes\":{},\"id\":\"160a5f9a-39c0-47fc-ac95-261002ba857d\",\"type\":\"BasicTicker\"},{\"attributes\":{\"dimension\":1,\"plot\":{\"id\":\"74662d2d-a3e1-4524-8137-a434485f29fd\",\"subtype\":\"Figure\",\"type\":\"Plot\"},\"ticker\":{\"id\":\"160a5f9a-39c0-47fc-ac95-261002ba857d\",\"type\":\"BasicTicker\"}},\"id\":\"1b3f9b15-ae45-4dc9-aa2f-ad9cfa4ed678\",\"type\":\"Grid\"},{\"attributes\":{\"callback\":null,\"column_names\":[\"x\",\"y\"],\"data\":{\"x\":[2,4,6,8],\"y\":[4,3,7,1]},\"selected\":null,\"selection_policy\":null},\"id\":\"60340675-9445-40f2-861d-f5be6573495a\",\"type\":\"ColumnDataSource\"},{\"attributes\":{\"data_source\":{\"id\":\"60340675-9445-40f2-861d-f5be6573495a\",\"type\":\"ColumnDataSource\"},\"glyph\":{\"id\":\"80435289-7dde-4910-bdb6-b02c8ca74084\",\"type\":\"Square\"},\"hover_glyph\":null,\"muted_glyph\":null,\"nonselection_glyph\":{\"id\":\"70cf3f41-0849-4985-b137-2f707b91f86e\",\"type\":\"Square\"},\"selection_glyph\":null,\"view\":{\"id\":\"27e21886-3b6a-4a14-ad63-8c8c5e4a1f1a\",\"type\":\"CDSView\"}},\"id\":\"c0ea5d56-32ba-426a-b3cc-417fb72117f9\",\"type\":\"GlyphRenderer\"},{\"attributes\":{},\"id\":\"49f9471e-2cb1-4c12-b338-5de4fd162760\",\"type\":\"BasicTicker\"},{\"attributes\":{},\"id\":\"134e708b-b67b-4a8d-8bfd-c005bf098e0d\",\"type\":\"ResetTool\"},{\"attributes\":{\"fill_color\":{\"value\":\"red\"},\"line_color\":{\"value\":\"red\"},\"size\":{\"units\":\"screen\",\"value\":16},\"x\":{\"field\":\"x\"},\"y\":{\"field\":\"y\"}},\"id\":\"80435289-7dde-4910-bdb6-b02c8ca74084\",\"type\":\"Square\"},{\"attributes\":{\"below\":[{\"id\":\"a8dceaa5-dc3d-4a37-97d7-6f3b9a58175b\",\"type\":\"LinearAxis\"}],\"left\":[{\"id\":\"403d6003-c9d7-4562-a5f5-b9966129f180\",\"type\":\"LinearAxis\"}],\"plot_height\":350,\"plot_width\":450,\"renderers\":[{\"id\":\"a8dceaa5-dc3d-4a37-97d7-6f3b9a58175b\",\"type\":\"LinearAxis\"},{\"id\":\"3a18d156-1caf-4284-bd7c-9590ff74f9a1\",\"type\":\"Grid\"},{\"id\":\"403d6003-c9d7-4562-a5f5-b9966129f180\",\"type\":\"LinearAxis\"},{\"id\":\"1b3f9b15-ae45-4dc9-aa2f-ad9cfa4ed678\",\"type\":\"Grid\"},{\"id\":\"6800e349-9ec7-4781-aee0-0c18a51950d5\",\"type\":\"BoxAnnotation\"},{\"id\":\"c0ea5d56-32ba-426a-b3cc-417fb72117f9\",\"type\":\"GlyphRenderer\"}],\"title\":{\"id\":\"44adceb0-8d1e-4c46-93e0-13e3e7751441\",\"type\":\"Title\"},\"toolbar\":{\"id\":\"87bec1b7-949b-4398-bd22-b88055a8b201\",\"type\":\"Toolbar\"},\"x_range\":{\"id\":\"077ed798-0c47-4337-afcf-3d2c51742260\",\"type\":\"DataRange1d\"},\"x_scale\":{\"id\":\"a8d6e5a6-3c3b-41f9-b004-437cf92c8dae\",\"type\":\"LinearScale\"},\"y_range\":{\"id\":\"2020734f-75ee-47bc-a822-44b2f8267ff7\",\"type\":\"DataRange1d\"},\"y_scale\":{\"id\":\"dc99e461-1b89-485f-9055-2b4e36f324b4\",\"type\":\"LinearScale\"}},\"id\":\"74662d2d-a3e1-4524-8137-a434485f29fd\",\"subtype\":\"Figure\",\"type\":\"Plot\"},{\"attributes\":{\"formatter\":{\"id\":\"b563cd8c-5981-4e51-9aba-f3a0cffe3935\",\"type\":\"BasicTickFormatter\"},\"plot\":{\"id\":\"74662d2d-a3e1-4524-8137-a434485f29fd\",\"subtype\":\"Figure\",\"type\":\"Plot\"},\"ticker\":{\"id\":\"49f9471e-2cb1-4c12-b338-5de4fd162760\",\"type\":\"BasicTicker\"}},\"id\":\"a8dceaa5-dc3d-4a37-97d7-6f3b9a58175b\",\"type\":\"LinearAxis\"},{\"attributes\":{\"plot\":{\"id\":\"74662d2d-a3e1-4524-8137-a434485f29fd\",\"subtype\":\"Figure\",\"type\":\"Plot\"},\"ticker\":{\"id\":\"49f9471e-2cb1-4c12-b338-5de4fd162760\",\"type\":\"BasicTicker\"}},\"id\":\"3a18d156-1caf-4284-bd7c-9590ff74f9a1\",\"type\":\"Grid\"},{\"attributes\":{\"overlay\":{\"id\":\"6800e349-9ec7-4781-aee0-0c18a51950d5\",\"type\":\"BoxAnnotation\"}},\"id\":\"d776721f-3c5e-46b9-aca2-6a03c7192bae\",\"type\":\"BoxZoomTool\"},{\"attributes\":{\"plot\":null,\"text\":\"\"},\"id\":\"44adceb0-8d1e-4c46-93e0-13e3e7751441\",\"type\":\"Title\"},{\"attributes\":{\"callback\":null},\"id\":\"2020734f-75ee-47bc-a822-44b2f8267ff7\",\"type\":\"DataRange1d\"},{\"attributes\":{\"fill_alpha\":{\"value\":0.1},\"fill_color\":{\"value\":\"#1f77b4\"},\"line_alpha\":{\"value\":0.1},\"line_color\":{\"value\":\"#1f77b4\"},\"size\":{\"units\":\"screen\",\"value\":16},\"x\":{\"field\":\"x\"},\"y\":{\"field\":\"y\"}},\"id\":\"70cf3f41-0849-4985-b137-2f707b91f86e\",\"type\":\"Square\"},{\"attributes\":{\"callback\":null},\"id\":\"077ed798-0c47-4337-afcf-3d2c51742260\",\"type\":\"DataRange1d\"},{\"attributes\":{\"source\":{\"id\":\"60340675-9445-40f2-861d-f5be6573495a\",\"type\":\"ColumnDataSource\"}},\"id\":\"27e21886-3b6a-4a14-ad63-8c8c5e4a1f1a\",\"type\":\"CDSView\"},{\"attributes\":{\"bottom_units\":\"screen\",\"fill_alpha\":{\"value\":0.5},\"fill_color\":{\"value\":\"lightgrey\"},\"left_units\":\"screen\",\"level\":\"overlay\",\"line_alpha\":{\"value\":1.0},\"line_color\":{\"value\":\"black\"},\"line_dash\":[4,4],\"line_width\":{\"value\":2},\"plot\":null,\"render_mode\":\"css\",\"right_units\":\"screen\",\"top_units\":\"screen\"},\"id\":\"6800e349-9ec7-4781-aee0-0c18a51950d5\",\"type\":\"BoxAnnotation\"},{\"attributes\":{},\"id\":\"9f6071d1-4e1d-4162-b3fe-c868c5c2340a\",\"type\":\"WheelZoomTool\"}],\"root_ids\":[\"74662d2d-a3e1-4524-8137-a434485f29fd\"]},\"title\":\"Bokeh Application\",\"version\":\"0.12.15\"}};\n",
       "  var render_items = [{\"docid\":\"ee23cbd3-b42e-4931-b484-e42a5ce02897\",\"elementid\":\"cc8f6875-5f73-4f9f-a50c-16df072da8ec\",\"modelid\":\"74662d2d-a3e1-4524-8137-a434485f29fd\"}];\n",
       "  root.Bokeh.embed.embed_items_notebook(docs_json, render_items);\n",
       "\n",
       "  }\n",
       "  if (root.Bokeh !== undefined) {\n",
       "    embed_document(root);\n",
       "  } else {\n",
       "    var attempts = 0;\n",
       "    var timer = setInterval(function(root) {\n",
       "      if (root.Bokeh !== undefined) {\n",
       "        embed_document(root);\n",
       "        clearInterval(timer);\n",
       "      }\n",
       "      attempts++;\n",
       "      if (attempts > 100) {\n",
       "        console.log(\"Bokeh: ERROR: Unable to run BokehJS code because BokehJS library is missing\")\n",
       "        clearInterval(timer);\n",
       "      }\n",
       "    }, 10, root)\n",
       "  }\n",
       "})(window);"
      ],
      "application/vnd.bokehjs_exec.v0+json": ""
     },
     "metadata": {
      "application/vnd.bokehjs_exec.v0+json": {
       "id": "74662d2d-a3e1-4524-8137-a434485f29fd"
      }
     },
     "output_type": "display_data"
    }
   ],
   "source": [
    "#memvisualisasikan data dengan bokeh\n",
    "p.square([2,4,6,8],[4,3,7,1], size = 16, color = 'red')\n",
    "show(p)"
   ]
  },
  {
   "cell_type": "code",
   "execution_count": 39,
   "metadata": {},
   "outputs": [
    {
     "data": {
      "text/html": [
       "\n",
       "<div class=\"bk-root\">\n",
       "    <div class=\"bk-plotdiv\" id=\"bb9227bd-fb12-4a28-976f-1cbefaa15e4a\"></div>\n",
       "</div>"
      ]
     },
     "metadata": {},
     "output_type": "display_data"
    },
    {
     "data": {
      "application/javascript": [
       "(function(root) {\n",
       "  function embed_document(root) {\n",
       "    \n",
       "  var docs_json = {\"fda0ab8c-eaca-4c12-b368-f601c910d576\":{\"roots\":{\"references\":[{\"attributes\":{},\"id\":\"08bd2102-5959-42cc-8604-de42618f09ce\",\"type\":\"BasicTickFormatter\"},{\"attributes\":{},\"id\":\"bd148b2a-0b27-4ce1-a217-f58f81c3046b\",\"type\":\"HelpTool\"},{\"attributes\":{},\"id\":\"dc99e461-1b89-485f-9055-2b4e36f324b4\",\"type\":\"LinearScale\"},{\"attributes\":{},\"id\":\"a8d6e5a6-3c3b-41f9-b004-437cf92c8dae\",\"type\":\"LinearScale\"},{\"attributes\":{\"active_drag\":\"auto\",\"active_inspect\":\"auto\",\"active_scroll\":\"auto\",\"active_tap\":\"auto\",\"tools\":[{\"id\":\"fc14ef96-b0bc-45c6-954d-521b0afd0054\",\"type\":\"PanTool\"},{\"id\":\"9f6071d1-4e1d-4162-b3fe-c868c5c2340a\",\"type\":\"WheelZoomTool\"},{\"id\":\"d776721f-3c5e-46b9-aca2-6a03c7192bae\",\"type\":\"BoxZoomTool\"},{\"id\":\"f4bfed7d-bd57-4cdb-beba-53423a174637\",\"type\":\"SaveTool\"},{\"id\":\"134e708b-b67b-4a8d-8bfd-c005bf098e0d\",\"type\":\"ResetTool\"},{\"id\":\"bd148b2a-0b27-4ce1-a217-f58f81c3046b\",\"type\":\"HelpTool\"}]},\"id\":\"87bec1b7-949b-4398-bd22-b88055a8b201\",\"type\":\"Toolbar\"},{\"attributes\":{\"source\":{\"id\":\"d6546317-a88f-4927-88c0-13b313ff7b93\",\"type\":\"ColumnDataSource\"}},\"id\":\"e0291537-3858-40df-9ed5-31f7ec6a8455\",\"type\":\"CDSView\"},{\"attributes\":{},\"id\":\"f4bfed7d-bd57-4cdb-beba-53423a174637\",\"type\":\"SaveTool\"},{\"attributes\":{\"dimension\":1,\"plot\":{\"id\":\"74662d2d-a3e1-4524-8137-a434485f29fd\",\"subtype\":\"Figure\",\"type\":\"Plot\"},\"ticker\":{\"id\":\"160a5f9a-39c0-47fc-ac95-261002ba857d\",\"type\":\"BasicTicker\"}},\"id\":\"1b3f9b15-ae45-4dc9-aa2f-ad9cfa4ed678\",\"type\":\"Grid\"},{\"attributes\":{\"callback\":null,\"column_names\":[\"x\",\"y\"],\"data\":{\"x\":[2,4,6,8],\"y\":[4,3,7,1]},\"selected\":null,\"selection_policy\":null},\"id\":\"60340675-9445-40f2-861d-f5be6573495a\",\"type\":\"ColumnDataSource\"},{\"attributes\":{\"data_source\":{\"id\":\"60340675-9445-40f2-861d-f5be6573495a\",\"type\":\"ColumnDataSource\"},\"glyph\":{\"id\":\"80435289-7dde-4910-bdb6-b02c8ca74084\",\"type\":\"Square\"},\"hover_glyph\":null,\"muted_glyph\":null,\"nonselection_glyph\":{\"id\":\"70cf3f41-0849-4985-b137-2f707b91f86e\",\"type\":\"Square\"},\"selection_glyph\":null,\"view\":{\"id\":\"27e21886-3b6a-4a14-ad63-8c8c5e4a1f1a\",\"type\":\"CDSView\"}},\"id\":\"c0ea5d56-32ba-426a-b3cc-417fb72117f9\",\"type\":\"GlyphRenderer\"},{\"attributes\":{},\"id\":\"49f9471e-2cb1-4c12-b338-5de4fd162760\",\"type\":\"BasicTicker\"},{\"attributes\":{\"formatter\":{\"id\":\"b563cd8c-5981-4e51-9aba-f3a0cffe3935\",\"type\":\"BasicTickFormatter\"},\"plot\":{\"id\":\"74662d2d-a3e1-4524-8137-a434485f29fd\",\"subtype\":\"Figure\",\"type\":\"Plot\"},\"ticker\":{\"id\":\"49f9471e-2cb1-4c12-b338-5de4fd162760\",\"type\":\"BasicTicker\"}},\"id\":\"a8dceaa5-dc3d-4a37-97d7-6f3b9a58175b\",\"type\":\"LinearAxis\"},{\"attributes\":{\"plot\":{\"id\":\"74662d2d-a3e1-4524-8137-a434485f29fd\",\"subtype\":\"Figure\",\"type\":\"Plot\"},\"ticker\":{\"id\":\"49f9471e-2cb1-4c12-b338-5de4fd162760\",\"type\":\"BasicTicker\"}},\"id\":\"3a18d156-1caf-4284-bd7c-9590ff74f9a1\",\"type\":\"Grid\"},{\"attributes\":{\"overlay\":{\"id\":\"6800e349-9ec7-4781-aee0-0c18a51950d5\",\"type\":\"BoxAnnotation\"}},\"id\":\"d776721f-3c5e-46b9-aca2-6a03c7192bae\",\"type\":\"BoxZoomTool\"},{\"attributes\":{\"bottom_units\":\"screen\",\"fill_alpha\":{\"value\":0.5},\"fill_color\":{\"value\":\"lightgrey\"},\"left_units\":\"screen\",\"level\":\"overlay\",\"line_alpha\":{\"value\":1.0},\"line_color\":{\"value\":\"black\"},\"line_dash\":[4,4],\"line_width\":{\"value\":2},\"plot\":null,\"render_mode\":\"css\",\"right_units\":\"screen\",\"top_units\":\"screen\"},\"id\":\"6800e349-9ec7-4781-aee0-0c18a51950d5\",\"type\":\"BoxAnnotation\"},{\"attributes\":{},\"id\":\"fc14ef96-b0bc-45c6-954d-521b0afd0054\",\"type\":\"PanTool\"},{\"attributes\":{},\"id\":\"b563cd8c-5981-4e51-9aba-f3a0cffe3935\",\"type\":\"BasicTickFormatter\"},{\"attributes\":{\"callback\":null,\"column_names\":[\"x\",\"y\"],\"data\":{\"x\":[2,4,6,8],\"y\":[4,3,7,1]},\"selected\":null,\"selection_policy\":null},\"id\":\"d6546317-a88f-4927-88c0-13b313ff7b93\",\"type\":\"ColumnDataSource\"},{\"attributes\":{\"source\":{\"id\":\"60340675-9445-40f2-861d-f5be6573495a\",\"type\":\"ColumnDataSource\"}},\"id\":\"27e21886-3b6a-4a14-ad63-8c8c5e4a1f1a\",\"type\":\"CDSView\"},{\"attributes\":{\"formatter\":{\"id\":\"08bd2102-5959-42cc-8604-de42618f09ce\",\"type\":\"BasicTickFormatter\"},\"plot\":{\"id\":\"74662d2d-a3e1-4524-8137-a434485f29fd\",\"subtype\":\"Figure\",\"type\":\"Plot\"},\"ticker\":{\"id\":\"160a5f9a-39c0-47fc-ac95-261002ba857d\",\"type\":\"BasicTicker\"}},\"id\":\"403d6003-c9d7-4562-a5f5-b9966129f180\",\"type\":\"LinearAxis\"},{\"attributes\":{},\"id\":\"160a5f9a-39c0-47fc-ac95-261002ba857d\",\"type\":\"BasicTicker\"},{\"attributes\":{\"fill_alpha\":{\"value\":0.3},\"fill_color\":{\"value\":\"red\"},\"line_alpha\":{\"value\":0.3},\"line_color\":{\"value\":\"red\"},\"size\":{\"units\":\"screen\",\"value\":16},\"x\":{\"field\":\"x\"},\"y\":{\"field\":\"y\"}},\"id\":\"e36bbb76-4dca-4296-a825-aaf711dcd3a6\",\"type\":\"Square\"},{\"attributes\":{},\"id\":\"134e708b-b67b-4a8d-8bfd-c005bf098e0d\",\"type\":\"ResetTool\"},{\"attributes\":{\"below\":[{\"id\":\"a8dceaa5-dc3d-4a37-97d7-6f3b9a58175b\",\"type\":\"LinearAxis\"}],\"left\":[{\"id\":\"403d6003-c9d7-4562-a5f5-b9966129f180\",\"type\":\"LinearAxis\"}],\"plot_height\":350,\"plot_width\":450,\"renderers\":[{\"id\":\"a8dceaa5-dc3d-4a37-97d7-6f3b9a58175b\",\"type\":\"LinearAxis\"},{\"id\":\"3a18d156-1caf-4284-bd7c-9590ff74f9a1\",\"type\":\"Grid\"},{\"id\":\"403d6003-c9d7-4562-a5f5-b9966129f180\",\"type\":\"LinearAxis\"},{\"id\":\"1b3f9b15-ae45-4dc9-aa2f-ad9cfa4ed678\",\"type\":\"Grid\"},{\"id\":\"6800e349-9ec7-4781-aee0-0c18a51950d5\",\"type\":\"BoxAnnotation\"},{\"id\":\"c0ea5d56-32ba-426a-b3cc-417fb72117f9\",\"type\":\"GlyphRenderer\"},{\"id\":\"23eb5163-1a1f-4627-bf78-a59646a396b3\",\"type\":\"GlyphRenderer\"}],\"title\":{\"id\":\"44adceb0-8d1e-4c46-93e0-13e3e7751441\",\"type\":\"Title\"},\"toolbar\":{\"id\":\"87bec1b7-949b-4398-bd22-b88055a8b201\",\"type\":\"Toolbar\"},\"x_range\":{\"id\":\"077ed798-0c47-4337-afcf-3d2c51742260\",\"type\":\"DataRange1d\"},\"x_scale\":{\"id\":\"a8d6e5a6-3c3b-41f9-b004-437cf92c8dae\",\"type\":\"LinearScale\"},\"y_range\":{\"id\":\"2020734f-75ee-47bc-a822-44b2f8267ff7\",\"type\":\"DataRange1d\"},\"y_scale\":{\"id\":\"dc99e461-1b89-485f-9055-2b4e36f324b4\",\"type\":\"LinearScale\"}},\"id\":\"74662d2d-a3e1-4524-8137-a434485f29fd\",\"subtype\":\"Figure\",\"type\":\"Plot\"},{\"attributes\":{\"fill_alpha\":{\"value\":0.1},\"fill_color\":{\"value\":\"#1f77b4\"},\"line_alpha\":{\"value\":0.1},\"line_color\":{\"value\":\"#1f77b4\"},\"size\":{\"units\":\"screen\",\"value\":16},\"x\":{\"field\":\"x\"},\"y\":{\"field\":\"y\"}},\"id\":\"70a3fea1-f6f2-4f28-95f8-88713dbedf20\",\"type\":\"Square\"},{\"attributes\":{\"plot\":null,\"text\":\"\"},\"id\":\"44adceb0-8d1e-4c46-93e0-13e3e7751441\",\"type\":\"Title\"},{\"attributes\":{\"data_source\":{\"id\":\"d6546317-a88f-4927-88c0-13b313ff7b93\",\"type\":\"ColumnDataSource\"},\"glyph\":{\"id\":\"e36bbb76-4dca-4296-a825-aaf711dcd3a6\",\"type\":\"Square\"},\"hover_glyph\":null,\"muted_glyph\":null,\"nonselection_glyph\":{\"id\":\"70a3fea1-f6f2-4f28-95f8-88713dbedf20\",\"type\":\"Square\"},\"selection_glyph\":null,\"view\":{\"id\":\"e0291537-3858-40df-9ed5-31f7ec6a8455\",\"type\":\"CDSView\"}},\"id\":\"23eb5163-1a1f-4627-bf78-a59646a396b3\",\"type\":\"GlyphRenderer\"},{\"attributes\":{\"callback\":null},\"id\":\"2020734f-75ee-47bc-a822-44b2f8267ff7\",\"type\":\"DataRange1d\"},{\"attributes\":{\"fill_alpha\":{\"value\":0.1},\"fill_color\":{\"value\":\"#1f77b4\"},\"line_alpha\":{\"value\":0.1},\"line_color\":{\"value\":\"#1f77b4\"},\"size\":{\"units\":\"screen\",\"value\":16},\"x\":{\"field\":\"x\"},\"y\":{\"field\":\"y\"}},\"id\":\"70cf3f41-0849-4985-b137-2f707b91f86e\",\"type\":\"Square\"},{\"attributes\":{\"callback\":null},\"id\":\"077ed798-0c47-4337-afcf-3d2c51742260\",\"type\":\"DataRange1d\"},{\"attributes\":{\"fill_color\":{\"value\":\"red\"},\"line_color\":{\"value\":\"red\"},\"size\":{\"units\":\"screen\",\"value\":16},\"x\":{\"field\":\"x\"},\"y\":{\"field\":\"y\"}},\"id\":\"80435289-7dde-4910-bdb6-b02c8ca74084\",\"type\":\"Square\"},{\"attributes\":{},\"id\":\"9f6071d1-4e1d-4162-b3fe-c868c5c2340a\",\"type\":\"WheelZoomTool\"}],\"root_ids\":[\"74662d2d-a3e1-4524-8137-a434485f29fd\"]},\"title\":\"Bokeh Application\",\"version\":\"0.12.15\"}};\n",
       "  var render_items = [{\"docid\":\"fda0ab8c-eaca-4c12-b368-f601c910d576\",\"elementid\":\"bb9227bd-fb12-4a28-976f-1cbefaa15e4a\",\"modelid\":\"74662d2d-a3e1-4524-8137-a434485f29fd\"}];\n",
       "  root.Bokeh.embed.embed_items_notebook(docs_json, render_items);\n",
       "\n",
       "  }\n",
       "  if (root.Bokeh !== undefined) {\n",
       "    embed_document(root);\n",
       "  } else {\n",
       "    var attempts = 0;\n",
       "    var timer = setInterval(function(root) {\n",
       "      if (root.Bokeh !== undefined) {\n",
       "        embed_document(root);\n",
       "        clearInterval(timer);\n",
       "      }\n",
       "      attempts++;\n",
       "      if (attempts > 100) {\n",
       "        console.log(\"Bokeh: ERROR: Unable to run BokehJS code because BokehJS library is missing\")\n",
       "        clearInterval(timer);\n",
       "      }\n",
       "    }, 10, root)\n",
       "  }\n",
       "})(window);"
      ],
      "application/vnd.bokehjs_exec.v0+json": ""
     },
     "metadata": {
      "application/vnd.bokehjs_exec.v0+json": {
       "id": "74662d2d-a3e1-4524-8137-a434485f29fd"
      }
     },
     "output_type": "display_data"
    }
   ],
   "source": [
    "#memvisualisasikan data dengan bokeh menggunakan transparansi alpha = 0.3\n",
    "p.square([2,4,6,8],[4,3,7,1], size = 16, color = 'red', alpha = 0.3)\n",
    "show(p)"
   ]
  },
  {
   "cell_type": "code",
   "execution_count": 43,
   "metadata": {
    "scrolled": false
   },
   "outputs": [
    {
     "data": {
      "text/html": [
       "\n",
       "<div class=\"bk-root\">\n",
       "    <div class=\"bk-plotdiv\" id=\"54135775-0518-4334-8cfc-d29142da2136\"></div>\n",
       "</div>"
      ]
     },
     "metadata": {},
     "output_type": "display_data"
    },
    {
     "data": {
      "application/javascript": [
       "(function(root) {\n",
       "  function embed_document(root) {\n",
       "    \n",
       "  var docs_json = {\"c4269d7f-8bca-44d2-bebe-3a2ad06300d7\":{\"roots\":{\"references\":[{\"attributes\":{\"callback\":null},\"id\":\"5c01a3fe-cc07-4e1a-9134-a5041fcef178\",\"type\":\"DataRange1d\"},{\"attributes\":{\"fill_alpha\":{\"value\":0.1},\"fill_color\":{\"value\":\"#1f77b4\"},\"line_alpha\":{\"value\":0.1},\"line_color\":{\"value\":\"#1f77b4\"},\"size\":{\"field\":\"size\",\"units\":\"screen\"},\"x\":{\"field\":\"x\"},\"y\":{\"field\":\"y\"}},\"id\":\"d9d90f68-362a-489b-a8d5-a9f21b984ff5\",\"type\":\"Square\"},{\"attributes\":{\"bottom_units\":\"screen\",\"fill_alpha\":{\"value\":0.5},\"fill_color\":{\"value\":\"lightgrey\"},\"left_units\":\"screen\",\"level\":\"overlay\",\"line_alpha\":{\"value\":1.0},\"line_color\":{\"value\":\"black\"},\"line_dash\":[4,4],\"line_width\":{\"value\":2},\"plot\":null,\"render_mode\":\"css\",\"right_units\":\"screen\",\"top_units\":\"screen\"},\"id\":\"958b29d6-64e0-4a8e-a891-dc22f523ecb2\",\"type\":\"BoxAnnotation\"},{\"attributes\":{},\"id\":\"e45109f6-e62e-4c26-b6be-6bd4ee9ab592\",\"type\":\"WheelZoomTool\"},{\"attributes\":{\"callback\":null},\"id\":\"38f3d3c5-d44a-4adb-8c5a-4369484c2262\",\"type\":\"DataRange1d\"},{\"attributes\":{},\"id\":\"e9c126b7-198e-4729-8d03-f3b9da6754e3\",\"type\":\"SaveTool\"},{\"attributes\":{},\"id\":\"8f698098-b81e-4277-8004-7fb40df0009c\",\"type\":\"LinearScale\"},{\"attributes\":{},\"id\":\"c3f415d7-e384-404f-80bc-c73fdde2f264\",\"type\":\"BasicTickFormatter\"},{\"attributes\":{},\"id\":\"47fe2c0e-6a70-4943-95c7-75ebae62ae1f\",\"type\":\"BasicTickFormatter\"},{\"attributes\":{\"data_source\":{\"id\":\"03e40c81-400b-42a4-94bb-ef3aaf2ae28e\",\"type\":\"ColumnDataSource\"},\"glyph\":{\"id\":\"7697ebc5-2032-4713-a612-62744d092ff8\",\"type\":\"Square\"},\"hover_glyph\":null,\"muted_glyph\":null,\"nonselection_glyph\":{\"id\":\"d9d90f68-362a-489b-a8d5-a9f21b984ff5\",\"type\":\"Square\"},\"selection_glyph\":null,\"view\":{\"id\":\"76f40208-c252-4e8d-aae0-3087ca441ae6\",\"type\":\"CDSView\"}},\"id\":\"7722a6b4-488f-40a9-b85e-354a67213aa0\",\"type\":\"GlyphRenderer\"},{\"attributes\":{\"dimension\":1,\"plot\":{\"id\":\"6b690ac2-d2b1-48e1-9d05-522b9108a780\",\"subtype\":\"Figure\",\"type\":\"Plot\"},\"ticker\":{\"id\":\"a954e804-e1a9-4133-aef2-acab8c2c8236\",\"type\":\"BasicTicker\"}},\"id\":\"e9356370-ce73-4e89-948a-05f3716bd267\",\"type\":\"Grid\"},{\"attributes\":{\"below\":[{\"id\":\"7f681908-5d67-4ae1-bd1c-e291ac2e58cb\",\"type\":\"LinearAxis\"}],\"left\":[{\"id\":\"de436d82-8844-46dd-8fa2-af92b1a6e516\",\"type\":\"LinearAxis\"}],\"plot_height\":350,\"plot_width\":450,\"renderers\":[{\"id\":\"7f681908-5d67-4ae1-bd1c-e291ac2e58cb\",\"type\":\"LinearAxis\"},{\"id\":\"0ec9b633-c541-49ea-804c-4d07210da5f7\",\"type\":\"Grid\"},{\"id\":\"de436d82-8844-46dd-8fa2-af92b1a6e516\",\"type\":\"LinearAxis\"},{\"id\":\"e9356370-ce73-4e89-948a-05f3716bd267\",\"type\":\"Grid\"},{\"id\":\"958b29d6-64e0-4a8e-a891-dc22f523ecb2\",\"type\":\"BoxAnnotation\"},{\"id\":\"7722a6b4-488f-40a9-b85e-354a67213aa0\",\"type\":\"GlyphRenderer\"}],\"title\":{\"id\":\"695fd88f-7d34-4e4e-8345-db844fbc91e3\",\"type\":\"Title\"},\"toolbar\":{\"id\":\"bf780075-2283-4913-aad2-a14cbc067bb7\",\"type\":\"Toolbar\"},\"x_range\":{\"id\":\"38f3d3c5-d44a-4adb-8c5a-4369484c2262\",\"type\":\"DataRange1d\"},\"x_scale\":{\"id\":\"8f698098-b81e-4277-8004-7fb40df0009c\",\"type\":\"LinearScale\"},\"y_range\":{\"id\":\"5c01a3fe-cc07-4e1a-9134-a5041fcef178\",\"type\":\"DataRange1d\"},\"y_scale\":{\"id\":\"0acacd85-b1f1-44f9-83b1-f096a46469fd\",\"type\":\"LinearScale\"}},\"id\":\"6b690ac2-d2b1-48e1-9d05-522b9108a780\",\"subtype\":\"Figure\",\"type\":\"Plot\"},{\"attributes\":{\"overlay\":{\"id\":\"958b29d6-64e0-4a8e-a891-dc22f523ecb2\",\"type\":\"BoxAnnotation\"}},\"id\":\"8cec5efe-21ef-415d-b7d9-7cccad35ea33\",\"type\":\"BoxZoomTool\"},{\"attributes\":{\"formatter\":{\"id\":\"47fe2c0e-6a70-4943-95c7-75ebae62ae1f\",\"type\":\"BasicTickFormatter\"},\"plot\":{\"id\":\"6b690ac2-d2b1-48e1-9d05-522b9108a780\",\"subtype\":\"Figure\",\"type\":\"Plot\"},\"ticker\":{\"id\":\"06225676-a971-4fbb-a28b-510d68c64fa4\",\"type\":\"BasicTicker\"}},\"id\":\"7f681908-5d67-4ae1-bd1c-e291ac2e58cb\",\"type\":\"LinearAxis\"},{\"attributes\":{\"active_drag\":\"auto\",\"active_inspect\":\"auto\",\"active_scroll\":\"auto\",\"active_tap\":\"auto\",\"tools\":[{\"id\":\"5ea8808b-78cd-45d0-bfb8-738c7bc6508a\",\"type\":\"PanTool\"},{\"id\":\"e45109f6-e62e-4c26-b6be-6bd4ee9ab592\",\"type\":\"WheelZoomTool\"},{\"id\":\"8cec5efe-21ef-415d-b7d9-7cccad35ea33\",\"type\":\"BoxZoomTool\"},{\"id\":\"e9c126b7-198e-4729-8d03-f3b9da6754e3\",\"type\":\"SaveTool\"},{\"id\":\"5bedb09e-0b74-4174-bafd-79a444bdcd47\",\"type\":\"ResetTool\"},{\"id\":\"3f85a8da-2b9e-451e-8a70-1a65d6fe7db8\",\"type\":\"HelpTool\"}]},\"id\":\"bf780075-2283-4913-aad2-a14cbc067bb7\",\"type\":\"Toolbar\"},{\"attributes\":{\"source\":{\"id\":\"03e40c81-400b-42a4-94bb-ef3aaf2ae28e\",\"type\":\"ColumnDataSource\"}},\"id\":\"76f40208-c252-4e8d-aae0-3087ca441ae6\",\"type\":\"CDSView\"},{\"attributes\":{},\"id\":\"5ea8808b-78cd-45d0-bfb8-738c7bc6508a\",\"type\":\"PanTool\"},{\"attributes\":{},\"id\":\"3f85a8da-2b9e-451e-8a70-1a65d6fe7db8\",\"type\":\"HelpTool\"},{\"attributes\":{\"fill_alpha\":{\"value\":0.3},\"fill_color\":{\"value\":\"red\"},\"line_alpha\":{\"value\":0.3},\"line_color\":{\"value\":\"red\"},\"size\":{\"field\":\"size\",\"units\":\"screen\"},\"x\":{\"field\":\"x\"},\"y\":{\"field\":\"y\"}},\"id\":\"7697ebc5-2032-4713-a612-62744d092ff8\",\"type\":\"Square\"},{\"attributes\":{},\"id\":\"06225676-a971-4fbb-a28b-510d68c64fa4\",\"type\":\"BasicTicker\"},{\"attributes\":{\"plot\":{\"id\":\"6b690ac2-d2b1-48e1-9d05-522b9108a780\",\"subtype\":\"Figure\",\"type\":\"Plot\"},\"ticker\":{\"id\":\"06225676-a971-4fbb-a28b-510d68c64fa4\",\"type\":\"BasicTicker\"}},\"id\":\"0ec9b633-c541-49ea-804c-4d07210da5f7\",\"type\":\"Grid\"},{\"attributes\":{\"formatter\":{\"id\":\"c3f415d7-e384-404f-80bc-c73fdde2f264\",\"type\":\"BasicTickFormatter\"},\"plot\":{\"id\":\"6b690ac2-d2b1-48e1-9d05-522b9108a780\",\"subtype\":\"Figure\",\"type\":\"Plot\"},\"ticker\":{\"id\":\"a954e804-e1a9-4133-aef2-acab8c2c8236\",\"type\":\"BasicTicker\"}},\"id\":\"de436d82-8844-46dd-8fa2-af92b1a6e516\",\"type\":\"LinearAxis\"},{\"attributes\":{},\"id\":\"0acacd85-b1f1-44f9-83b1-f096a46469fd\",\"type\":\"LinearScale\"},{\"attributes\":{\"plot\":null,\"text\":\"\"},\"id\":\"695fd88f-7d34-4e4e-8345-db844fbc91e3\",\"type\":\"Title\"},{\"attributes\":{\"callback\":null,\"column_names\":[\"x\",\"y\",\"size\"],\"data\":{\"size\":[6,10,14,18],\"x\":[2,4,6,8],\"y\":[4,3,7,1]},\"selected\":null,\"selection_policy\":null},\"id\":\"03e40c81-400b-42a4-94bb-ef3aaf2ae28e\",\"type\":\"ColumnDataSource\"},{\"attributes\":{},\"id\":\"a954e804-e1a9-4133-aef2-acab8c2c8236\",\"type\":\"BasicTicker\"},{\"attributes\":{},\"id\":\"5bedb09e-0b74-4174-bafd-79a444bdcd47\",\"type\":\"ResetTool\"}],\"root_ids\":[\"6b690ac2-d2b1-48e1-9d05-522b9108a780\"]},\"title\":\"Bokeh Application\",\"version\":\"0.12.15\"}};\n",
       "  var render_items = [{\"docid\":\"c4269d7f-8bca-44d2-bebe-3a2ad06300d7\",\"elementid\":\"54135775-0518-4334-8cfc-d29142da2136\",\"modelid\":\"6b690ac2-d2b1-48e1-9d05-522b9108a780\"}];\n",
       "  root.Bokeh.embed.embed_items_notebook(docs_json, render_items);\n",
       "\n",
       "  }\n",
       "  if (root.Bokeh !== undefined) {\n",
       "    embed_document(root);\n",
       "  } else {\n",
       "    var attempts = 0;\n",
       "    var timer = setInterval(function(root) {\n",
       "      if (root.Bokeh !== undefined) {\n",
       "        embed_document(root);\n",
       "        clearInterval(timer);\n",
       "      }\n",
       "      attempts++;\n",
       "      if (attempts > 100) {\n",
       "        console.log(\"Bokeh: ERROR: Unable to run BokehJS code because BokehJS library is missing\")\n",
       "        clearInterval(timer);\n",
       "      }\n",
       "    }, 10, root)\n",
       "  }\n",
       "})(window);"
      ],
      "application/vnd.bokehjs_exec.v0+json": ""
     },
     "metadata": {
      "application/vnd.bokehjs_exec.v0+json": {
       "id": "6b690ac2-d2b1-48e1-9d05-522b9108a780"
      }
     },
     "output_type": "display_data"
    }
   ],
   "source": [
    "#memvisualisasikan data dengan bokeh menggunakan size = [6,10,14,18]\n",
    "#membuat ukuran masing-masing untuk data point\n",
    "a = figure(plot_width = 450, plot_height = 350)\n",
    "\n",
    "a.square([2,4,6,8],[4,3,7,1], size = [6,10,14,18], color = 'red', alpha = 0.3)\n",
    "show(a)"
   ]
  },
  {
   "cell_type": "code",
   "execution_count": 44,
   "metadata": {
    "scrolled": false
   },
   "outputs": [
    {
     "data": {
      "text/html": [
       "\n",
       "<div class=\"bk-root\">\n",
       "    <div class=\"bk-plotdiv\" id=\"31ac2f07-cd3c-41d7-9950-26d4ef787274\"></div>\n",
       "</div>"
      ]
     },
     "metadata": {},
     "output_type": "display_data"
    },
    {
     "data": {
      "application/javascript": [
       "(function(root) {\n",
       "  function embed_document(root) {\n",
       "    \n",
       "  var docs_json = {\"74ef55a5-2972-4e99-b2c5-16c0b5be4210\":{\"roots\":{\"references\":[{\"attributes\":{\"overlay\":{\"id\":\"0b4f7095-817a-48b8-89b8-fd2f70adb888\",\"type\":\"BoxAnnotation\"}},\"id\":\"49c0ec46-2888-4b0e-907a-e0f19d17c6ec\",\"type\":\"BoxZoomTool\"},{\"attributes\":{},\"id\":\"bf02d50e-d50b-4661-b925-796dc6de2ab8\",\"type\":\"WheelZoomTool\"},{\"attributes\":{},\"id\":\"1d9253a7-51e6-41df-9e8c-7a162b7d2b44\",\"type\":\"BasicTickFormatter\"},{\"attributes\":{\"formatter\":{\"id\":\"1d9253a7-51e6-41df-9e8c-7a162b7d2b44\",\"type\":\"BasicTickFormatter\"},\"plot\":{\"id\":\"a0e82c0e-70c5-4688-8272-39b54a95e4bb\",\"subtype\":\"Figure\",\"type\":\"Plot\"},\"ticker\":{\"id\":\"62b3a2d0-3198-4b3c-9b78-faae43f08db6\",\"type\":\"BasicTicker\"}},\"id\":\"e58c3b2c-2e7f-4973-8e59-05997461be78\",\"type\":\"LinearAxis\"},{\"attributes\":{},\"id\":\"0a13666c-d4d5-458e-b380-d44c084362fe\",\"type\":\"BasicTickFormatter\"},{\"attributes\":{\"bottom_units\":\"screen\",\"fill_alpha\":{\"value\":0.5},\"fill_color\":{\"value\":\"lightgrey\"},\"left_units\":\"screen\",\"level\":\"overlay\",\"line_alpha\":{\"value\":1.0},\"line_color\":{\"value\":\"black\"},\"line_dash\":[4,4],\"line_width\":{\"value\":2},\"plot\":null,\"render_mode\":\"css\",\"right_units\":\"screen\",\"top_units\":\"screen\"},\"id\":\"0b4f7095-817a-48b8-89b8-fd2f70adb888\",\"type\":\"BoxAnnotation\"},{\"attributes\":{\"plot\":{\"id\":\"a0e82c0e-70c5-4688-8272-39b54a95e4bb\",\"subtype\":\"Figure\",\"type\":\"Plot\"},\"ticker\":{\"id\":\"f243217b-74fc-4a9e-8370-f0ab8506310a\",\"type\":\"BasicTicker\"}},\"id\":\"cb4967d3-5b9a-4000-b572-6976a6b320e1\",\"type\":\"Grid\"},{\"attributes\":{},\"id\":\"f408d52c-c82d-4747-8641-6b7adec8f9b4\",\"type\":\"PanTool\"},{\"attributes\":{},\"id\":\"c083c7c6-5a25-4945-997b-29d46645bbf7\",\"type\":\"HelpTool\"},{\"attributes\":{},\"id\":\"f243217b-74fc-4a9e-8370-f0ab8506310a\",\"type\":\"BasicTicker\"},{\"attributes\":{},\"id\":\"c5d5ed95-a149-487a-82e9-c97098be0341\",\"type\":\"LinearScale\"},{\"attributes\":{\"formatter\":{\"id\":\"0a13666c-d4d5-458e-b380-d44c084362fe\",\"type\":\"BasicTickFormatter\"},\"plot\":{\"id\":\"a0e82c0e-70c5-4688-8272-39b54a95e4bb\",\"subtype\":\"Figure\",\"type\":\"Plot\"},\"ticker\":{\"id\":\"f243217b-74fc-4a9e-8370-f0ab8506310a\",\"type\":\"BasicTicker\"}},\"id\":\"ca36817a-d08b-46f4-8226-d3c2aa07c4af\",\"type\":\"LinearAxis\"},{\"attributes\":{\"plot\":null,\"text\":\"\"},\"id\":\"861ced23-377c-497e-b24b-cc8eb7cc2c61\",\"type\":\"Title\"},{\"attributes\":{\"source\":{\"id\":\"ac5ad5da-86f2-4d6d-8570-80fc883dbf91\",\"type\":\"ColumnDataSource\"}},\"id\":\"88858f5e-f741-4ea7-a747-639d4af86565\",\"type\":\"CDSView\"},{\"attributes\":{},\"id\":\"36abc60f-93d2-4223-a24c-542c29d281c2\",\"type\":\"LinearScale\"},{\"attributes\":{\"callback\":null},\"id\":\"7e409365-f1d4-4371-aa9b-248f07ee4c03\",\"type\":\"DataRange1d\"},{\"attributes\":{},\"id\":\"04b003a7-0cfa-4885-833c-e77a56aa6926\",\"type\":\"ResetTool\"},{\"attributes\":{\"callback\":null},\"id\":\"af65badd-c536-46ec-9fbf-8705a7455097\",\"type\":\"DataRange1d\"},{\"attributes\":{\"data_source\":{\"id\":\"ac5ad5da-86f2-4d6d-8570-80fc883dbf91\",\"type\":\"ColumnDataSource\"},\"glyph\":{\"id\":\"2ec60215-ee45-4194-b873-1faf9d07b3aa\",\"type\":\"Square\"},\"hover_glyph\":null,\"muted_glyph\":null,\"nonselection_glyph\":{\"id\":\"a69c978f-9634-431c-ae91-a481e82fc809\",\"type\":\"Square\"},\"selection_glyph\":null,\"view\":{\"id\":\"88858f5e-f741-4ea7-a747-639d4af86565\",\"type\":\"CDSView\"}},\"id\":\"db934623-c422-4241-8185-0b28a9fb5e78\",\"type\":\"GlyphRenderer\"},{\"attributes\":{},\"id\":\"a981de13-0968-499d-949d-4740110ecadd\",\"type\":\"SaveTool\"},{\"attributes\":{\"active_drag\":\"auto\",\"active_inspect\":\"auto\",\"active_scroll\":\"auto\",\"active_tap\":\"auto\",\"tools\":[{\"id\":\"f408d52c-c82d-4747-8641-6b7adec8f9b4\",\"type\":\"PanTool\"},{\"id\":\"bf02d50e-d50b-4661-b925-796dc6de2ab8\",\"type\":\"WheelZoomTool\"},{\"id\":\"49c0ec46-2888-4b0e-907a-e0f19d17c6ec\",\"type\":\"BoxZoomTool\"},{\"id\":\"a981de13-0968-499d-949d-4740110ecadd\",\"type\":\"SaveTool\"},{\"id\":\"04b003a7-0cfa-4885-833c-e77a56aa6926\",\"type\":\"ResetTool\"},{\"id\":\"c083c7c6-5a25-4945-997b-29d46645bbf7\",\"type\":\"HelpTool\"}]},\"id\":\"8300dadc-7a55-42ac-b1ed-d8f2d52a35f7\",\"type\":\"Toolbar\"},{\"attributes\":{\"fill_alpha\":{\"value\":0.3},\"fill_color\":{\"value\":\"red\"},\"line_alpha\":{\"value\":0.3},\"line_color\":{\"value\":\"red\"},\"size\":{\"field\":\"size\",\"units\":\"screen\"},\"x\":{\"field\":\"x\"},\"y\":{\"field\":\"y\"}},\"id\":\"2ec60215-ee45-4194-b873-1faf9d07b3aa\",\"type\":\"Square\"},{\"attributes\":{\"callback\":null,\"column_names\":[\"x\",\"y\",\"size\"],\"data\":{\"size\":[4,8,12,16],\"x\":[2,4,6,8],\"y\":[4,3,7,1]},\"selected\":null,\"selection_policy\":null},\"id\":\"ac5ad5da-86f2-4d6d-8570-80fc883dbf91\",\"type\":\"ColumnDataSource\"},{\"attributes\":{},\"id\":\"62b3a2d0-3198-4b3c-9b78-faae43f08db6\",\"type\":\"BasicTicker\"},{\"attributes\":{\"fill_alpha\":{\"value\":0.1},\"fill_color\":{\"value\":\"#1f77b4\"},\"line_alpha\":{\"value\":0.1},\"line_color\":{\"value\":\"#1f77b4\"},\"size\":{\"field\":\"size\",\"units\":\"screen\"},\"x\":{\"field\":\"x\"},\"y\":{\"field\":\"y\"}},\"id\":\"a69c978f-9634-431c-ae91-a481e82fc809\",\"type\":\"Square\"},{\"attributes\":{\"below\":[{\"id\":\"ca36817a-d08b-46f4-8226-d3c2aa07c4af\",\"type\":\"LinearAxis\"}],\"left\":[{\"id\":\"e58c3b2c-2e7f-4973-8e59-05997461be78\",\"type\":\"LinearAxis\"}],\"plot_height\":350,\"plot_width\":450,\"renderers\":[{\"id\":\"ca36817a-d08b-46f4-8226-d3c2aa07c4af\",\"type\":\"LinearAxis\"},{\"id\":\"cb4967d3-5b9a-4000-b572-6976a6b320e1\",\"type\":\"Grid\"},{\"id\":\"e58c3b2c-2e7f-4973-8e59-05997461be78\",\"type\":\"LinearAxis\"},{\"id\":\"910bdd94-6791-4ca0-a204-847da942b4f0\",\"type\":\"Grid\"},{\"id\":\"0b4f7095-817a-48b8-89b8-fd2f70adb888\",\"type\":\"BoxAnnotation\"},{\"id\":\"db934623-c422-4241-8185-0b28a9fb5e78\",\"type\":\"GlyphRenderer\"}],\"title\":{\"id\":\"861ced23-377c-497e-b24b-cc8eb7cc2c61\",\"type\":\"Title\"},\"toolbar\":{\"id\":\"8300dadc-7a55-42ac-b1ed-d8f2d52a35f7\",\"type\":\"Toolbar\"},\"x_range\":{\"id\":\"7e409365-f1d4-4371-aa9b-248f07ee4c03\",\"type\":\"DataRange1d\"},\"x_scale\":{\"id\":\"36abc60f-93d2-4223-a24c-542c29d281c2\",\"type\":\"LinearScale\"},\"y_range\":{\"id\":\"af65badd-c536-46ec-9fbf-8705a7455097\",\"type\":\"DataRange1d\"},\"y_scale\":{\"id\":\"c5d5ed95-a149-487a-82e9-c97098be0341\",\"type\":\"LinearScale\"}},\"id\":\"a0e82c0e-70c5-4688-8272-39b54a95e4bb\",\"subtype\":\"Figure\",\"type\":\"Plot\"},{\"attributes\":{\"dimension\":1,\"plot\":{\"id\":\"a0e82c0e-70c5-4688-8272-39b54a95e4bb\",\"subtype\":\"Figure\",\"type\":\"Plot\"},\"ticker\":{\"id\":\"62b3a2d0-3198-4b3c-9b78-faae43f08db6\",\"type\":\"BasicTicker\"}},\"id\":\"910bdd94-6791-4ca0-a204-847da942b4f0\",\"type\":\"Grid\"}],\"root_ids\":[\"a0e82c0e-70c5-4688-8272-39b54a95e4bb\"]},\"title\":\"Bokeh Application\",\"version\":\"0.12.15\"}};\n",
       "  var render_items = [{\"docid\":\"74ef55a5-2972-4e99-b2c5-16c0b5be4210\",\"elementid\":\"31ac2f07-cd3c-41d7-9950-26d4ef787274\",\"modelid\":\"a0e82c0e-70c5-4688-8272-39b54a95e4bb\"}];\n",
       "  root.Bokeh.embed.embed_items_notebook(docs_json, render_items);\n",
       "\n",
       "  }\n",
       "  if (root.Bokeh !== undefined) {\n",
       "    embed_document(root);\n",
       "  } else {\n",
       "    var attempts = 0;\n",
       "    var timer = setInterval(function(root) {\n",
       "      if (root.Bokeh !== undefined) {\n",
       "        embed_document(root);\n",
       "        clearInterval(timer);\n",
       "      }\n",
       "      attempts++;\n",
       "      if (attempts > 100) {\n",
       "        console.log(\"Bokeh: ERROR: Unable to run BokehJS code because BokehJS library is missing\")\n",
       "        clearInterval(timer);\n",
       "      }\n",
       "    }, 10, root)\n",
       "  }\n",
       "})(window);"
      ],
      "application/vnd.bokehjs_exec.v0+json": ""
     },
     "metadata": {
      "application/vnd.bokehjs_exec.v0+json": {
       "id": "a0e82c0e-70c5-4688-8272-39b54a95e4bb"
      }
     },
     "output_type": "display_data"
    }
   ],
   "source": [
    "#membuat bingkai\n",
    "x = figure(plot_width = 450, plot_height = 350)\n",
    "\n",
    "#memvisualisasikan data point dalam bentuk square dengan ukuran size = [4,8,12,16]\n",
    "x.square([2,4,6,8],[4,3,7,1], size = [4,8,12,16], color = 'red', alpha = 0.3)\n",
    "show(x)"
   ]
  },
  {
   "cell_type": "code",
   "execution_count": 45,
   "metadata": {},
   "outputs": [
    {
     "data": {
      "text/html": [
       "\n",
       "<div class=\"bk-root\">\n",
       "    <div class=\"bk-plotdiv\" id=\"3a57a52d-f58c-45a7-8627-9b53057e8674\"></div>\n",
       "</div>"
      ]
     },
     "metadata": {},
     "output_type": "display_data"
    },
    {
     "data": {
      "application/javascript": [
       "(function(root) {\n",
       "  function embed_document(root) {\n",
       "    \n",
       "  var docs_json = {\"d775034d-d1c4-4753-b48a-80feba3ca6b5\":{\"roots\":{\"references\":[{\"attributes\":{},\"id\":\"3fa30b5d-fdc1-4614-a472-583c82f7b03c\",\"type\":\"BasicTickFormatter\"},{\"attributes\":{\"fill_alpha\":{\"value\":0.1},\"fill_color\":{\"value\":\"#1f77b4\"},\"line_alpha\":{\"value\":0.1},\"line_color\":{\"value\":\"#1f77b4\"},\"size\":{\"field\":\"size\",\"units\":\"screen\"},\"x\":{\"field\":\"x\"},\"y\":{\"field\":\"y\"}},\"id\":\"4eb8ee55-40ce-4617-adcf-5782e31fe5de\",\"type\":\"Diamond\"},{\"attributes\":{\"callback\":null},\"id\":\"94e03a49-58dd-4472-a95e-52d2d96db883\",\"type\":\"DataRange1d\"},{\"attributes\":{\"dimension\":1,\"plot\":{\"id\":\"d72b882a-03c7-416b-b751-143bd4a582cf\",\"subtype\":\"Figure\",\"type\":\"Plot\"},\"ticker\":{\"id\":\"e3654435-1ac7-4287-80a6-9b64367ba093\",\"type\":\"BasicTicker\"}},\"id\":\"e04d054a-c02b-4a8b-b815-3560a025bc6e\",\"type\":\"Grid\"},{\"attributes\":{\"data_source\":{\"id\":\"a297ce74-5a9e-4c72-a369-0fe77c533427\",\"type\":\"ColumnDataSource\"},\"glyph\":{\"id\":\"b8ec3e98-abad-4d25-9202-9b865ceddad6\",\"type\":\"Diamond\"},\"hover_glyph\":null,\"muted_glyph\":null,\"nonselection_glyph\":{\"id\":\"4eb8ee55-40ce-4617-adcf-5782e31fe5de\",\"type\":\"Diamond\"},\"selection_glyph\":null,\"view\":{\"id\":\"850497d8-5965-42ce-99e5-f8fc5f50c0b9\",\"type\":\"CDSView\"}},\"id\":\"76051759-0493-4297-bf56-880afbbecfcd\",\"type\":\"GlyphRenderer\"},{\"attributes\":{},\"id\":\"55945551-c27d-462c-b566-12ec04a9dc9f\",\"type\":\"BasicTickFormatter\"},{\"attributes\":{},\"id\":\"ae198ad4-2732-4c0e-add9-a25cb6fa26ec\",\"type\":\"WheelZoomTool\"},{\"attributes\":{\"fill_alpha\":{\"value\":0.3},\"fill_color\":{\"value\":\"red\"},\"line_alpha\":{\"value\":0.3},\"line_color\":{\"value\":\"red\"},\"size\":{\"field\":\"size\",\"units\":\"screen\"},\"x\":{\"field\":\"x\"},\"y\":{\"field\":\"y\"}},\"id\":\"b8ec3e98-abad-4d25-9202-9b865ceddad6\",\"type\":\"Diamond\"},{\"attributes\":{\"active_drag\":\"auto\",\"active_inspect\":\"auto\",\"active_scroll\":\"auto\",\"active_tap\":\"auto\",\"tools\":[{\"id\":\"98c6f784-61a3-4d52-a033-57a5c818c011\",\"type\":\"PanTool\"},{\"id\":\"ae198ad4-2732-4c0e-add9-a25cb6fa26ec\",\"type\":\"WheelZoomTool\"},{\"id\":\"644ecd6b-fb21-467f-8623-f0cd985239f2\",\"type\":\"BoxZoomTool\"},{\"id\":\"6e8fda28-d5e6-4214-a670-1935680c8965\",\"type\":\"SaveTool\"},{\"id\":\"34cef0ab-679f-4e39-a54c-999a0a3eeaea\",\"type\":\"ResetTool\"},{\"id\":\"ae0a0212-d3fd-4a15-be6c-8a20376fabed\",\"type\":\"HelpTool\"}]},\"id\":\"311b2369-c09b-45bb-a4ef-614e5f45fbe5\",\"type\":\"Toolbar\"},{\"attributes\":{\"plot\":null,\"text\":\"\"},\"id\":\"40585a65-071e-48f7-8dda-04bcaeb830d4\",\"type\":\"Title\"},{\"attributes\":{\"source\":{\"id\":\"a297ce74-5a9e-4c72-a369-0fe77c533427\",\"type\":\"ColumnDataSource\"}},\"id\":\"850497d8-5965-42ce-99e5-f8fc5f50c0b9\",\"type\":\"CDSView\"},{\"attributes\":{\"overlay\":{\"id\":\"4d9d64d7-76d3-4c39-9137-65dab4d23fd6\",\"type\":\"BoxAnnotation\"}},\"id\":\"644ecd6b-fb21-467f-8623-f0cd985239f2\",\"type\":\"BoxZoomTool\"},{\"attributes\":{},\"id\":\"b69cf1cf-6dc6-45aa-b8da-077f9f03419a\",\"type\":\"BasicTicker\"},{\"attributes\":{},\"id\":\"6e8fda28-d5e6-4214-a670-1935680c8965\",\"type\":\"SaveTool\"},{\"attributes\":{\"callback\":null},\"id\":\"ffd9114e-8295-42d2-8216-5c289a91f90d\",\"type\":\"DataRange1d\"},{\"attributes\":{},\"id\":\"63562793-21ce-42e3-b216-d239d818c2dc\",\"type\":\"LinearScale\"},{\"attributes\":{\"below\":[{\"id\":\"4724e111-4009-45fc-b9f2-3fa0966ba2f7\",\"type\":\"LinearAxis\"}],\"left\":[{\"id\":\"6b040ae2-628b-406c-9101-6d09ac95832f\",\"type\":\"LinearAxis\"}],\"plot_height\":350,\"plot_width\":450,\"renderers\":[{\"id\":\"4724e111-4009-45fc-b9f2-3fa0966ba2f7\",\"type\":\"LinearAxis\"},{\"id\":\"ac0a9fa0-b6d2-41e4-9e63-bb946fb512fb\",\"type\":\"Grid\"},{\"id\":\"6b040ae2-628b-406c-9101-6d09ac95832f\",\"type\":\"LinearAxis\"},{\"id\":\"e04d054a-c02b-4a8b-b815-3560a025bc6e\",\"type\":\"Grid\"},{\"id\":\"4d9d64d7-76d3-4c39-9137-65dab4d23fd6\",\"type\":\"BoxAnnotation\"},{\"id\":\"76051759-0493-4297-bf56-880afbbecfcd\",\"type\":\"GlyphRenderer\"}],\"title\":{\"id\":\"40585a65-071e-48f7-8dda-04bcaeb830d4\",\"type\":\"Title\"},\"toolbar\":{\"id\":\"311b2369-c09b-45bb-a4ef-614e5f45fbe5\",\"type\":\"Toolbar\"},\"x_range\":{\"id\":\"94e03a49-58dd-4472-a95e-52d2d96db883\",\"type\":\"DataRange1d\"},\"x_scale\":{\"id\":\"5ed22400-cbd4-411f-899b-a318e9edcbab\",\"type\":\"LinearScale\"},\"y_range\":{\"id\":\"ffd9114e-8295-42d2-8216-5c289a91f90d\",\"type\":\"DataRange1d\"},\"y_scale\":{\"id\":\"63562793-21ce-42e3-b216-d239d818c2dc\",\"type\":\"LinearScale\"}},\"id\":\"d72b882a-03c7-416b-b751-143bd4a582cf\",\"subtype\":\"Figure\",\"type\":\"Plot\"},{\"attributes\":{\"bottom_units\":\"screen\",\"fill_alpha\":{\"value\":0.5},\"fill_color\":{\"value\":\"lightgrey\"},\"left_units\":\"screen\",\"level\":\"overlay\",\"line_alpha\":{\"value\":1.0},\"line_color\":{\"value\":\"black\"},\"line_dash\":[4,4],\"line_width\":{\"value\":2},\"plot\":null,\"render_mode\":\"css\",\"right_units\":\"screen\",\"top_units\":\"screen\"},\"id\":\"4d9d64d7-76d3-4c39-9137-65dab4d23fd6\",\"type\":\"BoxAnnotation\"},{\"attributes\":{\"formatter\":{\"id\":\"3fa30b5d-fdc1-4614-a472-583c82f7b03c\",\"type\":\"BasicTickFormatter\"},\"plot\":{\"id\":\"d72b882a-03c7-416b-b751-143bd4a582cf\",\"subtype\":\"Figure\",\"type\":\"Plot\"},\"ticker\":{\"id\":\"b69cf1cf-6dc6-45aa-b8da-077f9f03419a\",\"type\":\"BasicTicker\"}},\"id\":\"4724e111-4009-45fc-b9f2-3fa0966ba2f7\",\"type\":\"LinearAxis\"},{\"attributes\":{\"formatter\":{\"id\":\"55945551-c27d-462c-b566-12ec04a9dc9f\",\"type\":\"BasicTickFormatter\"},\"plot\":{\"id\":\"d72b882a-03c7-416b-b751-143bd4a582cf\",\"subtype\":\"Figure\",\"type\":\"Plot\"},\"ticker\":{\"id\":\"e3654435-1ac7-4287-80a6-9b64367ba093\",\"type\":\"BasicTicker\"}},\"id\":\"6b040ae2-628b-406c-9101-6d09ac95832f\",\"type\":\"LinearAxis\"},{\"attributes\":{},\"id\":\"34cef0ab-679f-4e39-a54c-999a0a3eeaea\",\"type\":\"ResetTool\"},{\"attributes\":{},\"id\":\"ae0a0212-d3fd-4a15-be6c-8a20376fabed\",\"type\":\"HelpTool\"},{\"attributes\":{\"plot\":{\"id\":\"d72b882a-03c7-416b-b751-143bd4a582cf\",\"subtype\":\"Figure\",\"type\":\"Plot\"},\"ticker\":{\"id\":\"b69cf1cf-6dc6-45aa-b8da-077f9f03419a\",\"type\":\"BasicTicker\"}},\"id\":\"ac0a9fa0-b6d2-41e4-9e63-bb946fb512fb\",\"type\":\"Grid\"},{\"attributes\":{},\"id\":\"98c6f784-61a3-4d52-a033-57a5c818c011\",\"type\":\"PanTool\"},{\"attributes\":{\"callback\":null,\"column_names\":[\"x\",\"y\",\"size\"],\"data\":{\"size\":[6,10,14,18],\"x\":[2,4,6,8],\"y\":[4,3,7,1]},\"selected\":null,\"selection_policy\":null},\"id\":\"a297ce74-5a9e-4c72-a369-0fe77c533427\",\"type\":\"ColumnDataSource\"},{\"attributes\":{},\"id\":\"e3654435-1ac7-4287-80a6-9b64367ba093\",\"type\":\"BasicTicker\"},{\"attributes\":{},\"id\":\"5ed22400-cbd4-411f-899b-a318e9edcbab\",\"type\":\"LinearScale\"}],\"root_ids\":[\"d72b882a-03c7-416b-b751-143bd4a582cf\"]},\"title\":\"Bokeh Application\",\"version\":\"0.12.15\"}};\n",
       "  var render_items = [{\"docid\":\"d775034d-d1c4-4753-b48a-80feba3ca6b5\",\"elementid\":\"3a57a52d-f58c-45a7-8627-9b53057e8674\",\"modelid\":\"d72b882a-03c7-416b-b751-143bd4a582cf\"}];\n",
       "  root.Bokeh.embed.embed_items_notebook(docs_json, render_items);\n",
       "\n",
       "  }\n",
       "  if (root.Bokeh !== undefined) {\n",
       "    embed_document(root);\n",
       "  } else {\n",
       "    var attempts = 0;\n",
       "    var timer = setInterval(function(root) {\n",
       "      if (root.Bokeh !== undefined) {\n",
       "        embed_document(root);\n",
       "        clearInterval(timer);\n",
       "      }\n",
       "      attempts++;\n",
       "      if (attempts > 100) {\n",
       "        console.log(\"Bokeh: ERROR: Unable to run BokehJS code because BokehJS library is missing\")\n",
       "        clearInterval(timer);\n",
       "      }\n",
       "    }, 10, root)\n",
       "  }\n",
       "})(window);"
      ],
      "application/vnd.bokehjs_exec.v0+json": ""
     },
     "metadata": {
      "application/vnd.bokehjs_exec.v0+json": {
       "id": "d72b882a-03c7-416b-b751-143bd4a582cf"
      }
     },
     "output_type": "display_data"
    }
   ],
   "source": [
    "#membuat bingkai\n",
    "x = figure(plot_width = 450, plot_height = 350)\n",
    "\n",
    "#memvisualisasikan data point dalam bentuk diamond dengan ukuran size = [6,10,14,18]\n",
    "x.diamond([2,4,6,8],[4,3,7,1], size = [6,10,14,18], color = 'red', alpha = 0.3)\n",
    "show(x)"
   ]
  },
  {
   "cell_type": "code",
   "execution_count": 46,
   "metadata": {},
   "outputs": [
    {
     "data": {
      "text/html": [
       "\n",
       "<div class=\"bk-root\">\n",
       "    <div class=\"bk-plotdiv\" id=\"58ff2bea-1a58-4da4-9d6f-d5b13c2b996c\"></div>\n",
       "</div>"
      ]
     },
     "metadata": {},
     "output_type": "display_data"
    },
    {
     "data": {
      "application/javascript": [
       "(function(root) {\n",
       "  function embed_document(root) {\n",
       "    \n",
       "  var docs_json = {\"533aebe7-ab12-4ede-8684-91850ad0418c\":{\"roots\":{\"references\":[{\"attributes\":{},\"id\":\"529e16cb-5976-47d1-9e3f-bdcb3f94e464\",\"type\":\"BasicTickFormatter\"},{\"attributes\":{},\"id\":\"c9e1a4e2-383c-487e-b21f-bbfececbaa37\",\"type\":\"BasicTicker\"},{\"attributes\":{\"below\":[{\"id\":\"964c87ef-060c-43e2-af10-e346187fcb1b\",\"type\":\"LinearAxis\"}],\"left\":[{\"id\":\"8c63a193-2a30-4a54-b6c4-1d7073732d36\",\"type\":\"LinearAxis\"}],\"plot_height\":350,\"plot_width\":450,\"renderers\":[{\"id\":\"964c87ef-060c-43e2-af10-e346187fcb1b\",\"type\":\"LinearAxis\"},{\"id\":\"f2bf109f-0bcd-44e3-8dc1-745c88730689\",\"type\":\"Grid\"},{\"id\":\"8c63a193-2a30-4a54-b6c4-1d7073732d36\",\"type\":\"LinearAxis\"},{\"id\":\"b93c20c1-56fc-498f-aae1-d833dce80b48\",\"type\":\"Grid\"},{\"id\":\"755dfed3-f12b-468b-8bdb-20c1e7ae9f82\",\"type\":\"BoxAnnotation\"},{\"id\":\"8745aab7-f1b3-4a25-bb08-ff2a69ebcd67\",\"type\":\"GlyphRenderer\"}],\"title\":{\"id\":\"e272ceb8-cb45-4907-99bc-c5868d27257f\",\"type\":\"Title\"},\"toolbar\":{\"id\":\"17042ee5-b0b7-4fc9-bb81-b1e7833b230d\",\"type\":\"Toolbar\"},\"x_range\":{\"id\":\"3d7ed0b9-66f9-4802-a42a-b19533721ee2\",\"type\":\"DataRange1d\"},\"x_scale\":{\"id\":\"5ae4ecb3-9389-4ea7-9192-95c8a11be13d\",\"type\":\"LinearScale\"},\"y_range\":{\"id\":\"8dbd6082-9628-43bf-9fe8-14f01b6973aa\",\"type\":\"DataRange1d\"},\"y_scale\":{\"id\":\"f32c01b8-bf39-4549-b6a1-24119ff49d4d\",\"type\":\"LinearScale\"}},\"id\":\"a591530c-0aa4-42b4-bf2f-e0b03fef73c5\",\"subtype\":\"Figure\",\"type\":\"Plot\"},{\"attributes\":{\"fill_color\":{\"value\":\"red\"},\"line_color\":{\"value\":\"red\"},\"size\":{\"field\":\"size\",\"units\":\"screen\"},\"x\":{\"field\":\"x\"},\"y\":{\"field\":\"y\"}},\"id\":\"1181aadb-f371-4e4b-8918-8802020f51cf\",\"type\":\"Cross\"},{\"attributes\":{\"formatter\":{\"id\":\"529e16cb-5976-47d1-9e3f-bdcb3f94e464\",\"type\":\"BasicTickFormatter\"},\"plot\":{\"id\":\"a591530c-0aa4-42b4-bf2f-e0b03fef73c5\",\"subtype\":\"Figure\",\"type\":\"Plot\"},\"ticker\":{\"id\":\"24203567-3318-4dc9-b55c-36ae077bf060\",\"type\":\"BasicTicker\"}},\"id\":\"8c63a193-2a30-4a54-b6c4-1d7073732d36\",\"type\":\"LinearAxis\"},{\"attributes\":{\"overlay\":{\"id\":\"755dfed3-f12b-468b-8bdb-20c1e7ae9f82\",\"type\":\"BoxAnnotation\"}},\"id\":\"3fb20c7c-b414-4da2-8d8f-412583f089ac\",\"type\":\"BoxZoomTool\"},{\"attributes\":{\"fill_alpha\":{\"value\":0.1},\"fill_color\":{\"value\":\"#1f77b4\"},\"line_alpha\":{\"value\":0.1},\"line_color\":{\"value\":\"#1f77b4\"},\"size\":{\"field\":\"size\",\"units\":\"screen\"},\"x\":{\"field\":\"x\"},\"y\":{\"field\":\"y\"}},\"id\":\"26e2c415-f93d-4891-b18d-39f96428d5d5\",\"type\":\"Cross\"},{\"attributes\":{},\"id\":\"f32c01b8-bf39-4549-b6a1-24119ff49d4d\",\"type\":\"LinearScale\"},{\"attributes\":{},\"id\":\"b76c1306-261c-4534-9622-0a18fe8fea78\",\"type\":\"BasicTickFormatter\"},{\"attributes\":{\"data_source\":{\"id\":\"4ea12ce3-8394-4f04-a5c7-a8178bb89c1d\",\"type\":\"ColumnDataSource\"},\"glyph\":{\"id\":\"1181aadb-f371-4e4b-8918-8802020f51cf\",\"type\":\"Cross\"},\"hover_glyph\":null,\"muted_glyph\":null,\"nonselection_glyph\":{\"id\":\"26e2c415-f93d-4891-b18d-39f96428d5d5\",\"type\":\"Cross\"},\"selection_glyph\":null,\"view\":{\"id\":\"59e8f764-eac7-48d4-ba41-4748d3a558c6\",\"type\":\"CDSView\"}},\"id\":\"8745aab7-f1b3-4a25-bb08-ff2a69ebcd67\",\"type\":\"GlyphRenderer\"},{\"attributes\":{\"bottom_units\":\"screen\",\"fill_alpha\":{\"value\":0.5},\"fill_color\":{\"value\":\"lightgrey\"},\"left_units\":\"screen\",\"level\":\"overlay\",\"line_alpha\":{\"value\":1.0},\"line_color\":{\"value\":\"black\"},\"line_dash\":[4,4],\"line_width\":{\"value\":2},\"plot\":null,\"render_mode\":\"css\",\"right_units\":\"screen\",\"top_units\":\"screen\"},\"id\":\"755dfed3-f12b-468b-8bdb-20c1e7ae9f82\",\"type\":\"BoxAnnotation\"},{\"attributes\":{},\"id\":\"fdbb1942-2537-4029-8d4c-b0ec618fc831\",\"type\":\"ResetTool\"},{\"attributes\":{},\"id\":\"24203567-3318-4dc9-b55c-36ae077bf060\",\"type\":\"BasicTicker\"},{\"attributes\":{},\"id\":\"8282bcb7-adf7-430c-b478-40b82e8d74da\",\"type\":\"WheelZoomTool\"},{\"attributes\":{\"plot\":null,\"text\":\"\"},\"id\":\"e272ceb8-cb45-4907-99bc-c5868d27257f\",\"type\":\"Title\"},{\"attributes\":{},\"id\":\"e3aa097f-8c0b-42c4-a5ed-9639ff598fec\",\"type\":\"PanTool\"},{\"attributes\":{\"callback\":null,\"column_names\":[\"x\",\"y\",\"size\"],\"data\":{\"size\":[6,10,14,18],\"x\":[2,4,6,8],\"y\":[4,3,7,1]},\"selected\":null,\"selection_policy\":null},\"id\":\"4ea12ce3-8394-4f04-a5c7-a8178bb89c1d\",\"type\":\"ColumnDataSource\"},{\"attributes\":{\"source\":{\"id\":\"4ea12ce3-8394-4f04-a5c7-a8178bb89c1d\",\"type\":\"ColumnDataSource\"}},\"id\":\"59e8f764-eac7-48d4-ba41-4748d3a558c6\",\"type\":\"CDSView\"},{\"attributes\":{},\"id\":\"5ae4ecb3-9389-4ea7-9192-95c8a11be13d\",\"type\":\"LinearScale\"},{\"attributes\":{\"dimension\":1,\"plot\":{\"id\":\"a591530c-0aa4-42b4-bf2f-e0b03fef73c5\",\"subtype\":\"Figure\",\"type\":\"Plot\"},\"ticker\":{\"id\":\"24203567-3318-4dc9-b55c-36ae077bf060\",\"type\":\"BasicTicker\"}},\"id\":\"b93c20c1-56fc-498f-aae1-d833dce80b48\",\"type\":\"Grid\"},{\"attributes\":{},\"id\":\"7dc9bf2f-dd6b-4ee9-8013-e7de78a8e883\",\"type\":\"HelpTool\"},{\"attributes\":{\"formatter\":{\"id\":\"b76c1306-261c-4534-9622-0a18fe8fea78\",\"type\":\"BasicTickFormatter\"},\"plot\":{\"id\":\"a591530c-0aa4-42b4-bf2f-e0b03fef73c5\",\"subtype\":\"Figure\",\"type\":\"Plot\"},\"ticker\":{\"id\":\"c9e1a4e2-383c-487e-b21f-bbfececbaa37\",\"type\":\"BasicTicker\"}},\"id\":\"964c87ef-060c-43e2-af10-e346187fcb1b\",\"type\":\"LinearAxis\"},{\"attributes\":{\"callback\":null},\"id\":\"3d7ed0b9-66f9-4802-a42a-b19533721ee2\",\"type\":\"DataRange1d\"},{\"attributes\":{\"plot\":{\"id\":\"a591530c-0aa4-42b4-bf2f-e0b03fef73c5\",\"subtype\":\"Figure\",\"type\":\"Plot\"},\"ticker\":{\"id\":\"c9e1a4e2-383c-487e-b21f-bbfececbaa37\",\"type\":\"BasicTicker\"}},\"id\":\"f2bf109f-0bcd-44e3-8dc1-745c88730689\",\"type\":\"Grid\"},{\"attributes\":{\"active_drag\":\"auto\",\"active_inspect\":\"auto\",\"active_scroll\":\"auto\",\"active_tap\":\"auto\",\"tools\":[{\"id\":\"e3aa097f-8c0b-42c4-a5ed-9639ff598fec\",\"type\":\"PanTool\"},{\"id\":\"8282bcb7-adf7-430c-b478-40b82e8d74da\",\"type\":\"WheelZoomTool\"},{\"id\":\"3fb20c7c-b414-4da2-8d8f-412583f089ac\",\"type\":\"BoxZoomTool\"},{\"id\":\"02550a4f-b04a-4183-bfcb-e5cecc06d02b\",\"type\":\"SaveTool\"},{\"id\":\"fdbb1942-2537-4029-8d4c-b0ec618fc831\",\"type\":\"ResetTool\"},{\"id\":\"7dc9bf2f-dd6b-4ee9-8013-e7de78a8e883\",\"type\":\"HelpTool\"}]},\"id\":\"17042ee5-b0b7-4fc9-bb81-b1e7833b230d\",\"type\":\"Toolbar\"},{\"attributes\":{\"callback\":null},\"id\":\"8dbd6082-9628-43bf-9fe8-14f01b6973aa\",\"type\":\"DataRange1d\"},{\"attributes\":{},\"id\":\"02550a4f-b04a-4183-bfcb-e5cecc06d02b\",\"type\":\"SaveTool\"}],\"root_ids\":[\"a591530c-0aa4-42b4-bf2f-e0b03fef73c5\"]},\"title\":\"Bokeh Application\",\"version\":\"0.12.15\"}};\n",
       "  var render_items = [{\"docid\":\"533aebe7-ab12-4ede-8684-91850ad0418c\",\"elementid\":\"58ff2bea-1a58-4da4-9d6f-d5b13c2b996c\",\"modelid\":\"a591530c-0aa4-42b4-bf2f-e0b03fef73c5\"}];\n",
       "  root.Bokeh.embed.embed_items_notebook(docs_json, render_items);\n",
       "\n",
       "  }\n",
       "  if (root.Bokeh !== undefined) {\n",
       "    embed_document(root);\n",
       "  } else {\n",
       "    var attempts = 0;\n",
       "    var timer = setInterval(function(root) {\n",
       "      if (root.Bokeh !== undefined) {\n",
       "        embed_document(root);\n",
       "        clearInterval(timer);\n",
       "      }\n",
       "      attempts++;\n",
       "      if (attempts > 100) {\n",
       "        console.log(\"Bokeh: ERROR: Unable to run BokehJS code because BokehJS library is missing\")\n",
       "        clearInterval(timer);\n",
       "      }\n",
       "    }, 10, root)\n",
       "  }\n",
       "})(window);"
      ],
      "application/vnd.bokehjs_exec.v0+json": ""
     },
     "metadata": {
      "application/vnd.bokehjs_exec.v0+json": {
       "id": "a591530c-0aa4-42b4-bf2f-e0b03fef73c5"
      }
     },
     "output_type": "display_data"
    }
   ],
   "source": [
    "#membuat bingkai\n",
    "x = figure(plot_width = 450, plot_height = 350)\n",
    "\n",
    "#memvisualisasikan data point dalam bentuk cross dengan ukuran size = [6,10,14,18]\n",
    "x.cross([2,4,6,8],[4,3,7,1], size = [6,10,14,18], color = 'red')\n",
    "show(x)"
   ]
  },
  {
   "cell_type": "code",
   "execution_count": 47,
   "metadata": {},
   "outputs": [
    {
     "data": {
      "text/html": [
       "\n",
       "<div class=\"bk-root\">\n",
       "    <div class=\"bk-plotdiv\" id=\"c79e29d9-1d73-4c53-a9d7-fcf358ba93ae\"></div>\n",
       "</div>"
      ]
     },
     "metadata": {},
     "output_type": "display_data"
    },
    {
     "data": {
      "application/javascript": [
       "(function(root) {\n",
       "  function embed_document(root) {\n",
       "    \n",
       "  var docs_json = {\"753e081f-64fd-429d-b5d0-bc0f229c4529\":{\"roots\":{\"references\":[{\"attributes\":{\"data_source\":{\"id\":\"4c0bc308-c8ab-4dc6-b6f6-0438dd023b74\",\"type\":\"ColumnDataSource\"},\"glyph\":{\"id\":\"60324780-f491-4628-893f-c8d0329ea8b4\",\"type\":\"Circle\"},\"hover_glyph\":null,\"muted_glyph\":null,\"nonselection_glyph\":{\"id\":\"a163815a-5952-4911-bf82-7312b3e28142\",\"type\":\"Circle\"},\"selection_glyph\":null,\"view\":{\"id\":\"16d6b482-6b67-4b5f-9b81-fa56ded460fe\",\"type\":\"CDSView\"}},\"id\":\"4ae52292-fd1f-4f13-9b22-665a7b68ab60\",\"type\":\"GlyphRenderer\"},{\"attributes\":{\"source\":{\"id\":\"4c0bc308-c8ab-4dc6-b6f6-0438dd023b74\",\"type\":\"ColumnDataSource\"}},\"id\":\"16d6b482-6b67-4b5f-9b81-fa56ded460fe\",\"type\":\"CDSView\"},{\"attributes\":{\"fill_alpha\":{\"value\":0.1},\"fill_color\":{\"value\":\"#1f77b4\"},\"line_alpha\":{\"value\":0.1},\"line_color\":{\"value\":\"#1f77b4\"},\"size\":{\"field\":\"size\",\"units\":\"screen\"},\"x\":{\"field\":\"x\"},\"y\":{\"field\":\"y\"}},\"id\":\"a163815a-5952-4911-bf82-7312b3e28142\",\"type\":\"Circle\"},{\"attributes\":{},\"id\":\"eca0d04d-e93b-47ba-8c89-f5b022664ca3\",\"type\":\"BasicTicker\"},{\"attributes\":{\"dimension\":1,\"plot\":{\"id\":\"92226371-f6a6-4399-9ce0-cbbafcb82827\",\"subtype\":\"Figure\",\"type\":\"Plot\"},\"ticker\":{\"id\":\"eca0d04d-e93b-47ba-8c89-f5b022664ca3\",\"type\":\"BasicTicker\"}},\"id\":\"2ddcd203-ca99-4436-9f0a-232278bf4b13\",\"type\":\"Grid\"},{\"attributes\":{\"plot\":null,\"text\":\"\"},\"id\":\"2a174c58-2321-4344-9cf6-8928f922fd25\",\"type\":\"Title\"},{\"attributes\":{},\"id\":\"09fe232b-1fcc-413a-bf1e-4bb197ad7d39\",\"type\":\"LinearScale\"},{\"attributes\":{},\"id\":\"d164f063-cbb1-475e-9b1d-8d476406c14e\",\"type\":\"BasicTickFormatter\"},{\"attributes\":{\"callback\":null},\"id\":\"cdd6e1d7-9f4d-44e5-b5a9-3199088c14f3\",\"type\":\"DataRange1d\"},{\"attributes\":{},\"id\":\"e66c1073-9f2a-4629-b561-00849d437d31\",\"type\":\"BasicTickFormatter\"},{\"attributes\":{\"bottom_units\":\"screen\",\"fill_alpha\":{\"value\":0.5},\"fill_color\":{\"value\":\"lightgrey\"},\"left_units\":\"screen\",\"level\":\"overlay\",\"line_alpha\":{\"value\":1.0},\"line_color\":{\"value\":\"black\"},\"line_dash\":[4,4],\"line_width\":{\"value\":2},\"plot\":null,\"render_mode\":\"css\",\"right_units\":\"screen\",\"top_units\":\"screen\"},\"id\":\"650b068a-5de3-4bc3-9e8c-05f5625e4dd9\",\"type\":\"BoxAnnotation\"},{\"attributes\":{\"formatter\":{\"id\":\"d164f063-cbb1-475e-9b1d-8d476406c14e\",\"type\":\"BasicTickFormatter\"},\"plot\":{\"id\":\"92226371-f6a6-4399-9ce0-cbbafcb82827\",\"subtype\":\"Figure\",\"type\":\"Plot\"},\"ticker\":{\"id\":\"eca0d04d-e93b-47ba-8c89-f5b022664ca3\",\"type\":\"BasicTicker\"}},\"id\":\"591767a9-42e9-4430-b3b3-f2e65ba66614\",\"type\":\"LinearAxis\"},{\"attributes\":{},\"id\":\"8848cb46-e2d0-45c6-9875-7ae8ec10d83e\",\"type\":\"PanTool\"},{\"attributes\":{\"active_drag\":\"auto\",\"active_inspect\":\"auto\",\"active_scroll\":\"auto\",\"active_tap\":\"auto\",\"tools\":[{\"id\":\"8848cb46-e2d0-45c6-9875-7ae8ec10d83e\",\"type\":\"PanTool\"},{\"id\":\"915c60b6-01eb-4e10-934c-420ca265f7d2\",\"type\":\"WheelZoomTool\"},{\"id\":\"9df869b0-1da5-4c3d-bde4-d0612ece6fc9\",\"type\":\"BoxZoomTool\"},{\"id\":\"8265344d-33ae-496b-a058-20e293ff390a\",\"type\":\"SaveTool\"},{\"id\":\"b219422f-92ca-4731-b2b5-bfe169275954\",\"type\":\"ResetTool\"},{\"id\":\"8c82f6fb-9d69-4d97-bb97-6ce4065a5760\",\"type\":\"HelpTool\"}]},\"id\":\"06755be8-783a-4af3-a0bb-e91b85e1ac1b\",\"type\":\"Toolbar\"},{\"attributes\":{\"plot\":{\"id\":\"92226371-f6a6-4399-9ce0-cbbafcb82827\",\"subtype\":\"Figure\",\"type\":\"Plot\"},\"ticker\":{\"id\":\"e14a537d-d643-4e04-91b4-bd54c0e78e32\",\"type\":\"BasicTicker\"}},\"id\":\"cbcb5c03-3909-407f-8f4f-f5ff0e97f2a9\",\"type\":\"Grid\"},{\"attributes\":{\"fill_alpha\":{\"value\":0.3},\"fill_color\":{\"value\":\"red\"},\"line_alpha\":{\"value\":0.3},\"line_color\":{\"value\":\"red\"},\"size\":{\"field\":\"size\",\"units\":\"screen\"},\"x\":{\"field\":\"x\"},\"y\":{\"field\":\"y\"}},\"id\":\"60324780-f491-4628-893f-c8d0329ea8b4\",\"type\":\"Circle\"},{\"attributes\":{\"callback\":null,\"column_names\":[\"size\",\"x\",\"y\"],\"data\":{\"size\":[6,10,14,18],\"x\":[2,4,6,8],\"y\":[4,3,7,1]},\"selected\":null,\"selection_policy\":null},\"id\":\"4c0bc308-c8ab-4dc6-b6f6-0438dd023b74\",\"type\":\"ColumnDataSource\"},{\"attributes\":{},\"id\":\"915c60b6-01eb-4e10-934c-420ca265f7d2\",\"type\":\"WheelZoomTool\"},{\"attributes\":{\"overlay\":{\"id\":\"650b068a-5de3-4bc3-9e8c-05f5625e4dd9\",\"type\":\"BoxAnnotation\"}},\"id\":\"9df869b0-1da5-4c3d-bde4-d0612ece6fc9\",\"type\":\"BoxZoomTool\"},{\"attributes\":{},\"id\":\"8265344d-33ae-496b-a058-20e293ff390a\",\"type\":\"SaveTool\"},{\"attributes\":{},\"id\":\"2749c285-cc25-418a-8d2a-c67d42414f87\",\"type\":\"LinearScale\"},{\"attributes\":{},\"id\":\"b219422f-92ca-4731-b2b5-bfe169275954\",\"type\":\"ResetTool\"},{\"attributes\":{},\"id\":\"8c82f6fb-9d69-4d97-bb97-6ce4065a5760\",\"type\":\"HelpTool\"},{\"attributes\":{\"formatter\":{\"id\":\"e66c1073-9f2a-4629-b561-00849d437d31\",\"type\":\"BasicTickFormatter\"},\"plot\":{\"id\":\"92226371-f6a6-4399-9ce0-cbbafcb82827\",\"subtype\":\"Figure\",\"type\":\"Plot\"},\"ticker\":{\"id\":\"e14a537d-d643-4e04-91b4-bd54c0e78e32\",\"type\":\"BasicTicker\"}},\"id\":\"68cae0dd-1f65-439b-a654-1b9e22e6ef69\",\"type\":\"LinearAxis\"},{\"attributes\":{\"callback\":null},\"id\":\"0bc5b7cc-01bf-4a01-825d-0537740be27e\",\"type\":\"DataRange1d\"},{\"attributes\":{},\"id\":\"e14a537d-d643-4e04-91b4-bd54c0e78e32\",\"type\":\"BasicTicker\"},{\"attributes\":{\"below\":[{\"id\":\"68cae0dd-1f65-439b-a654-1b9e22e6ef69\",\"type\":\"LinearAxis\"}],\"left\":[{\"id\":\"591767a9-42e9-4430-b3b3-f2e65ba66614\",\"type\":\"LinearAxis\"}],\"plot_height\":350,\"plot_width\":450,\"renderers\":[{\"id\":\"68cae0dd-1f65-439b-a654-1b9e22e6ef69\",\"type\":\"LinearAxis\"},{\"id\":\"cbcb5c03-3909-407f-8f4f-f5ff0e97f2a9\",\"type\":\"Grid\"},{\"id\":\"591767a9-42e9-4430-b3b3-f2e65ba66614\",\"type\":\"LinearAxis\"},{\"id\":\"2ddcd203-ca99-4436-9f0a-232278bf4b13\",\"type\":\"Grid\"},{\"id\":\"650b068a-5de3-4bc3-9e8c-05f5625e4dd9\",\"type\":\"BoxAnnotation\"},{\"id\":\"4ae52292-fd1f-4f13-9b22-665a7b68ab60\",\"type\":\"GlyphRenderer\"}],\"title\":{\"id\":\"2a174c58-2321-4344-9cf6-8928f922fd25\",\"type\":\"Title\"},\"toolbar\":{\"id\":\"06755be8-783a-4af3-a0bb-e91b85e1ac1b\",\"type\":\"Toolbar\"},\"x_range\":{\"id\":\"0bc5b7cc-01bf-4a01-825d-0537740be27e\",\"type\":\"DataRange1d\"},\"x_scale\":{\"id\":\"09fe232b-1fcc-413a-bf1e-4bb197ad7d39\",\"type\":\"LinearScale\"},\"y_range\":{\"id\":\"cdd6e1d7-9f4d-44e5-b5a9-3199088c14f3\",\"type\":\"DataRange1d\"},\"y_scale\":{\"id\":\"2749c285-cc25-418a-8d2a-c67d42414f87\",\"type\":\"LinearScale\"}},\"id\":\"92226371-f6a6-4399-9ce0-cbbafcb82827\",\"subtype\":\"Figure\",\"type\":\"Plot\"}],\"root_ids\":[\"92226371-f6a6-4399-9ce0-cbbafcb82827\"]},\"title\":\"Bokeh Application\",\"version\":\"0.12.15\"}};\n",
       "  var render_items = [{\"docid\":\"753e081f-64fd-429d-b5d0-bc0f229c4529\",\"elementid\":\"c79e29d9-1d73-4c53-a9d7-fcf358ba93ae\",\"modelid\":\"92226371-f6a6-4399-9ce0-cbbafcb82827\"}];\n",
       "  root.Bokeh.embed.embed_items_notebook(docs_json, render_items);\n",
       "\n",
       "  }\n",
       "  if (root.Bokeh !== undefined) {\n",
       "    embed_document(root);\n",
       "  } else {\n",
       "    var attempts = 0;\n",
       "    var timer = setInterval(function(root) {\n",
       "      if (root.Bokeh !== undefined) {\n",
       "        embed_document(root);\n",
       "        clearInterval(timer);\n",
       "      }\n",
       "      attempts++;\n",
       "      if (attempts > 100) {\n",
       "        console.log(\"Bokeh: ERROR: Unable to run BokehJS code because BokehJS library is missing\")\n",
       "        clearInterval(timer);\n",
       "      }\n",
       "    }, 10, root)\n",
       "  }\n",
       "})(window);"
      ],
      "application/vnd.bokehjs_exec.v0+json": ""
     },
     "metadata": {
      "application/vnd.bokehjs_exec.v0+json": {
       "id": "92226371-f6a6-4399-9ce0-cbbafcb82827"
      }
     },
     "output_type": "display_data"
    }
   ],
   "source": [
    "#membuat bingkai\n",
    "x = figure(plot_width = 450, plot_height = 350)\n",
    "\n",
    "#memvisualisasikan data point dalam bentuk circle dengan ukuran size = [6,10,14,18]\n",
    "x.circle([2,4,6,8],[4,3,7,1], size = [6,10,14,18], color = 'red', alpha = 0.3)\n",
    "show(x)"
   ]
  },
  {
   "cell_type": "code",
   "execution_count": 48,
   "metadata": {},
   "outputs": [
    {
     "data": {
      "text/html": [
       "\n",
       "<div class=\"bk-root\">\n",
       "    <div class=\"bk-plotdiv\" id=\"c46e4f68-6284-45c0-bcd6-263d411fc8d1\"></div>\n",
       "</div>"
      ]
     },
     "metadata": {},
     "output_type": "display_data"
    },
    {
     "data": {
      "application/javascript": [
       "(function(root) {\n",
       "  function embed_document(root) {\n",
       "    \n",
       "  var docs_json = {\"3064fd96-35ab-484a-98ee-2c32f22ba348\":{\"roots\":{\"references\":[{\"attributes\":{},\"id\":\"d8950bf2-b677-48b0-83a8-6458b6250718\",\"type\":\"BasicTickFormatter\"},{\"attributes\":{},\"id\":\"a6dfa963-d828-4524-bf85-1ffadacf5d14\",\"type\":\"LinearScale\"},{\"attributes\":{\"bottom_units\":\"screen\",\"fill_alpha\":{\"value\":0.5},\"fill_color\":{\"value\":\"lightgrey\"},\"left_units\":\"screen\",\"level\":\"overlay\",\"line_alpha\":{\"value\":1.0},\"line_color\":{\"value\":\"black\"},\"line_dash\":[4,4],\"line_width\":{\"value\":2},\"plot\":null,\"render_mode\":\"css\",\"right_units\":\"screen\",\"top_units\":\"screen\"},\"id\":\"17cd4bcd-1597-4044-beb7-651bfed987d8\",\"type\":\"BoxAnnotation\"},{\"attributes\":{\"callback\":null},\"id\":\"c17ac096-b8a2-4646-b282-3ad0b5d4e600\",\"type\":\"DataRange1d\"},{\"attributes\":{\"overlay\":{\"id\":\"17cd4bcd-1597-4044-beb7-651bfed987d8\",\"type\":\"BoxAnnotation\"}},\"id\":\"b06e286a-6bf8-41ca-a991-750d5e5488e6\",\"type\":\"BoxZoomTool\"},{\"attributes\":{},\"id\":\"2b2ba28b-162d-49cf-bce0-40ce20f829de\",\"type\":\"HelpTool\"},{\"attributes\":{\"active_drag\":\"auto\",\"active_inspect\":\"auto\",\"active_scroll\":\"auto\",\"active_tap\":\"auto\",\"tools\":[{\"id\":\"fe6ad5e9-7530-4d68-a61e-2e3bd5a8c109\",\"type\":\"PanTool\"},{\"id\":\"aabc16a7-2571-4601-9f96-79fe6edd344b\",\"type\":\"WheelZoomTool\"},{\"id\":\"b06e286a-6bf8-41ca-a991-750d5e5488e6\",\"type\":\"BoxZoomTool\"},{\"id\":\"4a06e423-c2ea-4666-850b-75e3f17ef31a\",\"type\":\"SaveTool\"},{\"id\":\"4b20a244-2a93-44be-b58b-21287bb3e459\",\"type\":\"ResetTool\"},{\"id\":\"2b2ba28b-162d-49cf-bce0-40ce20f829de\",\"type\":\"HelpTool\"}]},\"id\":\"b381d733-1619-495b-a8e8-0ae33cdbe122\",\"type\":\"Toolbar\"},{\"attributes\":{},\"id\":\"75669465-856f-4609-8e6e-45b79ae3d47a\",\"type\":\"BasicTicker\"},{\"attributes\":{\"callback\":null,\"column_names\":[\"x\",\"y\",\"size\"],\"data\":{\"size\":[6,10,14,18],\"x\":[2,4,6,8],\"y\":[4,3,7,1]},\"selected\":null,\"selection_policy\":null},\"id\":\"cdba6ac0-8af9-4024-ac59-87d7144942a1\",\"type\":\"ColumnDataSource\"},{\"attributes\":{\"data_source\":{\"id\":\"cdba6ac0-8af9-4024-ac59-87d7144942a1\",\"type\":\"ColumnDataSource\"},\"glyph\":{\"id\":\"0e3358c6-85c0-4deb-a419-b019f5631d30\",\"type\":\"Diamond\"},\"hover_glyph\":null,\"muted_glyph\":null,\"nonselection_glyph\":{\"id\":\"64a29246-dc71-41ec-9571-befeac94214c\",\"type\":\"Diamond\"},\"selection_glyph\":null,\"view\":{\"id\":\"05365aaf-ca25-4a36-b48a-15e3ebd3ee5b\",\"type\":\"CDSView\"}},\"id\":\"1b6df5ba-d6c4-48dc-9f5a-a47be71550e8\",\"type\":\"GlyphRenderer\"},{\"attributes\":{\"below\":[{\"id\":\"41e4dc96-dd18-4d45-b2f6-d600fe6a007a\",\"type\":\"LinearAxis\"}],\"left\":[{\"id\":\"0e1ef7bf-cdb6-4513-a2d1-3983212028a1\",\"type\":\"LinearAxis\"}],\"plot_height\":350,\"plot_width\":450,\"renderers\":[{\"id\":\"41e4dc96-dd18-4d45-b2f6-d600fe6a007a\",\"type\":\"LinearAxis\"},{\"id\":\"6b3e1aec-4606-41a6-b88c-fda6fe33d9b1\",\"type\":\"Grid\"},{\"id\":\"0e1ef7bf-cdb6-4513-a2d1-3983212028a1\",\"type\":\"LinearAxis\"},{\"id\":\"f756d3e6-9d68-46c6-bc8c-d7a955a277d6\",\"type\":\"Grid\"},{\"id\":\"17cd4bcd-1597-4044-beb7-651bfed987d8\",\"type\":\"BoxAnnotation\"},{\"id\":\"1b6df5ba-d6c4-48dc-9f5a-a47be71550e8\",\"type\":\"GlyphRenderer\"}],\"title\":{\"id\":\"5b0a08b9-e595-4d28-b2a0-5fcd9dfcb03a\",\"type\":\"Title\"},\"toolbar\":{\"id\":\"b381d733-1619-495b-a8e8-0ae33cdbe122\",\"type\":\"Toolbar\"},\"x_range\":{\"id\":\"4256a077-1e6c-4344-889e-079ce3a72729\",\"type\":\"DataRange1d\"},\"x_scale\":{\"id\":\"a6dfa963-d828-4524-bf85-1ffadacf5d14\",\"type\":\"LinearScale\"},\"y_range\":{\"id\":\"c17ac096-b8a2-4646-b282-3ad0b5d4e600\",\"type\":\"DataRange1d\"},\"y_scale\":{\"id\":\"b362bec9-eece-496e-9cb5-3d26b1fba2d4\",\"type\":\"LinearScale\"}},\"id\":\"b82b7604-4b66-4215-9559-cb81d7874345\",\"subtype\":\"Figure\",\"type\":\"Plot\"},{\"attributes\":{},\"id\":\"aabc16a7-2571-4601-9f96-79fe6edd344b\",\"type\":\"WheelZoomTool\"},{\"attributes\":{},\"id\":\"b362bec9-eece-496e-9cb5-3d26b1fba2d4\",\"type\":\"LinearScale\"},{\"attributes\":{\"plot\":{\"id\":\"b82b7604-4b66-4215-9559-cb81d7874345\",\"subtype\":\"Figure\",\"type\":\"Plot\"},\"ticker\":{\"id\":\"75669465-856f-4609-8e6e-45b79ae3d47a\",\"type\":\"BasicTicker\"}},\"id\":\"6b3e1aec-4606-41a6-b88c-fda6fe33d9b1\",\"type\":\"Grid\"},{\"attributes\":{},\"id\":\"4a06e423-c2ea-4666-850b-75e3f17ef31a\",\"type\":\"SaveTool\"},{\"attributes\":{\"dimension\":1,\"plot\":{\"id\":\"b82b7604-4b66-4215-9559-cb81d7874345\",\"subtype\":\"Figure\",\"type\":\"Plot\"},\"ticker\":{\"id\":\"66a66445-d77c-4ff1-819d-fdfcd04cb9b2\",\"type\":\"BasicTicker\"}},\"id\":\"f756d3e6-9d68-46c6-bc8c-d7a955a277d6\",\"type\":\"Grid\"},{\"attributes\":{\"callback\":null},\"id\":\"4256a077-1e6c-4344-889e-079ce3a72729\",\"type\":\"DataRange1d\"},{\"attributes\":{},\"id\":\"66a66445-d77c-4ff1-819d-fdfcd04cb9b2\",\"type\":\"BasicTicker\"},{\"attributes\":{\"formatter\":{\"id\":\"d8950bf2-b677-48b0-83a8-6458b6250718\",\"type\":\"BasicTickFormatter\"},\"plot\":{\"id\":\"b82b7604-4b66-4215-9559-cb81d7874345\",\"subtype\":\"Figure\",\"type\":\"Plot\"},\"ticker\":{\"id\":\"66a66445-d77c-4ff1-819d-fdfcd04cb9b2\",\"type\":\"BasicTicker\"}},\"id\":\"0e1ef7bf-cdb6-4513-a2d1-3983212028a1\",\"type\":\"LinearAxis\"},{\"attributes\":{},\"id\":\"4b20a244-2a93-44be-b58b-21287bb3e459\",\"type\":\"ResetTool\"},{\"attributes\":{\"fill_alpha\":{\"value\":0.1},\"fill_color\":{\"value\":\"#1f77b4\"},\"line_alpha\":{\"value\":0.1},\"line_color\":{\"value\":\"#1f77b4\"},\"size\":{\"field\":\"size\",\"units\":\"screen\"},\"x\":{\"field\":\"x\"},\"y\":{\"field\":\"y\"}},\"id\":\"64a29246-dc71-41ec-9571-befeac94214c\",\"type\":\"Diamond\"},{\"attributes\":{\"fill_alpha\":{\"value\":0.3},\"fill_color\":{\"value\":\"green\"},\"line_alpha\":{\"value\":0.3},\"line_color\":{\"value\":\"green\"},\"size\":{\"field\":\"size\",\"units\":\"screen\"},\"x\":{\"field\":\"x\"},\"y\":{\"field\":\"y\"}},\"id\":\"0e3358c6-85c0-4deb-a419-b019f5631d30\",\"type\":\"Diamond\"},{\"attributes\":{\"source\":{\"id\":\"cdba6ac0-8af9-4024-ac59-87d7144942a1\",\"type\":\"ColumnDataSource\"}},\"id\":\"05365aaf-ca25-4a36-b48a-15e3ebd3ee5b\",\"type\":\"CDSView\"},{\"attributes\":{\"plot\":null,\"text\":\"\"},\"id\":\"5b0a08b9-e595-4d28-b2a0-5fcd9dfcb03a\",\"type\":\"Title\"},{\"attributes\":{},\"id\":\"df6b230b-4784-4444-adf7-5942247da57e\",\"type\":\"BasicTickFormatter\"},{\"attributes\":{},\"id\":\"fe6ad5e9-7530-4d68-a61e-2e3bd5a8c109\",\"type\":\"PanTool\"},{\"attributes\":{\"formatter\":{\"id\":\"df6b230b-4784-4444-adf7-5942247da57e\",\"type\":\"BasicTickFormatter\"},\"plot\":{\"id\":\"b82b7604-4b66-4215-9559-cb81d7874345\",\"subtype\":\"Figure\",\"type\":\"Plot\"},\"ticker\":{\"id\":\"75669465-856f-4609-8e6e-45b79ae3d47a\",\"type\":\"BasicTicker\"}},\"id\":\"41e4dc96-dd18-4d45-b2f6-d600fe6a007a\",\"type\":\"LinearAxis\"}],\"root_ids\":[\"b82b7604-4b66-4215-9559-cb81d7874345\"]},\"title\":\"Bokeh Application\",\"version\":\"0.12.15\"}};\n",
       "  var render_items = [{\"docid\":\"3064fd96-35ab-484a-98ee-2c32f22ba348\",\"elementid\":\"c46e4f68-6284-45c0-bcd6-263d411fc8d1\",\"modelid\":\"b82b7604-4b66-4215-9559-cb81d7874345\"}];\n",
       "  root.Bokeh.embed.embed_items_notebook(docs_json, render_items);\n",
       "\n",
       "  }\n",
       "  if (root.Bokeh !== undefined) {\n",
       "    embed_document(root);\n",
       "  } else {\n",
       "    var attempts = 0;\n",
       "    var timer = setInterval(function(root) {\n",
       "      if (root.Bokeh !== undefined) {\n",
       "        embed_document(root);\n",
       "        clearInterval(timer);\n",
       "      }\n",
       "      attempts++;\n",
       "      if (attempts > 100) {\n",
       "        console.log(\"Bokeh: ERROR: Unable to run BokehJS code because BokehJS library is missing\")\n",
       "        clearInterval(timer);\n",
       "      }\n",
       "    }, 10, root)\n",
       "  }\n",
       "})(window);"
      ],
      "application/vnd.bokehjs_exec.v0+json": ""
     },
     "metadata": {
      "application/vnd.bokehjs_exec.v0+json": {
       "id": "b82b7604-4b66-4215-9559-cb81d7874345"
      }
     },
     "output_type": "display_data"
    }
   ],
   "source": [
    "#membuat bingkai\n",
    "x = figure(plot_width = 450, plot_height = 350)\n",
    "\n",
    "#memvisualisasikan data point dalam bentuk diamond dengan ukuran size = [6,10,14,18] dan warna color = 'green'\n",
    "x.diamond([2,4,6,8],[4,3,7,1], size = [6,10,14,18], color = 'green', alpha = 0.3)\n",
    "show(x)"
   ]
  },
  {
   "cell_type": "code",
   "execution_count": 49,
   "metadata": {},
   "outputs": [
    {
     "data": {
      "text/html": [
       "\n",
       "<div class=\"bk-root\">\n",
       "    <div class=\"bk-plotdiv\" id=\"a14173dc-2a78-40a1-a770-5901350da295\"></div>\n",
       "</div>"
      ]
     },
     "metadata": {},
     "output_type": "display_data"
    },
    {
     "data": {
      "application/javascript": [
       "(function(root) {\n",
       "  function embed_document(root) {\n",
       "    \n",
       "  var docs_json = {\"064f9767-4447-424d-83f1-00d97b56dfd9\":{\"roots\":{\"references\":[{\"attributes\":{},\"id\":\"0d249360-d5bc-4400-b827-4fc12d03a780\",\"type\":\"ResetTool\"},{\"attributes\":{},\"id\":\"889b7ccc-58b5-41e8-99df-0d8e3715fd3a\",\"type\":\"HelpTool\"},{\"attributes\":{\"data_source\":{\"id\":\"cefca373-bae8-4f7a-bda7-8b7e612c572b\",\"type\":\"ColumnDataSource\"},\"glyph\":{\"id\":\"6c39d05c-b67c-42de-9255-a3bc1bc50a42\",\"type\":\"Circle\"},\"hover_glyph\":null,\"muted_glyph\":null,\"nonselection_glyph\":{\"id\":\"2bc046e0-b841-47ee-a147-6e8f923f6fb0\",\"type\":\"Circle\"},\"selection_glyph\":null,\"view\":{\"id\":\"d259a31f-fb0a-411d-a034-00a6654c4c56\",\"type\":\"CDSView\"}},\"id\":\"c92a530f-4cdf-41fe-8f6f-0a415677e141\",\"type\":\"GlyphRenderer\"},{\"attributes\":{\"plot\":null,\"text\":\"\"},\"id\":\"0fd96b69-e9b9-4796-80fb-77558f8fb77a\",\"type\":\"Title\"},{\"attributes\":{\"callback\":null,\"column_names\":[\"x\",\"y\"],\"data\":{\"x\":[2,4,3,6],\"y\":[3,1,5,2]},\"selected\":null,\"selection_policy\":null},\"id\":\"fec2a4b9-884b-4241-bab2-f395dba651e1\",\"type\":\"ColumnDataSource\"},{\"attributes\":{\"fill_alpha\":{\"value\":0.1},\"fill_color\":{\"value\":\"#1f77b4\"},\"line_alpha\":{\"value\":0.1},\"line_color\":{\"value\":\"#1f77b4\"},\"size\":{\"units\":\"screen\",\"value\":12},\"x\":{\"field\":\"x\"},\"y\":{\"field\":\"y\"}},\"id\":\"b42c9b8f-78f4-43c0-8940-5daf686cda6b\",\"type\":\"Square\"},{\"attributes\":{\"fill_alpha\":{\"value\":0.1},\"fill_color\":{\"value\":\"#1f77b4\"},\"line_alpha\":{\"value\":0.1},\"line_color\":{\"value\":\"#1f77b4\"},\"size\":{\"units\":\"screen\",\"value\":16},\"x\":{\"field\":\"x\"},\"y\":{\"field\":\"y\"}},\"id\":\"2bc046e0-b841-47ee-a147-6e8f923f6fb0\",\"type\":\"Circle\"},{\"attributes\":{\"fill_alpha\":{\"value\":0.8},\"fill_color\":{\"value\":\"blue\"},\"line_alpha\":{\"value\":0.8},\"line_color\":{\"value\":\"blue\"},\"size\":{\"units\":\"screen\",\"value\":12},\"x\":{\"field\":\"x\"},\"y\":{\"field\":\"y\"}},\"id\":\"41c63841-8969-4d8f-a250-5b865906a7de\",\"type\":\"Square\"},{\"attributes\":{\"fill_alpha\":{\"value\":0.5},\"fill_color\":{\"value\":\"yellow\"},\"line_alpha\":{\"value\":0.5},\"line_color\":{\"value\":\"red\"},\"size\":{\"units\":\"screen\",\"value\":16},\"x\":{\"field\":\"x\"},\"y\":{\"field\":\"y\"}},\"id\":\"6c39d05c-b67c-42de-9255-a3bc1bc50a42\",\"type\":\"Circle\"},{\"attributes\":{\"source\":{\"id\":\"cefca373-bae8-4f7a-bda7-8b7e612c572b\",\"type\":\"ColumnDataSource\"}},\"id\":\"d259a31f-fb0a-411d-a034-00a6654c4c56\",\"type\":\"CDSView\"},{\"attributes\":{\"below\":[{\"id\":\"34c33b2c-f480-41a0-b204-eb5557bf0ce3\",\"type\":\"LinearAxis\"}],\"left\":[{\"id\":\"6df7b130-d013-495b-bcf5-e7aa004e058d\",\"type\":\"LinearAxis\"}],\"plot_height\":350,\"plot_width\":450,\"renderers\":[{\"id\":\"34c33b2c-f480-41a0-b204-eb5557bf0ce3\",\"type\":\"LinearAxis\"},{\"id\":\"eba156d5-ae7f-4113-9f35-fa69db5a6532\",\"type\":\"Grid\"},{\"id\":\"6df7b130-d013-495b-bcf5-e7aa004e058d\",\"type\":\"LinearAxis\"},{\"id\":\"0d53190a-4834-4678-bc2d-58f5fb796d2f\",\"type\":\"Grid\"},{\"id\":\"c8b36c9d-e1d1-47bd-90ef-a01cb3750451\",\"type\":\"BoxAnnotation\"},{\"id\":\"0e1df16b-1a5a-4359-b497-4e18a0b820ae\",\"type\":\"GlyphRenderer\"},{\"id\":\"c92a530f-4cdf-41fe-8f6f-0a415677e141\",\"type\":\"GlyphRenderer\"},{\"id\":\"a9f1ce96-98eb-453c-81c9-b4cb59663140\",\"type\":\"GlyphRenderer\"}],\"title\":{\"id\":\"0fd96b69-e9b9-4796-80fb-77558f8fb77a\",\"type\":\"Title\"},\"toolbar\":{\"id\":\"b5c4f9d2-cf32-403a-acbc-a89089ca362c\",\"type\":\"Toolbar\"},\"x_range\":{\"id\":\"52f3239b-dbc0-4f9e-93bf-5a2f3f45a9ea\",\"type\":\"DataRange1d\"},\"x_scale\":{\"id\":\"8638f36a-3ab7-45f9-8ab4-f04492022399\",\"type\":\"LinearScale\"},\"y_range\":{\"id\":\"ddc66dee-3520-4a66-8d19-616e14c89403\",\"type\":\"DataRange1d\"},\"y_scale\":{\"id\":\"e82361ae-ecd2-4c58-b691-6b92b003941b\",\"type\":\"LinearScale\"}},\"id\":\"b4e72e3f-db6f-4d37-9aaf-80d2c74ded84\",\"subtype\":\"Figure\",\"type\":\"Plot\"},{\"attributes\":{\"source\":{\"id\":\"e475300c-d314-4056-9fcb-789f19dfd13a\",\"type\":\"ColumnDataSource\"}},\"id\":\"d03cb029-3f46-4a00-a98a-df7f4a11f2dd\",\"type\":\"CDSView\"},{\"attributes\":{\"callback\":null,\"column_names\":[\"x\",\"y\"],\"data\":{\"x\":[1,5,7,2],\"y\":[3,1,5,6]},\"selected\":null,\"selection_policy\":null},\"id\":\"e475300c-d314-4056-9fcb-789f19dfd13a\",\"type\":\"ColumnDataSource\"},{\"attributes\":{\"data_source\":{\"id\":\"fec2a4b9-884b-4241-bab2-f395dba651e1\",\"type\":\"ColumnDataSource\"},\"glyph\":{\"id\":\"41c63841-8969-4d8f-a250-5b865906a7de\",\"type\":\"Square\"},\"hover_glyph\":null,\"muted_glyph\":null,\"nonselection_glyph\":{\"id\":\"b42c9b8f-78f4-43c0-8940-5daf686cda6b\",\"type\":\"Square\"},\"selection_glyph\":null,\"view\":{\"id\":\"f1ae96e0-0e18-45f7-a6f6-837dc7871b11\",\"type\":\"CDSView\"}},\"id\":\"a9f1ce96-98eb-453c-81c9-b4cb59663140\",\"type\":\"GlyphRenderer\"},{\"attributes\":{\"active_drag\":\"auto\",\"active_inspect\":\"auto\",\"active_scroll\":\"auto\",\"active_tap\":\"auto\",\"tools\":[{\"id\":\"287c1de5-026a-4613-8843-fba2ea010138\",\"type\":\"PanTool\"},{\"id\":\"db635242-0038-4bf0-a91e-32ea1a3afe68\",\"type\":\"WheelZoomTool\"},{\"id\":\"0ead522b-4676-4260-8760-8c6f05b3638e\",\"type\":\"BoxZoomTool\"},{\"id\":\"fd7e0e32-5963-4800-a960-b14f54419c57\",\"type\":\"SaveTool\"},{\"id\":\"0d249360-d5bc-4400-b827-4fc12d03a780\",\"type\":\"ResetTool\"},{\"id\":\"889b7ccc-58b5-41e8-99df-0d8e3715fd3a\",\"type\":\"HelpTool\"}]},\"id\":\"b5c4f9d2-cf32-403a-acbc-a89089ca362c\",\"type\":\"Toolbar\"},{\"attributes\":{\"callback\":null},\"id\":\"ddc66dee-3520-4a66-8d19-616e14c89403\",\"type\":\"DataRange1d\"},{\"attributes\":{\"fill_alpha\":{\"value\":0.1},\"fill_color\":{\"value\":\"#1f77b4\"},\"line_alpha\":{\"value\":0.1},\"line_color\":{\"value\":\"#1f77b4\"},\"size\":{\"units\":\"screen\",\"value\":14},\"x\":{\"field\":\"x\"},\"y\":{\"field\":\"y\"}},\"id\":\"76107099-e074-45bd-9c00-6bcf610ecc74\",\"type\":\"Diamond\"},{\"attributes\":{},\"id\":\"adce4c12-9f13-45b0-885b-a24ca29ffb2d\",\"type\":\"BasicTickFormatter\"},{\"attributes\":{\"callback\":null},\"id\":\"52f3239b-dbc0-4f9e-93bf-5a2f3f45a9ea\",\"type\":\"DataRange1d\"},{\"attributes\":{},\"id\":\"8638f36a-3ab7-45f9-8ab4-f04492022399\",\"type\":\"LinearScale\"},{\"attributes\":{},\"id\":\"e82361ae-ecd2-4c58-b691-6b92b003941b\",\"type\":\"LinearScale\"},{\"attributes\":{},\"id\":\"db635242-0038-4bf0-a91e-32ea1a3afe68\",\"type\":\"WheelZoomTool\"},{\"attributes\":{\"plot\":{\"id\":\"b4e72e3f-db6f-4d37-9aaf-80d2c74ded84\",\"subtype\":\"Figure\",\"type\":\"Plot\"},\"ticker\":{\"id\":\"171fc697-f17d-49a3-b87b-ddd36c8ca82a\",\"type\":\"BasicTicker\"}},\"id\":\"eba156d5-ae7f-4113-9f35-fa69db5a6532\",\"type\":\"Grid\"},{\"attributes\":{\"formatter\":{\"id\":\"bdc1e694-4bca-4c8a-bb4e-ddc129cd2368\",\"type\":\"BasicTickFormatter\"},\"plot\":{\"id\":\"b4e72e3f-db6f-4d37-9aaf-80d2c74ded84\",\"subtype\":\"Figure\",\"type\":\"Plot\"},\"ticker\":{\"id\":\"171fc697-f17d-49a3-b87b-ddd36c8ca82a\",\"type\":\"BasicTicker\"}},\"id\":\"34c33b2c-f480-41a0-b204-eb5557bf0ce3\",\"type\":\"LinearAxis\"},{\"attributes\":{},\"id\":\"171fc697-f17d-49a3-b87b-ddd36c8ca82a\",\"type\":\"BasicTicker\"},{\"attributes\":{\"formatter\":{\"id\":\"adce4c12-9f13-45b0-885b-a24ca29ffb2d\",\"type\":\"BasicTickFormatter\"},\"plot\":{\"id\":\"b4e72e3f-db6f-4d37-9aaf-80d2c74ded84\",\"subtype\":\"Figure\",\"type\":\"Plot\"},\"ticker\":{\"id\":\"ca797332-6a5b-46f6-b926-5f41cf0a2cee\",\"type\":\"BasicTicker\"}},\"id\":\"6df7b130-d013-495b-bcf5-e7aa004e058d\",\"type\":\"LinearAxis\"},{\"attributes\":{},\"id\":\"ca797332-6a5b-46f6-b926-5f41cf0a2cee\",\"type\":\"BasicTicker\"},{\"attributes\":{\"dimension\":1,\"plot\":{\"id\":\"b4e72e3f-db6f-4d37-9aaf-80d2c74ded84\",\"subtype\":\"Figure\",\"type\":\"Plot\"},\"ticker\":{\"id\":\"ca797332-6a5b-46f6-b926-5f41cf0a2cee\",\"type\":\"BasicTicker\"}},\"id\":\"0d53190a-4834-4678-bc2d-58f5fb796d2f\",\"type\":\"Grid\"},{\"attributes\":{\"data_source\":{\"id\":\"e475300c-d314-4056-9fcb-789f19dfd13a\",\"type\":\"ColumnDataSource\"},\"glyph\":{\"id\":\"b1974b94-c795-4137-8900-70adf250d69a\",\"type\":\"Diamond\"},\"hover_glyph\":null,\"muted_glyph\":null,\"nonselection_glyph\":{\"id\":\"76107099-e074-45bd-9c00-6bcf610ecc74\",\"type\":\"Diamond\"},\"selection_glyph\":null,\"view\":{\"id\":\"d03cb029-3f46-4a00-a98a-df7f4a11f2dd\",\"type\":\"CDSView\"}},\"id\":\"0e1df16b-1a5a-4359-b497-4e18a0b820ae\",\"type\":\"GlyphRenderer\"},{\"attributes\":{\"fill_alpha\":{\"value\":0.3},\"fill_color\":{\"value\":\"green\"},\"line_alpha\":{\"value\":0.3},\"line_color\":{\"value\":\"green\"},\"size\":{\"units\":\"screen\",\"value\":14},\"x\":{\"field\":\"x\"},\"y\":{\"field\":\"y\"}},\"id\":\"b1974b94-c795-4137-8900-70adf250d69a\",\"type\":\"Diamond\"},{\"attributes\":{\"callback\":null,\"column_names\":[\"x\",\"y\"],\"data\":{\"x\":[3,8,5,9],\"y\":[8,4,5,3]},\"selected\":null,\"selection_policy\":null},\"id\":\"cefca373-bae8-4f7a-bda7-8b7e612c572b\",\"type\":\"ColumnDataSource\"},{\"attributes\":{\"bottom_units\":\"screen\",\"fill_alpha\":{\"value\":0.5},\"fill_color\":{\"value\":\"lightgrey\"},\"left_units\":\"screen\",\"level\":\"overlay\",\"line_alpha\":{\"value\":1.0},\"line_color\":{\"value\":\"black\"},\"line_dash\":[4,4],\"line_width\":{\"value\":2},\"plot\":null,\"render_mode\":\"css\",\"right_units\":\"screen\",\"top_units\":\"screen\"},\"id\":\"c8b36c9d-e1d1-47bd-90ef-a01cb3750451\",\"type\":\"BoxAnnotation\"},{\"attributes\":{},\"id\":\"287c1de5-026a-4613-8843-fba2ea010138\",\"type\":\"PanTool\"},{\"attributes\":{},\"id\":\"bdc1e694-4bca-4c8a-bb4e-ddc129cd2368\",\"type\":\"BasicTickFormatter\"},{\"attributes\":{\"source\":{\"id\":\"fec2a4b9-884b-4241-bab2-f395dba651e1\",\"type\":\"ColumnDataSource\"}},\"id\":\"f1ae96e0-0e18-45f7-a6f6-837dc7871b11\",\"type\":\"CDSView\"},{\"attributes\":{\"overlay\":{\"id\":\"c8b36c9d-e1d1-47bd-90ef-a01cb3750451\",\"type\":\"BoxAnnotation\"}},\"id\":\"0ead522b-4676-4260-8760-8c6f05b3638e\",\"type\":\"BoxZoomTool\"},{\"attributes\":{},\"id\":\"fd7e0e32-5963-4800-a960-b14f54419c57\",\"type\":\"SaveTool\"}],\"root_ids\":[\"b4e72e3f-db6f-4d37-9aaf-80d2c74ded84\"]},\"title\":\"Bokeh Application\",\"version\":\"0.12.15\"}};\n",
       "  var render_items = [{\"docid\":\"064f9767-4447-424d-83f1-00d97b56dfd9\",\"elementid\":\"a14173dc-2a78-40a1-a770-5901350da295\",\"modelid\":\"b4e72e3f-db6f-4d37-9aaf-80d2c74ded84\"}];\n",
       "  root.Bokeh.embed.embed_items_notebook(docs_json, render_items);\n",
       "\n",
       "  }\n",
       "  if (root.Bokeh !== undefined) {\n",
       "    embed_document(root);\n",
       "  } else {\n",
       "    var attempts = 0;\n",
       "    var timer = setInterval(function(root) {\n",
       "      if (root.Bokeh !== undefined) {\n",
       "        embed_document(root);\n",
       "        clearInterval(timer);\n",
       "      }\n",
       "      attempts++;\n",
       "      if (attempts > 100) {\n",
       "        console.log(\"Bokeh: ERROR: Unable to run BokehJS code because BokehJS library is missing\")\n",
       "        clearInterval(timer);\n",
       "      }\n",
       "    }, 10, root)\n",
       "  }\n",
       "})(window);"
      ],
      "application/vnd.bokehjs_exec.v0+json": ""
     },
     "metadata": {
      "application/vnd.bokehjs_exec.v0+json": {
       "id": "b4e72e3f-db6f-4d37-9aaf-80d2c74ded84"
      }
     },
     "output_type": "display_data"
    }
   ],
   "source": [
    "#menggabungkan tiga data point ke dalam satu bingkai dan bentuk, warna dan alpha yang berbeda-beda\n",
    "x = figure(plot_width = 450, plot_height = 350)\n",
    "\n",
    "x.diamond([1,5,7,2],[3,1,5,6], size = 14, color = 'green', alpha = 0.3)\n",
    "x.circle([3,8,5,9],[8,4,5,3], size = 16, color = 'red', fill_color = 'yellow', alpha = 0.5)\n",
    "x.square([2,4,3,6],[3,1,5,2], size = 12, color = 'blue', alpha = 0.8)\n",
    "\n",
    "show(x)"
   ]
  },
  {
   "cell_type": "markdown",
   "metadata": {},
   "source": [
    "                ##Semoga Bermanfaat\n",
    "                ##@Raspiani_"
   ]
  }
 ],
 "metadata": {
  "kernelspec": {
   "display_name": "Python 3",
   "language": "python",
   "name": "python3"
  },
  "language_info": {
   "codemirror_mode": {
    "name": "ipython",
    "version": 3
   },
   "file_extension": ".py",
   "mimetype": "text/x-python",
   "name": "python",
   "nbconvert_exporter": "python",
   "pygments_lexer": "ipython3",
   "version": "3.6.5"
  }
 },
 "nbformat": 4,
 "nbformat_minor": 2
}
