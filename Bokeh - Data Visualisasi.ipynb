{
 "cells": [
  {
   "cell_type": "markdown",
   "metadata": {},
   "source": [
    "### Bokeh - Data Visualisasi\n",
    "\n",
    "Lebih lengkap terkait bokeh di https://bokeh.pydata.org/en/latest/docs/user_guide.html"
   ]
  },
  {
   "cell_type": "code",
   "execution_count": 4,
   "metadata": {},
   "outputs": [],
   "source": [
    "#memasukan modul yang digunakan \n",
    "import bokeh\n",
    "from bokeh.io import output_notebook, show\n",
    "from bokeh.plotting import figure"
   ]
  },
  {
   "cell_type": "code",
   "execution_count": 5,
   "metadata": {},
   "outputs": [
    {
     "data": {
      "text/html": [
       "\n",
       "    <div class=\"bk-root\">\n",
       "        <a href=\"https://bokeh.pydata.org\" target=\"_blank\" class=\"bk-logo bk-logo-small bk-logo-notebook\"></a>\n",
       "        <span id=\"2896154a-8938-4e68-ad6c-c9f841808945\">Loading BokehJS ...</span>\n",
       "    </div>"
      ]
     },
     "metadata": {},
     "output_type": "display_data"
    },
    {
     "data": {
      "application/javascript": [
       "\n",
       "(function(root) {\n",
       "  function now() {\n",
       "    return new Date();\n",
       "  }\n",
       "\n",
       "  var force = true;\n",
       "\n",
       "  if (typeof (root._bokeh_onload_callbacks) === \"undefined\" || force === true) {\n",
       "    root._bokeh_onload_callbacks = [];\n",
       "    root._bokeh_is_loading = undefined;\n",
       "  }\n",
       "\n",
       "  var JS_MIME_TYPE = 'application/javascript';\n",
       "  var HTML_MIME_TYPE = 'text/html';\n",
       "  var EXEC_MIME_TYPE = 'application/vnd.bokehjs_exec.v0+json';\n",
       "  var CLASS_NAME = 'output_bokeh rendered_html';\n",
       "\n",
       "  /**\n",
       "   * Render data to the DOM node\n",
       "   */\n",
       "  function render(props, node) {\n",
       "    var script = document.createElement(\"script\");\n",
       "    node.appendChild(script);\n",
       "  }\n",
       "\n",
       "  /**\n",
       "   * Handle when an output is cleared or removed\n",
       "   */\n",
       "  function handleClearOutput(event, handle) {\n",
       "    var cell = handle.cell;\n",
       "\n",
       "    var id = cell.output_area._bokeh_element_id;\n",
       "    var server_id = cell.output_area._bokeh_server_id;\n",
       "    // Clean up Bokeh references\n",
       "    if (id !== undefined) {\n",
       "      Bokeh.index[id].model.document.clear();\n",
       "      delete Bokeh.index[id];\n",
       "    }\n",
       "\n",
       "    if (server_id !== undefined) {\n",
       "      // Clean up Bokeh references\n",
       "      var cmd = \"from bokeh.io.state import curstate; print(curstate().uuid_to_server['\" + server_id + \"'].get_sessions()[0].document.roots[0]._id)\";\n",
       "      cell.notebook.kernel.execute(cmd, {\n",
       "        iopub: {\n",
       "          output: function(msg) {\n",
       "            var element_id = msg.content.text.trim();\n",
       "            Bokeh.index[element_id].model.document.clear();\n",
       "            delete Bokeh.index[element_id];\n",
       "          }\n",
       "        }\n",
       "      });\n",
       "      // Destroy server and session\n",
       "      var cmd = \"import bokeh.io.notebook as ion; ion.destroy_server('\" + server_id + \"')\";\n",
       "      cell.notebook.kernel.execute(cmd);\n",
       "    }\n",
       "  }\n",
       "\n",
       "  /**\n",
       "   * Handle when a new output is added\n",
       "   */\n",
       "  function handleAddOutput(event, handle) {\n",
       "    var output_area = handle.output_area;\n",
       "    var output = handle.output;\n",
       "\n",
       "    // limit handleAddOutput to display_data with EXEC_MIME_TYPE content only\n",
       "    if ((output.output_type != \"display_data\") || (!output.data.hasOwnProperty(EXEC_MIME_TYPE))) {\n",
       "      return\n",
       "    }\n",
       "\n",
       "    var toinsert = output_area.element.find(\".\" + CLASS_NAME.split(' ')[0]);\n",
       "\n",
       "    if (output.metadata[EXEC_MIME_TYPE][\"id\"] !== undefined) {\n",
       "      toinsert[toinsert.length - 1].firstChild.textContent = output.data[JS_MIME_TYPE];\n",
       "      // store reference to embed id on output_area\n",
       "      output_area._bokeh_element_id = output.metadata[EXEC_MIME_TYPE][\"id\"];\n",
       "    }\n",
       "    if (output.metadata[EXEC_MIME_TYPE][\"server_id\"] !== undefined) {\n",
       "      var bk_div = document.createElement(\"div\");\n",
       "      bk_div.innerHTML = output.data[HTML_MIME_TYPE];\n",
       "      var script_attrs = bk_div.children[0].attributes;\n",
       "      for (var i = 0; i < script_attrs.length; i++) {\n",
       "        toinsert[toinsert.length - 1].firstChild.setAttribute(script_attrs[i].name, script_attrs[i].value);\n",
       "      }\n",
       "      // store reference to server id on output_area\n",
       "      output_area._bokeh_server_id = output.metadata[EXEC_MIME_TYPE][\"server_id\"];\n",
       "    }\n",
       "  }\n",
       "\n",
       "  function register_renderer(events, OutputArea) {\n",
       "\n",
       "    function append_mime(data, metadata, element) {\n",
       "      // create a DOM node to render to\n",
       "      var toinsert = this.create_output_subarea(\n",
       "        metadata,\n",
       "        CLASS_NAME,\n",
       "        EXEC_MIME_TYPE\n",
       "      );\n",
       "      this.keyboard_manager.register_events(toinsert);\n",
       "      // Render to node\n",
       "      var props = {data: data, metadata: metadata[EXEC_MIME_TYPE]};\n",
       "      render(props, toinsert[toinsert.length - 1]);\n",
       "      element.append(toinsert);\n",
       "      return toinsert\n",
       "    }\n",
       "\n",
       "    /* Handle when an output is cleared or removed */\n",
       "    events.on('clear_output.CodeCell', handleClearOutput);\n",
       "    events.on('delete.Cell', handleClearOutput);\n",
       "\n",
       "    /* Handle when a new output is added */\n",
       "    events.on('output_added.OutputArea', handleAddOutput);\n",
       "\n",
       "    /**\n",
       "     * Register the mime type and append_mime function with output_area\n",
       "     */\n",
       "    OutputArea.prototype.register_mime_type(EXEC_MIME_TYPE, append_mime, {\n",
       "      /* Is output safe? */\n",
       "      safe: true,\n",
       "      /* Index of renderer in `output_area.display_order` */\n",
       "      index: 0\n",
       "    });\n",
       "  }\n",
       "\n",
       "  // register the mime type if in Jupyter Notebook environment and previously unregistered\n",
       "  if (root.Jupyter !== undefined) {\n",
       "    var events = require('base/js/events');\n",
       "    var OutputArea = require('notebook/js/outputarea').OutputArea;\n",
       "\n",
       "    if (OutputArea.prototype.mime_types().indexOf(EXEC_MIME_TYPE) == -1) {\n",
       "      register_renderer(events, OutputArea);\n",
       "    }\n",
       "  }\n",
       "\n",
       "  \n",
       "  if (typeof (root._bokeh_timeout) === \"undefined\" || force === true) {\n",
       "    root._bokeh_timeout = Date.now() + 5000;\n",
       "    root._bokeh_failed_load = false;\n",
       "  }\n",
       "\n",
       "  var NB_LOAD_WARNING = {'data': {'text/html':\n",
       "     \"<div style='background-color: #fdd'>\\n\"+\n",
       "     \"<p>\\n\"+\n",
       "     \"BokehJS does not appear to have successfully loaded. If loading BokehJS from CDN, this \\n\"+\n",
       "     \"may be due to a slow or bad network connection. Possible fixes:\\n\"+\n",
       "     \"</p>\\n\"+\n",
       "     \"<ul>\\n\"+\n",
       "     \"<li>re-rerun `output_notebook()` to attempt to load from CDN again, or</li>\\n\"+\n",
       "     \"<li>use INLINE resources instead, as so:</li>\\n\"+\n",
       "     \"</ul>\\n\"+\n",
       "     \"<code>\\n\"+\n",
       "     \"from bokeh.resources import INLINE\\n\"+\n",
       "     \"output_notebook(resources=INLINE)\\n\"+\n",
       "     \"</code>\\n\"+\n",
       "     \"</div>\"}};\n",
       "\n",
       "  function display_loaded() {\n",
       "    var el = document.getElementById(\"2896154a-8938-4e68-ad6c-c9f841808945\");\n",
       "    if (el != null) {\n",
       "      el.textContent = \"BokehJS is loading...\";\n",
       "    }\n",
       "    if (root.Bokeh !== undefined) {\n",
       "      if (el != null) {\n",
       "        el.textContent = \"BokehJS \" + root.Bokeh.version + \" successfully loaded.\";\n",
       "      }\n",
       "    } else if (Date.now() < root._bokeh_timeout) {\n",
       "      setTimeout(display_loaded, 100)\n",
       "    }\n",
       "  }\n",
       "\n",
       "\n",
       "  function run_callbacks() {\n",
       "    try {\n",
       "      root._bokeh_onload_callbacks.forEach(function(callback) { callback() });\n",
       "    }\n",
       "    finally {\n",
       "      delete root._bokeh_onload_callbacks\n",
       "    }\n",
       "    console.info(\"Bokeh: all callbacks have finished\");\n",
       "  }\n",
       "\n",
       "  function load_libs(js_urls, callback) {\n",
       "    root._bokeh_onload_callbacks.push(callback);\n",
       "    if (root._bokeh_is_loading > 0) {\n",
       "      console.log(\"Bokeh: BokehJS is being loaded, scheduling callback at\", now());\n",
       "      return null;\n",
       "    }\n",
       "    if (js_urls == null || js_urls.length === 0) {\n",
       "      run_callbacks();\n",
       "      return null;\n",
       "    }\n",
       "    console.log(\"Bokeh: BokehJS not loaded, scheduling load and callback at\", now());\n",
       "    root._bokeh_is_loading = js_urls.length;\n",
       "    for (var i = 0; i < js_urls.length; i++) {\n",
       "      var url = js_urls[i];\n",
       "      var s = document.createElement('script');\n",
       "      s.src = url;\n",
       "      s.async = false;\n",
       "      s.onreadystatechange = s.onload = function() {\n",
       "        root._bokeh_is_loading--;\n",
       "        if (root._bokeh_is_loading === 0) {\n",
       "          console.log(\"Bokeh: all BokehJS libraries loaded\");\n",
       "          run_callbacks()\n",
       "        }\n",
       "      };\n",
       "      s.onerror = function() {\n",
       "        console.warn(\"failed to load library \" + url);\n",
       "      };\n",
       "      console.log(\"Bokeh: injecting script tag for BokehJS library: \", url);\n",
       "      document.getElementsByTagName(\"head\")[0].appendChild(s);\n",
       "    }\n",
       "  };var element = document.getElementById(\"2896154a-8938-4e68-ad6c-c9f841808945\");\n",
       "  if (element == null) {\n",
       "    console.log(\"Bokeh: ERROR: autoload.js configured with elementid '2896154a-8938-4e68-ad6c-c9f841808945' but no matching script tag was found. \")\n",
       "    return false;\n",
       "  }\n",
       "\n",
       "  var js_urls = [\"https://cdn.pydata.org/bokeh/release/bokeh-0.12.15.min.js\", \"https://cdn.pydata.org/bokeh/release/bokeh-widgets-0.12.15.min.js\", \"https://cdn.pydata.org/bokeh/release/bokeh-tables-0.12.15.min.js\", \"https://cdn.pydata.org/bokeh/release/bokeh-gl-0.12.15.min.js\"];\n",
       "\n",
       "  var inline_js = [\n",
       "    function(Bokeh) {\n",
       "      Bokeh.set_log_level(\"info\");\n",
       "    },\n",
       "    \n",
       "    function(Bokeh) {\n",
       "      \n",
       "    },\n",
       "    function(Bokeh) {\n",
       "      console.log(\"Bokeh: injecting CSS: https://cdn.pydata.org/bokeh/release/bokeh-0.12.15.min.css\");\n",
       "      Bokeh.embed.inject_css(\"https://cdn.pydata.org/bokeh/release/bokeh-0.12.15.min.css\");\n",
       "      console.log(\"Bokeh: injecting CSS: https://cdn.pydata.org/bokeh/release/bokeh-widgets-0.12.15.min.css\");\n",
       "      Bokeh.embed.inject_css(\"https://cdn.pydata.org/bokeh/release/bokeh-widgets-0.12.15.min.css\");\n",
       "      console.log(\"Bokeh: injecting CSS: https://cdn.pydata.org/bokeh/release/bokeh-tables-0.12.15.min.css\");\n",
       "      Bokeh.embed.inject_css(\"https://cdn.pydata.org/bokeh/release/bokeh-tables-0.12.15.min.css\");\n",
       "    }\n",
       "  ];\n",
       "\n",
       "  function run_inline_js() {\n",
       "    \n",
       "    if ((root.Bokeh !== undefined) || (force === true)) {\n",
       "      for (var i = 0; i < inline_js.length; i++) {\n",
       "        inline_js[i].call(root, root.Bokeh);\n",
       "      }if (force === true) {\n",
       "        display_loaded();\n",
       "      }} else if (Date.now() < root._bokeh_timeout) {\n",
       "      setTimeout(run_inline_js, 100);\n",
       "    } else if (!root._bokeh_failed_load) {\n",
       "      console.log(\"Bokeh: BokehJS failed to load within specified timeout.\");\n",
       "      root._bokeh_failed_load = true;\n",
       "    } else if (force !== true) {\n",
       "      var cell = $(document.getElementById(\"2896154a-8938-4e68-ad6c-c9f841808945\")).parents('.cell').data().cell;\n",
       "      cell.output_area.append_execute_result(NB_LOAD_WARNING)\n",
       "    }\n",
       "\n",
       "  }\n",
       "\n",
       "  if (root._bokeh_is_loading === 0) {\n",
       "    console.log(\"Bokeh: BokehJS loaded, going straight to plotting\");\n",
       "    run_inline_js();\n",
       "  } else {\n",
       "    load_libs(js_urls, function() {\n",
       "      console.log(\"Bokeh: BokehJS plotting callback run at\", now());\n",
       "      run_inline_js();\n",
       "    });\n",
       "  }\n",
       "}(window));"
      ],
      "application/vnd.bokehjs_load.v0+json": "\n(function(root) {\n  function now() {\n    return new Date();\n  }\n\n  var force = true;\n\n  if (typeof (root._bokeh_onload_callbacks) === \"undefined\" || force === true) {\n    root._bokeh_onload_callbacks = [];\n    root._bokeh_is_loading = undefined;\n  }\n\n  \n\n  \n  if (typeof (root._bokeh_timeout) === \"undefined\" || force === true) {\n    root._bokeh_timeout = Date.now() + 5000;\n    root._bokeh_failed_load = false;\n  }\n\n  var NB_LOAD_WARNING = {'data': {'text/html':\n     \"<div style='background-color: #fdd'>\\n\"+\n     \"<p>\\n\"+\n     \"BokehJS does not appear to have successfully loaded. If loading BokehJS from CDN, this \\n\"+\n     \"may be due to a slow or bad network connection. Possible fixes:\\n\"+\n     \"</p>\\n\"+\n     \"<ul>\\n\"+\n     \"<li>re-rerun `output_notebook()` to attempt to load from CDN again, or</li>\\n\"+\n     \"<li>use INLINE resources instead, as so:</li>\\n\"+\n     \"</ul>\\n\"+\n     \"<code>\\n\"+\n     \"from bokeh.resources import INLINE\\n\"+\n     \"output_notebook(resources=INLINE)\\n\"+\n     \"</code>\\n\"+\n     \"</div>\"}};\n\n  function display_loaded() {\n    var el = document.getElementById(\"2896154a-8938-4e68-ad6c-c9f841808945\");\n    if (el != null) {\n      el.textContent = \"BokehJS is loading...\";\n    }\n    if (root.Bokeh !== undefined) {\n      if (el != null) {\n        el.textContent = \"BokehJS \" + root.Bokeh.version + \" successfully loaded.\";\n      }\n    } else if (Date.now() < root._bokeh_timeout) {\n      setTimeout(display_loaded, 100)\n    }\n  }\n\n\n  function run_callbacks() {\n    try {\n      root._bokeh_onload_callbacks.forEach(function(callback) { callback() });\n    }\n    finally {\n      delete root._bokeh_onload_callbacks\n    }\n    console.info(\"Bokeh: all callbacks have finished\");\n  }\n\n  function load_libs(js_urls, callback) {\n    root._bokeh_onload_callbacks.push(callback);\n    if (root._bokeh_is_loading > 0) {\n      console.log(\"Bokeh: BokehJS is being loaded, scheduling callback at\", now());\n      return null;\n    }\n    if (js_urls == null || js_urls.length === 0) {\n      run_callbacks();\n      return null;\n    }\n    console.log(\"Bokeh: BokehJS not loaded, scheduling load and callback at\", now());\n    root._bokeh_is_loading = js_urls.length;\n    for (var i = 0; i < js_urls.length; i++) {\n      var url = js_urls[i];\n      var s = document.createElement('script');\n      s.src = url;\n      s.async = false;\n      s.onreadystatechange = s.onload = function() {\n        root._bokeh_is_loading--;\n        if (root._bokeh_is_loading === 0) {\n          console.log(\"Bokeh: all BokehJS libraries loaded\");\n          run_callbacks()\n        }\n      };\n      s.onerror = function() {\n        console.warn(\"failed to load library \" + url);\n      };\n      console.log(\"Bokeh: injecting script tag for BokehJS library: \", url);\n      document.getElementsByTagName(\"head\")[0].appendChild(s);\n    }\n  };var element = document.getElementById(\"2896154a-8938-4e68-ad6c-c9f841808945\");\n  if (element == null) {\n    console.log(\"Bokeh: ERROR: autoload.js configured with elementid '2896154a-8938-4e68-ad6c-c9f841808945' but no matching script tag was found. \")\n    return false;\n  }\n\n  var js_urls = [\"https://cdn.pydata.org/bokeh/release/bokeh-0.12.15.min.js\", \"https://cdn.pydata.org/bokeh/release/bokeh-widgets-0.12.15.min.js\", \"https://cdn.pydata.org/bokeh/release/bokeh-tables-0.12.15.min.js\", \"https://cdn.pydata.org/bokeh/release/bokeh-gl-0.12.15.min.js\"];\n\n  var inline_js = [\n    function(Bokeh) {\n      Bokeh.set_log_level(\"info\");\n    },\n    \n    function(Bokeh) {\n      \n    },\n    function(Bokeh) {\n      console.log(\"Bokeh: injecting CSS: https://cdn.pydata.org/bokeh/release/bokeh-0.12.15.min.css\");\n      Bokeh.embed.inject_css(\"https://cdn.pydata.org/bokeh/release/bokeh-0.12.15.min.css\");\n      console.log(\"Bokeh: injecting CSS: https://cdn.pydata.org/bokeh/release/bokeh-widgets-0.12.15.min.css\");\n      Bokeh.embed.inject_css(\"https://cdn.pydata.org/bokeh/release/bokeh-widgets-0.12.15.min.css\");\n      console.log(\"Bokeh: injecting CSS: https://cdn.pydata.org/bokeh/release/bokeh-tables-0.12.15.min.css\");\n      Bokeh.embed.inject_css(\"https://cdn.pydata.org/bokeh/release/bokeh-tables-0.12.15.min.css\");\n    }\n  ];\n\n  function run_inline_js() {\n    \n    if ((root.Bokeh !== undefined) || (force === true)) {\n      for (var i = 0; i < inline_js.length; i++) {\n        inline_js[i].call(root, root.Bokeh);\n      }if (force === true) {\n        display_loaded();\n      }} else if (Date.now() < root._bokeh_timeout) {\n      setTimeout(run_inline_js, 100);\n    } else if (!root._bokeh_failed_load) {\n      console.log(\"Bokeh: BokehJS failed to load within specified timeout.\");\n      root._bokeh_failed_load = true;\n    } else if (force !== true) {\n      var cell = $(document.getElementById(\"2896154a-8938-4e68-ad6c-c9f841808945\")).parents('.cell').data().cell;\n      cell.output_area.append_execute_result(NB_LOAD_WARNING)\n    }\n\n  }\n\n  if (root._bokeh_is_loading === 0) {\n    console.log(\"Bokeh: BokehJS loaded, going straight to plotting\");\n    run_inline_js();\n  } else {\n    load_libs(js_urls, function() {\n      console.log(\"Bokeh: BokehJS plotting callback run at\", now());\n      run_inline_js();\n    });\n  }\n}(window));"
     },
     "metadata": {},
     "output_type": "display_data"
    }
   ],
   "source": [
    "#mengaktifkan output_notebook()\n",
    "output_notebook()"
   ]
  },
  {
   "cell_type": "code",
   "execution_count": 6,
   "metadata": {},
   "outputs": [],
   "source": [
    "#membuat bingkai terlebih dahulu\n",
    "p = figure(plot_width=450, plot_height=350)"
   ]
  },
  {
   "cell_type": "code",
   "execution_count": 7,
   "metadata": {},
   "outputs": [
    {
     "data": {
      "text/html": [
       "\n",
       "<div class=\"bk-root\">\n",
       "    <div class=\"bk-plotdiv\" id=\"96dc3344-8e50-4f1d-a758-ac2a9b0142da\"></div>\n",
       "</div>"
      ]
     },
     "metadata": {},
     "output_type": "display_data"
    },
    {
     "data": {
      "application/javascript": [
       "(function(root) {\n",
       "  function embed_document(root) {\n",
       "    \n",
       "  var docs_json = {\"13a30d68-fe8d-45fc-80f9-d9d13b27d3cf\":{\"roots\":{\"references\":[{\"attributes\":{},\"id\":\"e3591e09-bb12-4a66-901b-d1163fe02b06\",\"type\":\"HelpTool\"},{\"attributes\":{\"callback\":null},\"id\":\"fc1049b2-a954-4553-9cc4-c1491c4a4c86\",\"type\":\"DataRange1d\"},{\"attributes\":{\"dimension\":1,\"plot\":{\"id\":\"3d73f489-81bf-4b02-9aaa-46bae1f186fa\",\"subtype\":\"Figure\",\"type\":\"Plot\"},\"ticker\":{\"id\":\"d687c848-bb47-4d51-9b30-b7414623d463\",\"type\":\"BasicTicker\"}},\"id\":\"cda52529-dc1b-4786-9bd1-c9a44663b4c2\",\"type\":\"Grid\"},{\"attributes\":{\"below\":[{\"id\":\"87225b8e-8a19-4f79-999a-91e60e38257b\",\"type\":\"LinearAxis\"}],\"left\":[{\"id\":\"f5cc3350-97d6-4440-905b-16e805c74e99\",\"type\":\"LinearAxis\"}],\"plot_height\":350,\"plot_width\":450,\"renderers\":[{\"id\":\"87225b8e-8a19-4f79-999a-91e60e38257b\",\"type\":\"LinearAxis\"},{\"id\":\"369468fe-ea46-4776-97e5-5a4081171b7b\",\"type\":\"Grid\"},{\"id\":\"f5cc3350-97d6-4440-905b-16e805c74e99\",\"type\":\"LinearAxis\"},{\"id\":\"cda52529-dc1b-4786-9bd1-c9a44663b4c2\",\"type\":\"Grid\"},{\"id\":\"8cbe76d1-c594-466a-a403-721eb7b62741\",\"type\":\"BoxAnnotation\"}],\"title\":{\"id\":\"c6ef6694-05bf-4a85-90ec-e6a525aeb944\",\"type\":\"Title\"},\"toolbar\":{\"id\":\"3206586d-8cd3-427a-8c3f-55b7fd48486d\",\"type\":\"Toolbar\"},\"x_range\":{\"id\":\"6fa4d84d-289c-4b28-ac41-64588ae84108\",\"type\":\"DataRange1d\"},\"x_scale\":{\"id\":\"fedea1ad-f0d8-4358-a4a8-20442625c31d\",\"type\":\"LinearScale\"},\"y_range\":{\"id\":\"fc1049b2-a954-4553-9cc4-c1491c4a4c86\",\"type\":\"DataRange1d\"},\"y_scale\":{\"id\":\"11492d3c-2ce3-4920-b039-fa3c8f7245ea\",\"type\":\"LinearScale\"}},\"id\":\"3d73f489-81bf-4b02-9aaa-46bae1f186fa\",\"subtype\":\"Figure\",\"type\":\"Plot\"},{\"attributes\":{},\"id\":\"fedea1ad-f0d8-4358-a4a8-20442625c31d\",\"type\":\"LinearScale\"},{\"attributes\":{},\"id\":\"b22d3bc9-6ab7-4ed9-87b9-534b62ec6f0c\",\"type\":\"BasicTicker\"},{\"attributes\":{\"plot\":{\"id\":\"3d73f489-81bf-4b02-9aaa-46bae1f186fa\",\"subtype\":\"Figure\",\"type\":\"Plot\"},\"ticker\":{\"id\":\"b22d3bc9-6ab7-4ed9-87b9-534b62ec6f0c\",\"type\":\"BasicTicker\"}},\"id\":\"369468fe-ea46-4776-97e5-5a4081171b7b\",\"type\":\"Grid\"},{\"attributes\":{\"formatter\":{\"id\":\"2da4eb4a-323b-4290-af48-e7fba1464d30\",\"type\":\"BasicTickFormatter\"},\"plot\":{\"id\":\"3d73f489-81bf-4b02-9aaa-46bae1f186fa\",\"subtype\":\"Figure\",\"type\":\"Plot\"},\"ticker\":{\"id\":\"d687c848-bb47-4d51-9b30-b7414623d463\",\"type\":\"BasicTicker\"}},\"id\":\"f5cc3350-97d6-4440-905b-16e805c74e99\",\"type\":\"LinearAxis\"},{\"attributes\":{\"callback\":null},\"id\":\"6fa4d84d-289c-4b28-ac41-64588ae84108\",\"type\":\"DataRange1d\"},{\"attributes\":{},\"id\":\"d687c848-bb47-4d51-9b30-b7414623d463\",\"type\":\"BasicTicker\"},{\"attributes\":{\"bottom_units\":\"screen\",\"fill_alpha\":{\"value\":0.5},\"fill_color\":{\"value\":\"lightgrey\"},\"left_units\":\"screen\",\"level\":\"overlay\",\"line_alpha\":{\"value\":1.0},\"line_color\":{\"value\":\"black\"},\"line_dash\":[4,4],\"line_width\":{\"value\":2},\"plot\":null,\"render_mode\":\"css\",\"right_units\":\"screen\",\"top_units\":\"screen\"},\"id\":\"8cbe76d1-c594-466a-a403-721eb7b62741\",\"type\":\"BoxAnnotation\"},{\"attributes\":{},\"id\":\"2da4eb4a-323b-4290-af48-e7fba1464d30\",\"type\":\"BasicTickFormatter\"},{\"attributes\":{\"plot\":null,\"text\":\"\"},\"id\":\"c6ef6694-05bf-4a85-90ec-e6a525aeb944\",\"type\":\"Title\"},{\"attributes\":{\"active_drag\":\"auto\",\"active_inspect\":\"auto\",\"active_scroll\":\"auto\",\"active_tap\":\"auto\",\"tools\":[{\"id\":\"964f4eef-dfe5-4ad5-8144-a086be1da229\",\"type\":\"PanTool\"},{\"id\":\"48890b56-c9fa-47d9-9ceb-dc2cc8a80836\",\"type\":\"WheelZoomTool\"},{\"id\":\"9473adc4-fda0-4b4b-b1b7-d70dfed68ff7\",\"type\":\"BoxZoomTool\"},{\"id\":\"47444a91-5a20-4f70-8d9b-925b1fe0607c\",\"type\":\"SaveTool\"},{\"id\":\"8dd4120e-1e24-4b28-a0d0-0e9790901eee\",\"type\":\"ResetTool\"},{\"id\":\"e3591e09-bb12-4a66-901b-d1163fe02b06\",\"type\":\"HelpTool\"}]},\"id\":\"3206586d-8cd3-427a-8c3f-55b7fd48486d\",\"type\":\"Toolbar\"},{\"attributes\":{},\"id\":\"964f4eef-dfe5-4ad5-8144-a086be1da229\",\"type\":\"PanTool\"},{\"attributes\":{},\"id\":\"2c54ea07-9cd7-4b27-8dd0-0ac2097eff91\",\"type\":\"BasicTickFormatter\"},{\"attributes\":{},\"id\":\"48890b56-c9fa-47d9-9ceb-dc2cc8a80836\",\"type\":\"WheelZoomTool\"},{\"attributes\":{},\"id\":\"11492d3c-2ce3-4920-b039-fa3c8f7245ea\",\"type\":\"LinearScale\"},{\"attributes\":{\"overlay\":{\"id\":\"8cbe76d1-c594-466a-a403-721eb7b62741\",\"type\":\"BoxAnnotation\"}},\"id\":\"9473adc4-fda0-4b4b-b1b7-d70dfed68ff7\",\"type\":\"BoxZoomTool\"},{\"attributes\":{},\"id\":\"47444a91-5a20-4f70-8d9b-925b1fe0607c\",\"type\":\"SaveTool\"},{\"attributes\":{},\"id\":\"8dd4120e-1e24-4b28-a0d0-0e9790901eee\",\"type\":\"ResetTool\"},{\"attributes\":{\"formatter\":{\"id\":\"2c54ea07-9cd7-4b27-8dd0-0ac2097eff91\",\"type\":\"BasicTickFormatter\"},\"plot\":{\"id\":\"3d73f489-81bf-4b02-9aaa-46bae1f186fa\",\"subtype\":\"Figure\",\"type\":\"Plot\"},\"ticker\":{\"id\":\"b22d3bc9-6ab7-4ed9-87b9-534b62ec6f0c\",\"type\":\"BasicTicker\"}},\"id\":\"87225b8e-8a19-4f79-999a-91e60e38257b\",\"type\":\"LinearAxis\"}],\"root_ids\":[\"3d73f489-81bf-4b02-9aaa-46bae1f186fa\"]},\"title\":\"Bokeh Application\",\"version\":\"0.12.15\"}};\n",
       "  var render_items = [{\"docid\":\"13a30d68-fe8d-45fc-80f9-d9d13b27d3cf\",\"elementid\":\"96dc3344-8e50-4f1d-a758-ac2a9b0142da\",\"modelid\":\"3d73f489-81bf-4b02-9aaa-46bae1f186fa\"}];\n",
       "  root.Bokeh.embed.embed_items_notebook(docs_json, render_items);\n",
       "\n",
       "  }\n",
       "  if (root.Bokeh !== undefined) {\n",
       "    embed_document(root);\n",
       "  } else {\n",
       "    var attempts = 0;\n",
       "    var timer = setInterval(function(root) {\n",
       "      if (root.Bokeh !== undefined) {\n",
       "        embed_document(root);\n",
       "        clearInterval(timer);\n",
       "      }\n",
       "      attempts++;\n",
       "      if (attempts > 100) {\n",
       "        console.log(\"Bokeh: ERROR: Unable to run BokehJS code because BokehJS library is missing\")\n",
       "        clearInterval(timer);\n",
       "      }\n",
       "    }, 10, root)\n",
       "  }\n",
       "})(window);"
      ],
      "application/vnd.bokehjs_exec.v0+json": ""
     },
     "metadata": {
      "application/vnd.bokehjs_exec.v0+json": {
       "id": "3d73f489-81bf-4b02-9aaa-46bae1f186fa"
      }
     },
     "output_type": "display_data"
    }
   ],
   "source": [
    "#menampilkan bingkai yang sudah dibuat\n",
    "show(p)"
   ]
  },
  {
   "cell_type": "code",
   "execution_count": 8,
   "metadata": {},
   "outputs": [
    {
     "data": {
      "text/html": [
       "\n",
       "<div class=\"bk-root\">\n",
       "    <div class=\"bk-plotdiv\" id=\"93d8ced2-20e3-4299-b23f-1e695c203c93\"></div>\n",
       "</div>"
      ]
     },
     "metadata": {},
     "output_type": "display_data"
    },
    {
     "data": {
      "application/javascript": [
       "(function(root) {\n",
       "  function embed_document(root) {\n",
       "    \n",
       "  var docs_json = {\"85163bfa-3980-4d2f-bcca-3fd967f49189\":{\"roots\":{\"references\":[{\"attributes\":{},\"id\":\"e3591e09-bb12-4a66-901b-d1163fe02b06\",\"type\":\"HelpTool\"},{\"attributes\":{\"callback\":null},\"id\":\"fc1049b2-a954-4553-9cc4-c1491c4a4c86\",\"type\":\"DataRange1d\"},{\"attributes\":{\"dimension\":1,\"plot\":{\"id\":\"3d73f489-81bf-4b02-9aaa-46bae1f186fa\",\"subtype\":\"Figure\",\"type\":\"Plot\"},\"ticker\":{\"id\":\"d687c848-bb47-4d51-9b30-b7414623d463\",\"type\":\"BasicTicker\"}},\"id\":\"cda52529-dc1b-4786-9bd1-c9a44663b4c2\",\"type\":\"Grid\"},{\"attributes\":{\"below\":[{\"id\":\"87225b8e-8a19-4f79-999a-91e60e38257b\",\"type\":\"LinearAxis\"}],\"left\":[{\"id\":\"f5cc3350-97d6-4440-905b-16e805c74e99\",\"type\":\"LinearAxis\"}],\"plot_height\":350,\"plot_width\":450,\"renderers\":[{\"id\":\"87225b8e-8a19-4f79-999a-91e60e38257b\",\"type\":\"LinearAxis\"},{\"id\":\"369468fe-ea46-4776-97e5-5a4081171b7b\",\"type\":\"Grid\"},{\"id\":\"f5cc3350-97d6-4440-905b-16e805c74e99\",\"type\":\"LinearAxis\"},{\"id\":\"cda52529-dc1b-4786-9bd1-c9a44663b4c2\",\"type\":\"Grid\"},{\"id\":\"8cbe76d1-c594-466a-a403-721eb7b62741\",\"type\":\"BoxAnnotation\"},{\"id\":\"64784273-e377-4a89-8049-35410395fd50\",\"type\":\"GlyphRenderer\"}],\"title\":{\"id\":\"c6ef6694-05bf-4a85-90ec-e6a525aeb944\",\"type\":\"Title\"},\"toolbar\":{\"id\":\"3206586d-8cd3-427a-8c3f-55b7fd48486d\",\"type\":\"Toolbar\"},\"x_range\":{\"id\":\"6fa4d84d-289c-4b28-ac41-64588ae84108\",\"type\":\"DataRange1d\"},\"x_scale\":{\"id\":\"fedea1ad-f0d8-4358-a4a8-20442625c31d\",\"type\":\"LinearScale\"},\"y_range\":{\"id\":\"fc1049b2-a954-4553-9cc4-c1491c4a4c86\",\"type\":\"DataRange1d\"},\"y_scale\":{\"id\":\"11492d3c-2ce3-4920-b039-fa3c8f7245ea\",\"type\":\"LinearScale\"}},\"id\":\"3d73f489-81bf-4b02-9aaa-46bae1f186fa\",\"subtype\":\"Figure\",\"type\":\"Plot\"},{\"attributes\":{\"source\":{\"id\":\"09d9c643-10c6-44da-a522-206f9e1b9e1b\",\"type\":\"ColumnDataSource\"}},\"id\":\"d38168f8-373e-4166-98f0-0d229e6865a6\",\"type\":\"CDSView\"},{\"attributes\":{},\"id\":\"fedea1ad-f0d8-4358-a4a8-20442625c31d\",\"type\":\"LinearScale\"},{\"attributes\":{},\"id\":\"b22d3bc9-6ab7-4ed9-87b9-534b62ec6f0c\",\"type\":\"BasicTicker\"},{\"attributes\":{\"plot\":{\"id\":\"3d73f489-81bf-4b02-9aaa-46bae1f186fa\",\"subtype\":\"Figure\",\"type\":\"Plot\"},\"ticker\":{\"id\":\"b22d3bc9-6ab7-4ed9-87b9-534b62ec6f0c\",\"type\":\"BasicTicker\"}},\"id\":\"369468fe-ea46-4776-97e5-5a4081171b7b\",\"type\":\"Grid\"},{\"attributes\":{\"formatter\":{\"id\":\"2da4eb4a-323b-4290-af48-e7fba1464d30\",\"type\":\"BasicTickFormatter\"},\"plot\":{\"id\":\"3d73f489-81bf-4b02-9aaa-46bae1f186fa\",\"subtype\":\"Figure\",\"type\":\"Plot\"},\"ticker\":{\"id\":\"d687c848-bb47-4d51-9b30-b7414623d463\",\"type\":\"BasicTicker\"}},\"id\":\"f5cc3350-97d6-4440-905b-16e805c74e99\",\"type\":\"LinearAxis\"},{\"attributes\":{\"callback\":null},\"id\":\"6fa4d84d-289c-4b28-ac41-64588ae84108\",\"type\":\"DataRange1d\"},{\"attributes\":{},\"id\":\"d687c848-bb47-4d51-9b30-b7414623d463\",\"type\":\"BasicTicker\"},{\"attributes\":{\"data_source\":{\"id\":\"09d9c643-10c6-44da-a522-206f9e1b9e1b\",\"type\":\"ColumnDataSource\"},\"glyph\":{\"id\":\"ea2a971c-4527-4c50-9734-99bb4febf3d6\",\"type\":\"Circle\"},\"hover_glyph\":null,\"muted_glyph\":null,\"nonselection_glyph\":{\"id\":\"ae147ce3-d50c-40f9-97bf-1c8e406b67f4\",\"type\":\"Circle\"},\"selection_glyph\":null,\"view\":{\"id\":\"d38168f8-373e-4166-98f0-0d229e6865a6\",\"type\":\"CDSView\"}},\"id\":\"64784273-e377-4a89-8049-35410395fd50\",\"type\":\"GlyphRenderer\"},{\"attributes\":{\"bottom_units\":\"screen\",\"fill_alpha\":{\"value\":0.5},\"fill_color\":{\"value\":\"lightgrey\"},\"left_units\":\"screen\",\"level\":\"overlay\",\"line_alpha\":{\"value\":1.0},\"line_color\":{\"value\":\"black\"},\"line_dash\":[4,4],\"line_width\":{\"value\":2},\"plot\":null,\"render_mode\":\"css\",\"right_units\":\"screen\",\"top_units\":\"screen\"},\"id\":\"8cbe76d1-c594-466a-a403-721eb7b62741\",\"type\":\"BoxAnnotation\"},{\"attributes\":{\"fill_color\":{\"value\":\"#1f77b4\"},\"line_color\":{\"value\":\"#1f77b4\"},\"x\":{\"field\":\"x\"},\"y\":{\"field\":\"y\"}},\"id\":\"ea2a971c-4527-4c50-9734-99bb4febf3d6\",\"type\":\"Circle\"},{\"attributes\":{},\"id\":\"2da4eb4a-323b-4290-af48-e7fba1464d30\",\"type\":\"BasicTickFormatter\"},{\"attributes\":{\"plot\":null,\"text\":\"\"},\"id\":\"c6ef6694-05bf-4a85-90ec-e6a525aeb944\",\"type\":\"Title\"},{\"attributes\":{\"active_drag\":\"auto\",\"active_inspect\":\"auto\",\"active_scroll\":\"auto\",\"active_tap\":\"auto\",\"tools\":[{\"id\":\"964f4eef-dfe5-4ad5-8144-a086be1da229\",\"type\":\"PanTool\"},{\"id\":\"48890b56-c9fa-47d9-9ceb-dc2cc8a80836\",\"type\":\"WheelZoomTool\"},{\"id\":\"9473adc4-fda0-4b4b-b1b7-d70dfed68ff7\",\"type\":\"BoxZoomTool\"},{\"id\":\"47444a91-5a20-4f70-8d9b-925b1fe0607c\",\"type\":\"SaveTool\"},{\"id\":\"8dd4120e-1e24-4b28-a0d0-0e9790901eee\",\"type\":\"ResetTool\"},{\"id\":\"e3591e09-bb12-4a66-901b-d1163fe02b06\",\"type\":\"HelpTool\"}]},\"id\":\"3206586d-8cd3-427a-8c3f-55b7fd48486d\",\"type\":\"Toolbar\"},{\"attributes\":{},\"id\":\"964f4eef-dfe5-4ad5-8144-a086be1da229\",\"type\":\"PanTool\"},{\"attributes\":{},\"id\":\"2c54ea07-9cd7-4b27-8dd0-0ac2097eff91\",\"type\":\"BasicTickFormatter\"},{\"attributes\":{\"fill_alpha\":{\"value\":0.1},\"fill_color\":{\"value\":\"#1f77b4\"},\"line_alpha\":{\"value\":0.1},\"line_color\":{\"value\":\"#1f77b4\"},\"x\":{\"field\":\"x\"},\"y\":{\"field\":\"y\"}},\"id\":\"ae147ce3-d50c-40f9-97bf-1c8e406b67f4\",\"type\":\"Circle\"},{\"attributes\":{},\"id\":\"48890b56-c9fa-47d9-9ceb-dc2cc8a80836\",\"type\":\"WheelZoomTool\"},{\"attributes\":{},\"id\":\"11492d3c-2ce3-4920-b039-fa3c8f7245ea\",\"type\":\"LinearScale\"},{\"attributes\":{\"overlay\":{\"id\":\"8cbe76d1-c594-466a-a403-721eb7b62741\",\"type\":\"BoxAnnotation\"}},\"id\":\"9473adc4-fda0-4b4b-b1b7-d70dfed68ff7\",\"type\":\"BoxZoomTool\"},{\"attributes\":{\"callback\":null,\"column_names\":[\"x\",\"y\"],\"data\":{\"x\":[2,4,6,8],\"y\":[4,3,7,1]},\"selected\":null,\"selection_policy\":null},\"id\":\"09d9c643-10c6-44da-a522-206f9e1b9e1b\",\"type\":\"ColumnDataSource\"},{\"attributes\":{},\"id\":\"47444a91-5a20-4f70-8d9b-925b1fe0607c\",\"type\":\"SaveTool\"},{\"attributes\":{},\"id\":\"8dd4120e-1e24-4b28-a0d0-0e9790901eee\",\"type\":\"ResetTool\"},{\"attributes\":{\"formatter\":{\"id\":\"2c54ea07-9cd7-4b27-8dd0-0ac2097eff91\",\"type\":\"BasicTickFormatter\"},\"plot\":{\"id\":\"3d73f489-81bf-4b02-9aaa-46bae1f186fa\",\"subtype\":\"Figure\",\"type\":\"Plot\"},\"ticker\":{\"id\":\"b22d3bc9-6ab7-4ed9-87b9-534b62ec6f0c\",\"type\":\"BasicTicker\"}},\"id\":\"87225b8e-8a19-4f79-999a-91e60e38257b\",\"type\":\"LinearAxis\"}],\"root_ids\":[\"3d73f489-81bf-4b02-9aaa-46bae1f186fa\"]},\"title\":\"Bokeh Application\",\"version\":\"0.12.15\"}};\n",
       "  var render_items = [{\"docid\":\"85163bfa-3980-4d2f-bcca-3fd967f49189\",\"elementid\":\"93d8ced2-20e3-4299-b23f-1e695c203c93\",\"modelid\":\"3d73f489-81bf-4b02-9aaa-46bae1f186fa\"}];\n",
       "  root.Bokeh.embed.embed_items_notebook(docs_json, render_items);\n",
       "\n",
       "  }\n",
       "  if (root.Bokeh !== undefined) {\n",
       "    embed_document(root);\n",
       "  } else {\n",
       "    var attempts = 0;\n",
       "    var timer = setInterval(function(root) {\n",
       "      if (root.Bokeh !== undefined) {\n",
       "        embed_document(root);\n",
       "        clearInterval(timer);\n",
       "      }\n",
       "      attempts++;\n",
       "      if (attempts > 100) {\n",
       "        console.log(\"Bokeh: ERROR: Unable to run BokehJS code because BokehJS library is missing\")\n",
       "        clearInterval(timer);\n",
       "      }\n",
       "    }, 10, root)\n",
       "  }\n",
       "})(window);"
      ],
      "application/vnd.bokehjs_exec.v0+json": ""
     },
     "metadata": {
      "application/vnd.bokehjs_exec.v0+json": {
       "id": "3d73f489-81bf-4b02-9aaa-46bae1f186fa"
      }
     },
     "output_type": "display_data"
    }
   ],
   "source": [
    "#misalnya membuat data point yaitu p.circle([2,4,6,8],[4,3,7,1])\n",
    "p.circle([2,4,6,8],[4,3,7,1])\n",
    "\n",
    "#menampilkan hasilnya\n",
    "show(p)"
   ]
  },
  {
   "cell_type": "code",
   "execution_count": 9,
   "metadata": {},
   "outputs": [
    {
     "data": {
      "text/html": [
       "\n",
       "<div class=\"bk-root\">\n",
       "    <div class=\"bk-plotdiv\" id=\"49900ee8-eaa9-4439-8137-05e9ee0641fe\"></div>\n",
       "</div>"
      ]
     },
     "metadata": {},
     "output_type": "display_data"
    },
    {
     "data": {
      "application/javascript": [
       "(function(root) {\n",
       "  function embed_document(root) {\n",
       "    \n",
       "  var docs_json = {\"bb5c7d4f-c065-4485-82c9-7c8644b609be\":{\"roots\":{\"references\":[{\"attributes\":{\"callback\":null},\"id\":\"fc1049b2-a954-4553-9cc4-c1491c4a4c86\",\"type\":\"DataRange1d\"},{\"attributes\":{\"dimension\":1,\"plot\":{\"id\":\"3d73f489-81bf-4b02-9aaa-46bae1f186fa\",\"subtype\":\"Figure\",\"type\":\"Plot\"},\"ticker\":{\"id\":\"d687c848-bb47-4d51-9b30-b7414623d463\",\"type\":\"BasicTicker\"}},\"id\":\"cda52529-dc1b-4786-9bd1-c9a44663b4c2\",\"type\":\"Grid\"},{\"attributes\":{},\"id\":\"fedea1ad-f0d8-4358-a4a8-20442625c31d\",\"type\":\"LinearScale\"},{\"attributes\":{\"fill_color\":{\"value\":\"#1f77b4\"},\"line_color\":{\"value\":\"red\"},\"size\":{\"units\":\"screen\",\"value\":14},\"x\":{\"field\":\"x\"},\"y\":{\"field\":\"y\"}},\"id\":\"04d4485b-85a5-40cf-b8a0-91501fad60cd\",\"type\":\"Circle\"},{\"attributes\":{},\"id\":\"b22d3bc9-6ab7-4ed9-87b9-534b62ec6f0c\",\"type\":\"BasicTicker\"},{\"attributes\":{\"plot\":{\"id\":\"3d73f489-81bf-4b02-9aaa-46bae1f186fa\",\"subtype\":\"Figure\",\"type\":\"Plot\"},\"ticker\":{\"id\":\"b22d3bc9-6ab7-4ed9-87b9-534b62ec6f0c\",\"type\":\"BasicTicker\"}},\"id\":\"369468fe-ea46-4776-97e5-5a4081171b7b\",\"type\":\"Grid\"},{\"attributes\":{\"fill_alpha\":{\"value\":0.1},\"fill_color\":{\"value\":\"#1f77b4\"},\"line_alpha\":{\"value\":0.1},\"line_color\":{\"value\":\"#1f77b4\"},\"size\":{\"units\":\"screen\",\"value\":14},\"x\":{\"field\":\"x\"},\"y\":{\"field\":\"y\"}},\"id\":\"2d086b76-c08c-44e4-954d-d9c251fe4ac5\",\"type\":\"Circle\"},{\"attributes\":{\"formatter\":{\"id\":\"2da4eb4a-323b-4290-af48-e7fba1464d30\",\"type\":\"BasicTickFormatter\"},\"plot\":{\"id\":\"3d73f489-81bf-4b02-9aaa-46bae1f186fa\",\"subtype\":\"Figure\",\"type\":\"Plot\"},\"ticker\":{\"id\":\"d687c848-bb47-4d51-9b30-b7414623d463\",\"type\":\"BasicTicker\"}},\"id\":\"f5cc3350-97d6-4440-905b-16e805c74e99\",\"type\":\"LinearAxis\"},{\"attributes\":{\"callback\":null},\"id\":\"6fa4d84d-289c-4b28-ac41-64588ae84108\",\"type\":\"DataRange1d\"},{\"attributes\":{},\"id\":\"d687c848-bb47-4d51-9b30-b7414623d463\",\"type\":\"BasicTicker\"},{\"attributes\":{\"data_source\":{\"id\":\"09d9c643-10c6-44da-a522-206f9e1b9e1b\",\"type\":\"ColumnDataSource\"},\"glyph\":{\"id\":\"ea2a971c-4527-4c50-9734-99bb4febf3d6\",\"type\":\"Circle\"},\"hover_glyph\":null,\"muted_glyph\":null,\"nonselection_glyph\":{\"id\":\"ae147ce3-d50c-40f9-97bf-1c8e406b67f4\",\"type\":\"Circle\"},\"selection_glyph\":null,\"view\":{\"id\":\"d38168f8-373e-4166-98f0-0d229e6865a6\",\"type\":\"CDSView\"}},\"id\":\"64784273-e377-4a89-8049-35410395fd50\",\"type\":\"GlyphRenderer\"},{\"attributes\":{\"data_source\":{\"id\":\"cfc6a47a-c96d-451e-b0fa-8edb94e910a6\",\"type\":\"ColumnDataSource\"},\"glyph\":{\"id\":\"04d4485b-85a5-40cf-b8a0-91501fad60cd\",\"type\":\"Circle\"},\"hover_glyph\":null,\"muted_glyph\":null,\"nonselection_glyph\":{\"id\":\"2d086b76-c08c-44e4-954d-d9c251fe4ac5\",\"type\":\"Circle\"},\"selection_glyph\":null,\"view\":{\"id\":\"eb1da8f5-d4f6-44c2-a843-3cd191aa8cfc\",\"type\":\"CDSView\"}},\"id\":\"49c0ef3d-febd-442e-a1db-c16f23e8aed1\",\"type\":\"GlyphRenderer\"},{\"attributes\":{\"bottom_units\":\"screen\",\"fill_alpha\":{\"value\":0.5},\"fill_color\":{\"value\":\"lightgrey\"},\"left_units\":\"screen\",\"level\":\"overlay\",\"line_alpha\":{\"value\":1.0},\"line_color\":{\"value\":\"black\"},\"line_dash\":[4,4],\"line_width\":{\"value\":2},\"plot\":null,\"render_mode\":\"css\",\"right_units\":\"screen\",\"top_units\":\"screen\"},\"id\":\"8cbe76d1-c594-466a-a403-721eb7b62741\",\"type\":\"BoxAnnotation\"},{\"attributes\":{},\"id\":\"2da4eb4a-323b-4290-af48-e7fba1464d30\",\"type\":\"BasicTickFormatter\"},{\"attributes\":{\"plot\":null,\"text\":\"\"},\"id\":\"c6ef6694-05bf-4a85-90ec-e6a525aeb944\",\"type\":\"Title\"},{\"attributes\":{\"active_drag\":\"auto\",\"active_inspect\":\"auto\",\"active_scroll\":\"auto\",\"active_tap\":\"auto\",\"tools\":[{\"id\":\"964f4eef-dfe5-4ad5-8144-a086be1da229\",\"type\":\"PanTool\"},{\"id\":\"48890b56-c9fa-47d9-9ceb-dc2cc8a80836\",\"type\":\"WheelZoomTool\"},{\"id\":\"9473adc4-fda0-4b4b-b1b7-d70dfed68ff7\",\"type\":\"BoxZoomTool\"},{\"id\":\"47444a91-5a20-4f70-8d9b-925b1fe0607c\",\"type\":\"SaveTool\"},{\"id\":\"8dd4120e-1e24-4b28-a0d0-0e9790901eee\",\"type\":\"ResetTool\"},{\"id\":\"e3591e09-bb12-4a66-901b-d1163fe02b06\",\"type\":\"HelpTool\"}]},\"id\":\"3206586d-8cd3-427a-8c3f-55b7fd48486d\",\"type\":\"Toolbar\"},{\"attributes\":{},\"id\":\"964f4eef-dfe5-4ad5-8144-a086be1da229\",\"type\":\"PanTool\"},{\"attributes\":{},\"id\":\"2c54ea07-9cd7-4b27-8dd0-0ac2097eff91\",\"type\":\"BasicTickFormatter\"},{\"attributes\":{\"fill_alpha\":{\"value\":0.1},\"fill_color\":{\"value\":\"#1f77b4\"},\"line_alpha\":{\"value\":0.1},\"line_color\":{\"value\":\"#1f77b4\"},\"x\":{\"field\":\"x\"},\"y\":{\"field\":\"y\"}},\"id\":\"ae147ce3-d50c-40f9-97bf-1c8e406b67f4\",\"type\":\"Circle\"},{\"attributes\":{},\"id\":\"48890b56-c9fa-47d9-9ceb-dc2cc8a80836\",\"type\":\"WheelZoomTool\"},{\"attributes\":{\"overlay\":{\"id\":\"8cbe76d1-c594-466a-a403-721eb7b62741\",\"type\":\"BoxAnnotation\"}},\"id\":\"9473adc4-fda0-4b4b-b1b7-d70dfed68ff7\",\"type\":\"BoxZoomTool\"},{\"attributes\":{\"callback\":null,\"column_names\":[\"x\",\"y\"],\"data\":{\"x\":[2,4,6,8],\"y\":[4,3,7,1]},\"selected\":null,\"selection_policy\":null},\"id\":\"09d9c643-10c6-44da-a522-206f9e1b9e1b\",\"type\":\"ColumnDataSource\"},{\"attributes\":{},\"id\":\"47444a91-5a20-4f70-8d9b-925b1fe0607c\",\"type\":\"SaveTool\"},{\"attributes\":{},\"id\":\"8dd4120e-1e24-4b28-a0d0-0e9790901eee\",\"type\":\"ResetTool\"},{\"attributes\":{},\"id\":\"e3591e09-bb12-4a66-901b-d1163fe02b06\",\"type\":\"HelpTool\"},{\"attributes\":{\"below\":[{\"id\":\"87225b8e-8a19-4f79-999a-91e60e38257b\",\"type\":\"LinearAxis\"}],\"left\":[{\"id\":\"f5cc3350-97d6-4440-905b-16e805c74e99\",\"type\":\"LinearAxis\"}],\"plot_height\":350,\"plot_width\":450,\"renderers\":[{\"id\":\"87225b8e-8a19-4f79-999a-91e60e38257b\",\"type\":\"LinearAxis\"},{\"id\":\"369468fe-ea46-4776-97e5-5a4081171b7b\",\"type\":\"Grid\"},{\"id\":\"f5cc3350-97d6-4440-905b-16e805c74e99\",\"type\":\"LinearAxis\"},{\"id\":\"cda52529-dc1b-4786-9bd1-c9a44663b4c2\",\"type\":\"Grid\"},{\"id\":\"8cbe76d1-c594-466a-a403-721eb7b62741\",\"type\":\"BoxAnnotation\"},{\"id\":\"64784273-e377-4a89-8049-35410395fd50\",\"type\":\"GlyphRenderer\"},{\"id\":\"49c0ef3d-febd-442e-a1db-c16f23e8aed1\",\"type\":\"GlyphRenderer\"}],\"title\":{\"id\":\"c6ef6694-05bf-4a85-90ec-e6a525aeb944\",\"type\":\"Title\"},\"toolbar\":{\"id\":\"3206586d-8cd3-427a-8c3f-55b7fd48486d\",\"type\":\"Toolbar\"},\"x_range\":{\"id\":\"6fa4d84d-289c-4b28-ac41-64588ae84108\",\"type\":\"DataRange1d\"},\"x_scale\":{\"id\":\"fedea1ad-f0d8-4358-a4a8-20442625c31d\",\"type\":\"LinearScale\"},\"y_range\":{\"id\":\"fc1049b2-a954-4553-9cc4-c1491c4a4c86\",\"type\":\"DataRange1d\"},\"y_scale\":{\"id\":\"11492d3c-2ce3-4920-b039-fa3c8f7245ea\",\"type\":\"LinearScale\"}},\"id\":\"3d73f489-81bf-4b02-9aaa-46bae1f186fa\",\"subtype\":\"Figure\",\"type\":\"Plot\"},{\"attributes\":{\"source\":{\"id\":\"09d9c643-10c6-44da-a522-206f9e1b9e1b\",\"type\":\"ColumnDataSource\"}},\"id\":\"d38168f8-373e-4166-98f0-0d229e6865a6\",\"type\":\"CDSView\"},{\"attributes\":{\"callback\":null,\"column_names\":[\"x\",\"y\"],\"data\":{\"x\":[2,4,6,8],\"y\":[4,3,7,1]},\"selected\":null,\"selection_policy\":null},\"id\":\"cfc6a47a-c96d-451e-b0fa-8edb94e910a6\",\"type\":\"ColumnDataSource\"},{\"attributes\":{\"source\":{\"id\":\"cfc6a47a-c96d-451e-b0fa-8edb94e910a6\",\"type\":\"ColumnDataSource\"}},\"id\":\"eb1da8f5-d4f6-44c2-a843-3cd191aa8cfc\",\"type\":\"CDSView\"},{\"attributes\":{\"fill_color\":{\"value\":\"#1f77b4\"},\"line_color\":{\"value\":\"#1f77b4\"},\"x\":{\"field\":\"x\"},\"y\":{\"field\":\"y\"}},\"id\":\"ea2a971c-4527-4c50-9734-99bb4febf3d6\",\"type\":\"Circle\"},{\"attributes\":{},\"id\":\"11492d3c-2ce3-4920-b039-fa3c8f7245ea\",\"type\":\"LinearScale\"},{\"attributes\":{\"formatter\":{\"id\":\"2c54ea07-9cd7-4b27-8dd0-0ac2097eff91\",\"type\":\"BasicTickFormatter\"},\"plot\":{\"id\":\"3d73f489-81bf-4b02-9aaa-46bae1f186fa\",\"subtype\":\"Figure\",\"type\":\"Plot\"},\"ticker\":{\"id\":\"b22d3bc9-6ab7-4ed9-87b9-534b62ec6f0c\",\"type\":\"BasicTicker\"}},\"id\":\"87225b8e-8a19-4f79-999a-91e60e38257b\",\"type\":\"LinearAxis\"}],\"root_ids\":[\"3d73f489-81bf-4b02-9aaa-46bae1f186fa\"]},\"title\":\"Bokeh Application\",\"version\":\"0.12.15\"}};\n",
       "  var render_items = [{\"docid\":\"bb5c7d4f-c065-4485-82c9-7c8644b609be\",\"elementid\":\"49900ee8-eaa9-4439-8137-05e9ee0641fe\",\"modelid\":\"3d73f489-81bf-4b02-9aaa-46bae1f186fa\"}];\n",
       "  root.Bokeh.embed.embed_items_notebook(docs_json, render_items);\n",
       "\n",
       "  }\n",
       "  if (root.Bokeh !== undefined) {\n",
       "    embed_document(root);\n",
       "  } else {\n",
       "    var attempts = 0;\n",
       "    var timer = setInterval(function(root) {\n",
       "      if (root.Bokeh !== undefined) {\n",
       "        embed_document(root);\n",
       "        clearInterval(timer);\n",
       "      }\n",
       "      attempts++;\n",
       "      if (attempts > 100) {\n",
       "        console.log(\"Bokeh: ERROR: Unable to run BokehJS code because BokehJS library is missing\")\n",
       "        clearInterval(timer);\n",
       "      }\n",
       "    }, 10, root)\n",
       "  }\n",
       "})(window);"
      ],
      "application/vnd.bokehjs_exec.v0+json": ""
     },
     "metadata": {
      "application/vnd.bokehjs_exec.v0+json": {
       "id": "3d73f489-81bf-4b02-9aaa-46bae1f186fa"
      }
     },
     "output_type": "display_data"
    }
   ],
   "source": [
    "#membuat data point dan menambahkan size=14, line_color='red'\n",
    "p.circle([2,4,6,8],[4,3,7,1], size=14, line_color='red')\n",
    "\n",
    "show(p)"
   ]
  },
  {
   "cell_type": "code",
   "execution_count": 10,
   "metadata": {},
   "outputs": [
    {
     "data": {
      "text/html": [
       "\n",
       "<div class=\"bk-root\">\n",
       "    <div class=\"bk-plotdiv\" id=\"996a485f-26c5-4eb7-8726-1ed5fd7f11d1\"></div>\n",
       "</div>"
      ]
     },
     "metadata": {},
     "output_type": "display_data"
    },
    {
     "data": {
      "application/javascript": [
       "(function(root) {\n",
       "  function embed_document(root) {\n",
       "    \n",
       "  var docs_json = {\"0bd65b1e-8b80-4efd-bdd3-ede3e5bf2e48\":{\"roots\":{\"references\":[{\"attributes\":{\"callback\":null},\"id\":\"fc1049b2-a954-4553-9cc4-c1491c4a4c86\",\"type\":\"DataRange1d\"},{\"attributes\":{\"dimension\":1,\"plot\":{\"id\":\"3d73f489-81bf-4b02-9aaa-46bae1f186fa\",\"subtype\":\"Figure\",\"type\":\"Plot\"},\"ticker\":{\"id\":\"d687c848-bb47-4d51-9b30-b7414623d463\",\"type\":\"BasicTicker\"}},\"id\":\"cda52529-dc1b-4786-9bd1-c9a44663b4c2\",\"type\":\"Grid\"},{\"attributes\":{\"fill_color\":{\"value\":\"yellow\"},\"line_color\":{\"value\":\"red\"},\"size\":{\"units\":\"screen\",\"value\":18},\"x\":{\"field\":\"x\"},\"y\":{\"field\":\"y\"}},\"id\":\"8d9ff2cf-ad04-4d87-b7b9-5621f72ee4f0\",\"type\":\"Circle\"},{\"attributes\":{},\"id\":\"fedea1ad-f0d8-4358-a4a8-20442625c31d\",\"type\":\"LinearScale\"},{\"attributes\":{\"fill_color\":{\"value\":\"#1f77b4\"},\"line_color\":{\"value\":\"red\"},\"size\":{\"units\":\"screen\",\"value\":14},\"x\":{\"field\":\"x\"},\"y\":{\"field\":\"y\"}},\"id\":\"04d4485b-85a5-40cf-b8a0-91501fad60cd\",\"type\":\"Circle\"},{\"attributes\":{},\"id\":\"b22d3bc9-6ab7-4ed9-87b9-534b62ec6f0c\",\"type\":\"BasicTicker\"},{\"attributes\":{\"plot\":{\"id\":\"3d73f489-81bf-4b02-9aaa-46bae1f186fa\",\"subtype\":\"Figure\",\"type\":\"Plot\"},\"ticker\":{\"id\":\"b22d3bc9-6ab7-4ed9-87b9-534b62ec6f0c\",\"type\":\"BasicTicker\"}},\"id\":\"369468fe-ea46-4776-97e5-5a4081171b7b\",\"type\":\"Grid\"},{\"attributes\":{\"fill_alpha\":{\"value\":0.1},\"fill_color\":{\"value\":\"#1f77b4\"},\"line_alpha\":{\"value\":0.1},\"line_color\":{\"value\":\"#1f77b4\"},\"size\":{\"units\":\"screen\",\"value\":14},\"x\":{\"field\":\"x\"},\"y\":{\"field\":\"y\"}},\"id\":\"2d086b76-c08c-44e4-954d-d9c251fe4ac5\",\"type\":\"Circle\"},{\"attributes\":{\"formatter\":{\"id\":\"2da4eb4a-323b-4290-af48-e7fba1464d30\",\"type\":\"BasicTickFormatter\"},\"plot\":{\"id\":\"3d73f489-81bf-4b02-9aaa-46bae1f186fa\",\"subtype\":\"Figure\",\"type\":\"Plot\"},\"ticker\":{\"id\":\"d687c848-bb47-4d51-9b30-b7414623d463\",\"type\":\"BasicTicker\"}},\"id\":\"f5cc3350-97d6-4440-905b-16e805c74e99\",\"type\":\"LinearAxis\"},{\"attributes\":{\"callback\":null},\"id\":\"6fa4d84d-289c-4b28-ac41-64588ae84108\",\"type\":\"DataRange1d\"},{\"attributes\":{},\"id\":\"d687c848-bb47-4d51-9b30-b7414623d463\",\"type\":\"BasicTicker\"},{\"attributes\":{\"fill_alpha\":{\"value\":0.1},\"fill_color\":{\"value\":\"#1f77b4\"},\"line_alpha\":{\"value\":0.1},\"line_color\":{\"value\":\"#1f77b4\"},\"size\":{\"units\":\"screen\",\"value\":18},\"x\":{\"field\":\"x\"},\"y\":{\"field\":\"y\"}},\"id\":\"5bea647b-1f7e-4952-995f-2d384b012c26\",\"type\":\"Circle\"},{\"attributes\":{\"data_source\":{\"id\":\"09d9c643-10c6-44da-a522-206f9e1b9e1b\",\"type\":\"ColumnDataSource\"},\"glyph\":{\"id\":\"ea2a971c-4527-4c50-9734-99bb4febf3d6\",\"type\":\"Circle\"},\"hover_glyph\":null,\"muted_glyph\":null,\"nonselection_glyph\":{\"id\":\"ae147ce3-d50c-40f9-97bf-1c8e406b67f4\",\"type\":\"Circle\"},\"selection_glyph\":null,\"view\":{\"id\":\"d38168f8-373e-4166-98f0-0d229e6865a6\",\"type\":\"CDSView\"}},\"id\":\"64784273-e377-4a89-8049-35410395fd50\",\"type\":\"GlyphRenderer\"},{\"attributes\":{\"data_source\":{\"id\":\"cfc6a47a-c96d-451e-b0fa-8edb94e910a6\",\"type\":\"ColumnDataSource\"},\"glyph\":{\"id\":\"04d4485b-85a5-40cf-b8a0-91501fad60cd\",\"type\":\"Circle\"},\"hover_glyph\":null,\"muted_glyph\":null,\"nonselection_glyph\":{\"id\":\"2d086b76-c08c-44e4-954d-d9c251fe4ac5\",\"type\":\"Circle\"},\"selection_glyph\":null,\"view\":{\"id\":\"eb1da8f5-d4f6-44c2-a843-3cd191aa8cfc\",\"type\":\"CDSView\"}},\"id\":\"49c0ef3d-febd-442e-a1db-c16f23e8aed1\",\"type\":\"GlyphRenderer\"},{\"attributes\":{\"bottom_units\":\"screen\",\"fill_alpha\":{\"value\":0.5},\"fill_color\":{\"value\":\"lightgrey\"},\"left_units\":\"screen\",\"level\":\"overlay\",\"line_alpha\":{\"value\":1.0},\"line_color\":{\"value\":\"black\"},\"line_dash\":[4,4],\"line_width\":{\"value\":2},\"plot\":null,\"render_mode\":\"css\",\"right_units\":\"screen\",\"top_units\":\"screen\"},\"id\":\"8cbe76d1-c594-466a-a403-721eb7b62741\",\"type\":\"BoxAnnotation\"},{\"attributes\":{},\"id\":\"2da4eb4a-323b-4290-af48-e7fba1464d30\",\"type\":\"BasicTickFormatter\"},{\"attributes\":{\"plot\":null,\"text\":\"\"},\"id\":\"c6ef6694-05bf-4a85-90ec-e6a525aeb944\",\"type\":\"Title\"},{\"attributes\":{\"active_drag\":\"auto\",\"active_inspect\":\"auto\",\"active_scroll\":\"auto\",\"active_tap\":\"auto\",\"tools\":[{\"id\":\"964f4eef-dfe5-4ad5-8144-a086be1da229\",\"type\":\"PanTool\"},{\"id\":\"48890b56-c9fa-47d9-9ceb-dc2cc8a80836\",\"type\":\"WheelZoomTool\"},{\"id\":\"9473adc4-fda0-4b4b-b1b7-d70dfed68ff7\",\"type\":\"BoxZoomTool\"},{\"id\":\"47444a91-5a20-4f70-8d9b-925b1fe0607c\",\"type\":\"SaveTool\"},{\"id\":\"8dd4120e-1e24-4b28-a0d0-0e9790901eee\",\"type\":\"ResetTool\"},{\"id\":\"e3591e09-bb12-4a66-901b-d1163fe02b06\",\"type\":\"HelpTool\"}]},\"id\":\"3206586d-8cd3-427a-8c3f-55b7fd48486d\",\"type\":\"Toolbar\"},{\"attributes\":{},\"id\":\"964f4eef-dfe5-4ad5-8144-a086be1da229\",\"type\":\"PanTool\"},{\"attributes\":{},\"id\":\"2c54ea07-9cd7-4b27-8dd0-0ac2097eff91\",\"type\":\"BasicTickFormatter\"},{\"attributes\":{\"fill_alpha\":{\"value\":0.1},\"fill_color\":{\"value\":\"#1f77b4\"},\"line_alpha\":{\"value\":0.1},\"line_color\":{\"value\":\"#1f77b4\"},\"x\":{\"field\":\"x\"},\"y\":{\"field\":\"y\"}},\"id\":\"ae147ce3-d50c-40f9-97bf-1c8e406b67f4\",\"type\":\"Circle\"},{\"attributes\":{},\"id\":\"48890b56-c9fa-47d9-9ceb-dc2cc8a80836\",\"type\":\"WheelZoomTool\"},{\"attributes\":{\"overlay\":{\"id\":\"8cbe76d1-c594-466a-a403-721eb7b62741\",\"type\":\"BoxAnnotation\"}},\"id\":\"9473adc4-fda0-4b4b-b1b7-d70dfed68ff7\",\"type\":\"BoxZoomTool\"},{\"attributes\":{\"callback\":null,\"column_names\":[\"x\",\"y\"],\"data\":{\"x\":[2,4,6,8],\"y\":[4,3,7,1]},\"selected\":null,\"selection_policy\":null},\"id\":\"09d9c643-10c6-44da-a522-206f9e1b9e1b\",\"type\":\"ColumnDataSource\"},{\"attributes\":{},\"id\":\"47444a91-5a20-4f70-8d9b-925b1fe0607c\",\"type\":\"SaveTool\"},{\"attributes\":{},\"id\":\"8dd4120e-1e24-4b28-a0d0-0e9790901eee\",\"type\":\"ResetTool\"},{\"attributes\":{},\"id\":\"e3591e09-bb12-4a66-901b-d1163fe02b06\",\"type\":\"HelpTool\"},{\"attributes\":{\"below\":[{\"id\":\"87225b8e-8a19-4f79-999a-91e60e38257b\",\"type\":\"LinearAxis\"}],\"left\":[{\"id\":\"f5cc3350-97d6-4440-905b-16e805c74e99\",\"type\":\"LinearAxis\"}],\"plot_height\":350,\"plot_width\":450,\"renderers\":[{\"id\":\"87225b8e-8a19-4f79-999a-91e60e38257b\",\"type\":\"LinearAxis\"},{\"id\":\"369468fe-ea46-4776-97e5-5a4081171b7b\",\"type\":\"Grid\"},{\"id\":\"f5cc3350-97d6-4440-905b-16e805c74e99\",\"type\":\"LinearAxis\"},{\"id\":\"cda52529-dc1b-4786-9bd1-c9a44663b4c2\",\"type\":\"Grid\"},{\"id\":\"8cbe76d1-c594-466a-a403-721eb7b62741\",\"type\":\"BoxAnnotation\"},{\"id\":\"64784273-e377-4a89-8049-35410395fd50\",\"type\":\"GlyphRenderer\"},{\"id\":\"49c0ef3d-febd-442e-a1db-c16f23e8aed1\",\"type\":\"GlyphRenderer\"},{\"id\":\"af460548-26b3-414e-b532-b8bd9b7ea74d\",\"type\":\"GlyphRenderer\"}],\"title\":{\"id\":\"c6ef6694-05bf-4a85-90ec-e6a525aeb944\",\"type\":\"Title\"},\"toolbar\":{\"id\":\"3206586d-8cd3-427a-8c3f-55b7fd48486d\",\"type\":\"Toolbar\"},\"x_range\":{\"id\":\"6fa4d84d-289c-4b28-ac41-64588ae84108\",\"type\":\"DataRange1d\"},\"x_scale\":{\"id\":\"fedea1ad-f0d8-4358-a4a8-20442625c31d\",\"type\":\"LinearScale\"},\"y_range\":{\"id\":\"fc1049b2-a954-4553-9cc4-c1491c4a4c86\",\"type\":\"DataRange1d\"},\"y_scale\":{\"id\":\"11492d3c-2ce3-4920-b039-fa3c8f7245ea\",\"type\":\"LinearScale\"}},\"id\":\"3d73f489-81bf-4b02-9aaa-46bae1f186fa\",\"subtype\":\"Figure\",\"type\":\"Plot\"},{\"attributes\":{\"source\":{\"id\":\"09d9c643-10c6-44da-a522-206f9e1b9e1b\",\"type\":\"ColumnDataSource\"}},\"id\":\"d38168f8-373e-4166-98f0-0d229e6865a6\",\"type\":\"CDSView\"},{\"attributes\":{\"callback\":null,\"column_names\":[\"x\",\"y\"],\"data\":{\"x\":[2,4,6,8],\"y\":[4,3,7,1]},\"selected\":null,\"selection_policy\":null},\"id\":\"cfc6a47a-c96d-451e-b0fa-8edb94e910a6\",\"type\":\"ColumnDataSource\"},{\"attributes\":{\"source\":{\"id\":\"cfc6a47a-c96d-451e-b0fa-8edb94e910a6\",\"type\":\"ColumnDataSource\"}},\"id\":\"eb1da8f5-d4f6-44c2-a843-3cd191aa8cfc\",\"type\":\"CDSView\"},{\"attributes\":{\"callback\":null,\"column_names\":[\"x\",\"y\"],\"data\":{\"x\":[2,4,6,8],\"y\":[4,3,7,1]},\"selected\":null,\"selection_policy\":null},\"id\":\"4eee249a-cd72-420b-8d0d-8ba7fc138447\",\"type\":\"ColumnDataSource\"},{\"attributes\":{\"fill_color\":{\"value\":\"#1f77b4\"},\"line_color\":{\"value\":\"#1f77b4\"},\"x\":{\"field\":\"x\"},\"y\":{\"field\":\"y\"}},\"id\":\"ea2a971c-4527-4c50-9734-99bb4febf3d6\",\"type\":\"Circle\"},{\"attributes\":{\"data_source\":{\"id\":\"4eee249a-cd72-420b-8d0d-8ba7fc138447\",\"type\":\"ColumnDataSource\"},\"glyph\":{\"id\":\"8d9ff2cf-ad04-4d87-b7b9-5621f72ee4f0\",\"type\":\"Circle\"},\"hover_glyph\":null,\"muted_glyph\":null,\"nonselection_glyph\":{\"id\":\"5bea647b-1f7e-4952-995f-2d384b012c26\",\"type\":\"Circle\"},\"selection_glyph\":null,\"view\":{\"id\":\"c817d2da-d061-4713-872a-3a8e76f12c62\",\"type\":\"CDSView\"}},\"id\":\"af460548-26b3-414e-b532-b8bd9b7ea74d\",\"type\":\"GlyphRenderer\"},{\"attributes\":{},\"id\":\"11492d3c-2ce3-4920-b039-fa3c8f7245ea\",\"type\":\"LinearScale\"},{\"attributes\":{\"source\":{\"id\":\"4eee249a-cd72-420b-8d0d-8ba7fc138447\",\"type\":\"ColumnDataSource\"}},\"id\":\"c817d2da-d061-4713-872a-3a8e76f12c62\",\"type\":\"CDSView\"},{\"attributes\":{\"formatter\":{\"id\":\"2c54ea07-9cd7-4b27-8dd0-0ac2097eff91\",\"type\":\"BasicTickFormatter\"},\"plot\":{\"id\":\"3d73f489-81bf-4b02-9aaa-46bae1f186fa\",\"subtype\":\"Figure\",\"type\":\"Plot\"},\"ticker\":{\"id\":\"b22d3bc9-6ab7-4ed9-87b9-534b62ec6f0c\",\"type\":\"BasicTicker\"}},\"id\":\"87225b8e-8a19-4f79-999a-91e60e38257b\",\"type\":\"LinearAxis\"}],\"root_ids\":[\"3d73f489-81bf-4b02-9aaa-46bae1f186fa\"]},\"title\":\"Bokeh Application\",\"version\":\"0.12.15\"}};\n",
       "  var render_items = [{\"docid\":\"0bd65b1e-8b80-4efd-bdd3-ede3e5bf2e48\",\"elementid\":\"996a485f-26c5-4eb7-8726-1ed5fd7f11d1\",\"modelid\":\"3d73f489-81bf-4b02-9aaa-46bae1f186fa\"}];\n",
       "  root.Bokeh.embed.embed_items_notebook(docs_json, render_items);\n",
       "\n",
       "  }\n",
       "  if (root.Bokeh !== undefined) {\n",
       "    embed_document(root);\n",
       "  } else {\n",
       "    var attempts = 0;\n",
       "    var timer = setInterval(function(root) {\n",
       "      if (root.Bokeh !== undefined) {\n",
       "        embed_document(root);\n",
       "        clearInterval(timer);\n",
       "      }\n",
       "      attempts++;\n",
       "      if (attempts > 100) {\n",
       "        console.log(\"Bokeh: ERROR: Unable to run BokehJS code because BokehJS library is missing\")\n",
       "        clearInterval(timer);\n",
       "      }\n",
       "    }, 10, root)\n",
       "  }\n",
       "})(window);"
      ],
      "application/vnd.bokehjs_exec.v0+json": ""
     },
     "metadata": {
      "application/vnd.bokehjs_exec.v0+json": {
       "id": "3d73f489-81bf-4b02-9aaa-46bae1f186fa"
      }
     },
     "output_type": "display_data"
    }
   ],
   "source": [
    "#membuat data point dan menambahkan size=14, line_color='red', fill_color = 'yellow'\n",
    "p.circle([2,4,6,8],[4,3,7,1], size=18, line_color='red', fill_color = 'yellow')\n",
    "\n",
    "show(p)"
   ]
  },
  {
   "cell_type": "markdown",
   "metadata": {},
   "source": [
    "                    ##Semoga Bermanfaat\n",
    "                    ##@Raspiani_"
   ]
  }
 ],
 "metadata": {
  "kernelspec": {
   "display_name": "Python 3",
   "language": "python",
   "name": "python3"
  },
  "language_info": {
   "codemirror_mode": {
    "name": "ipython",
    "version": 3
   },
   "file_extension": ".py",
   "mimetype": "text/x-python",
   "name": "python",
   "nbconvert_exporter": "python",
   "pygments_lexer": "ipython3",
   "version": "3.6.5"
  }
 },
 "nbformat": 4,
 "nbformat_minor": 2
}
