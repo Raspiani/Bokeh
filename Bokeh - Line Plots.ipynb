{
 "cells": [
  {
   "cell_type": "markdown",
   "metadata": {},
   "source": [
    "## Bokeh - Line Plots"
   ]
  },
  {
   "cell_type": "code",
   "execution_count": 27,
   "metadata": {},
   "outputs": [],
   "source": [
    "#memasukan modul yang digunakan\n",
    "import bokeh\n",
    "from bokeh.io import output_notebook, show\n",
    "from bokeh.plotting import figure\n",
    "\n",
    "import warnings\n",
    "warnings.filterwarnings(\"ignore\")"
   ]
  },
  {
   "cell_type": "code",
   "execution_count": 28,
   "metadata": {},
   "outputs": [
    {
     "data": {
      "text/html": [
       "\n",
       "    <div class=\"bk-root\">\n",
       "        <a href=\"https://bokeh.pydata.org\" target=\"_blank\" class=\"bk-logo bk-logo-small bk-logo-notebook\"></a>\n",
       "        <span id=\"e6ac15b5-0bdd-4d37-b88d-d4cf7cf4447a\">Loading BokehJS ...</span>\n",
       "    </div>"
      ]
     },
     "metadata": {},
     "output_type": "display_data"
    },
    {
     "data": {
      "application/javascript": [
       "\n",
       "(function(root) {\n",
       "  function now() {\n",
       "    return new Date();\n",
       "  }\n",
       "\n",
       "  var force = true;\n",
       "\n",
       "  if (typeof (root._bokeh_onload_callbacks) === \"undefined\" || force === true) {\n",
       "    root._bokeh_onload_callbacks = [];\n",
       "    root._bokeh_is_loading = undefined;\n",
       "  }\n",
       "\n",
       "  var JS_MIME_TYPE = 'application/javascript';\n",
       "  var HTML_MIME_TYPE = 'text/html';\n",
       "  var EXEC_MIME_TYPE = 'application/vnd.bokehjs_exec.v0+json';\n",
       "  var CLASS_NAME = 'output_bokeh rendered_html';\n",
       "\n",
       "  /**\n",
       "   * Render data to the DOM node\n",
       "   */\n",
       "  function render(props, node) {\n",
       "    var script = document.createElement(\"script\");\n",
       "    node.appendChild(script);\n",
       "  }\n",
       "\n",
       "  /**\n",
       "   * Handle when an output is cleared or removed\n",
       "   */\n",
       "  function handleClearOutput(event, handle) {\n",
       "    var cell = handle.cell;\n",
       "\n",
       "    var id = cell.output_area._bokeh_element_id;\n",
       "    var server_id = cell.output_area._bokeh_server_id;\n",
       "    // Clean up Bokeh references\n",
       "    if (id !== undefined) {\n",
       "      Bokeh.index[id].model.document.clear();\n",
       "      delete Bokeh.index[id];\n",
       "    }\n",
       "\n",
       "    if (server_id !== undefined) {\n",
       "      // Clean up Bokeh references\n",
       "      var cmd = \"from bokeh.io.state import curstate; print(curstate().uuid_to_server['\" + server_id + \"'].get_sessions()[0].document.roots[0]._id)\";\n",
       "      cell.notebook.kernel.execute(cmd, {\n",
       "        iopub: {\n",
       "          output: function(msg) {\n",
       "            var element_id = msg.content.text.trim();\n",
       "            Bokeh.index[element_id].model.document.clear();\n",
       "            delete Bokeh.index[element_id];\n",
       "          }\n",
       "        }\n",
       "      });\n",
       "      // Destroy server and session\n",
       "      var cmd = \"import bokeh.io.notebook as ion; ion.destroy_server('\" + server_id + \"')\";\n",
       "      cell.notebook.kernel.execute(cmd);\n",
       "    }\n",
       "  }\n",
       "\n",
       "  /**\n",
       "   * Handle when a new output is added\n",
       "   */\n",
       "  function handleAddOutput(event, handle) {\n",
       "    var output_area = handle.output_area;\n",
       "    var output = handle.output;\n",
       "\n",
       "    // limit handleAddOutput to display_data with EXEC_MIME_TYPE content only\n",
       "    if ((output.output_type != \"display_data\") || (!output.data.hasOwnProperty(EXEC_MIME_TYPE))) {\n",
       "      return\n",
       "    }\n",
       "\n",
       "    var toinsert = output_area.element.find(\".\" + CLASS_NAME.split(' ')[0]);\n",
       "\n",
       "    if (output.metadata[EXEC_MIME_TYPE][\"id\"] !== undefined) {\n",
       "      toinsert[toinsert.length - 1].firstChild.textContent = output.data[JS_MIME_TYPE];\n",
       "      // store reference to embed id on output_area\n",
       "      output_area._bokeh_element_id = output.metadata[EXEC_MIME_TYPE][\"id\"];\n",
       "    }\n",
       "    if (output.metadata[EXEC_MIME_TYPE][\"server_id\"] !== undefined) {\n",
       "      var bk_div = document.createElement(\"div\");\n",
       "      bk_div.innerHTML = output.data[HTML_MIME_TYPE];\n",
       "      var script_attrs = bk_div.children[0].attributes;\n",
       "      for (var i = 0; i < script_attrs.length; i++) {\n",
       "        toinsert[toinsert.length - 1].firstChild.setAttribute(script_attrs[i].name, script_attrs[i].value);\n",
       "      }\n",
       "      // store reference to server id on output_area\n",
       "      output_area._bokeh_server_id = output.metadata[EXEC_MIME_TYPE][\"server_id\"];\n",
       "    }\n",
       "  }\n",
       "\n",
       "  function register_renderer(events, OutputArea) {\n",
       "\n",
       "    function append_mime(data, metadata, element) {\n",
       "      // create a DOM node to render to\n",
       "      var toinsert = this.create_output_subarea(\n",
       "        metadata,\n",
       "        CLASS_NAME,\n",
       "        EXEC_MIME_TYPE\n",
       "      );\n",
       "      this.keyboard_manager.register_events(toinsert);\n",
       "      // Render to node\n",
       "      var props = {data: data, metadata: metadata[EXEC_MIME_TYPE]};\n",
       "      render(props, toinsert[toinsert.length - 1]);\n",
       "      element.append(toinsert);\n",
       "      return toinsert\n",
       "    }\n",
       "\n",
       "    /* Handle when an output is cleared or removed */\n",
       "    events.on('clear_output.CodeCell', handleClearOutput);\n",
       "    events.on('delete.Cell', handleClearOutput);\n",
       "\n",
       "    /* Handle when a new output is added */\n",
       "    events.on('output_added.OutputArea', handleAddOutput);\n",
       "\n",
       "    /**\n",
       "     * Register the mime type and append_mime function with output_area\n",
       "     */\n",
       "    OutputArea.prototype.register_mime_type(EXEC_MIME_TYPE, append_mime, {\n",
       "      /* Is output safe? */\n",
       "      safe: true,\n",
       "      /* Index of renderer in `output_area.display_order` */\n",
       "      index: 0\n",
       "    });\n",
       "  }\n",
       "\n",
       "  // register the mime type if in Jupyter Notebook environment and previously unregistered\n",
       "  if (root.Jupyter !== undefined) {\n",
       "    var events = require('base/js/events');\n",
       "    var OutputArea = require('notebook/js/outputarea').OutputArea;\n",
       "\n",
       "    if (OutputArea.prototype.mime_types().indexOf(EXEC_MIME_TYPE) == -1) {\n",
       "      register_renderer(events, OutputArea);\n",
       "    }\n",
       "  }\n",
       "\n",
       "  \n",
       "  if (typeof (root._bokeh_timeout) === \"undefined\" || force === true) {\n",
       "    root._bokeh_timeout = Date.now() + 5000;\n",
       "    root._bokeh_failed_load = false;\n",
       "  }\n",
       "\n",
       "  var NB_LOAD_WARNING = {'data': {'text/html':\n",
       "     \"<div style='background-color: #fdd'>\\n\"+\n",
       "     \"<p>\\n\"+\n",
       "     \"BokehJS does not appear to have successfully loaded. If loading BokehJS from CDN, this \\n\"+\n",
       "     \"may be due to a slow or bad network connection. Possible fixes:\\n\"+\n",
       "     \"</p>\\n\"+\n",
       "     \"<ul>\\n\"+\n",
       "     \"<li>re-rerun `output_notebook()` to attempt to load from CDN again, or</li>\\n\"+\n",
       "     \"<li>use INLINE resources instead, as so:</li>\\n\"+\n",
       "     \"</ul>\\n\"+\n",
       "     \"<code>\\n\"+\n",
       "     \"from bokeh.resources import INLINE\\n\"+\n",
       "     \"output_notebook(resources=INLINE)\\n\"+\n",
       "     \"</code>\\n\"+\n",
       "     \"</div>\"}};\n",
       "\n",
       "  function display_loaded() {\n",
       "    var el = document.getElementById(\"e6ac15b5-0bdd-4d37-b88d-d4cf7cf4447a\");\n",
       "    if (el != null) {\n",
       "      el.textContent = \"BokehJS is loading...\";\n",
       "    }\n",
       "    if (root.Bokeh !== undefined) {\n",
       "      if (el != null) {\n",
       "        el.textContent = \"BokehJS \" + root.Bokeh.version + \" successfully loaded.\";\n",
       "      }\n",
       "    } else if (Date.now() < root._bokeh_timeout) {\n",
       "      setTimeout(display_loaded, 100)\n",
       "    }\n",
       "  }\n",
       "\n",
       "\n",
       "  function run_callbacks() {\n",
       "    try {\n",
       "      root._bokeh_onload_callbacks.forEach(function(callback) { callback() });\n",
       "    }\n",
       "    finally {\n",
       "      delete root._bokeh_onload_callbacks\n",
       "    }\n",
       "    console.info(\"Bokeh: all callbacks have finished\");\n",
       "  }\n",
       "\n",
       "  function load_libs(js_urls, callback) {\n",
       "    root._bokeh_onload_callbacks.push(callback);\n",
       "    if (root._bokeh_is_loading > 0) {\n",
       "      console.log(\"Bokeh: BokehJS is being loaded, scheduling callback at\", now());\n",
       "      return null;\n",
       "    }\n",
       "    if (js_urls == null || js_urls.length === 0) {\n",
       "      run_callbacks();\n",
       "      return null;\n",
       "    }\n",
       "    console.log(\"Bokeh: BokehJS not loaded, scheduling load and callback at\", now());\n",
       "    root._bokeh_is_loading = js_urls.length;\n",
       "    for (var i = 0; i < js_urls.length; i++) {\n",
       "      var url = js_urls[i];\n",
       "      var s = document.createElement('script');\n",
       "      s.src = url;\n",
       "      s.async = false;\n",
       "      s.onreadystatechange = s.onload = function() {\n",
       "        root._bokeh_is_loading--;\n",
       "        if (root._bokeh_is_loading === 0) {\n",
       "          console.log(\"Bokeh: all BokehJS libraries loaded\");\n",
       "          run_callbacks()\n",
       "        }\n",
       "      };\n",
       "      s.onerror = function() {\n",
       "        console.warn(\"failed to load library \" + url);\n",
       "      };\n",
       "      console.log(\"Bokeh: injecting script tag for BokehJS library: \", url);\n",
       "      document.getElementsByTagName(\"head\")[0].appendChild(s);\n",
       "    }\n",
       "  };var element = document.getElementById(\"e6ac15b5-0bdd-4d37-b88d-d4cf7cf4447a\");\n",
       "  if (element == null) {\n",
       "    console.log(\"Bokeh: ERROR: autoload.js configured with elementid 'e6ac15b5-0bdd-4d37-b88d-d4cf7cf4447a' but no matching script tag was found. \")\n",
       "    return false;\n",
       "  }\n",
       "\n",
       "  var js_urls = [\"https://cdn.pydata.org/bokeh/release/bokeh-0.12.15.min.js\", \"https://cdn.pydata.org/bokeh/release/bokeh-widgets-0.12.15.min.js\", \"https://cdn.pydata.org/bokeh/release/bokeh-tables-0.12.15.min.js\", \"https://cdn.pydata.org/bokeh/release/bokeh-gl-0.12.15.min.js\"];\n",
       "\n",
       "  var inline_js = [\n",
       "    function(Bokeh) {\n",
       "      Bokeh.set_log_level(\"info\");\n",
       "    },\n",
       "    \n",
       "    function(Bokeh) {\n",
       "      \n",
       "    },\n",
       "    function(Bokeh) {\n",
       "      console.log(\"Bokeh: injecting CSS: https://cdn.pydata.org/bokeh/release/bokeh-0.12.15.min.css\");\n",
       "      Bokeh.embed.inject_css(\"https://cdn.pydata.org/bokeh/release/bokeh-0.12.15.min.css\");\n",
       "      console.log(\"Bokeh: injecting CSS: https://cdn.pydata.org/bokeh/release/bokeh-widgets-0.12.15.min.css\");\n",
       "      Bokeh.embed.inject_css(\"https://cdn.pydata.org/bokeh/release/bokeh-widgets-0.12.15.min.css\");\n",
       "      console.log(\"Bokeh: injecting CSS: https://cdn.pydata.org/bokeh/release/bokeh-tables-0.12.15.min.css\");\n",
       "      Bokeh.embed.inject_css(\"https://cdn.pydata.org/bokeh/release/bokeh-tables-0.12.15.min.css\");\n",
       "    }\n",
       "  ];\n",
       "\n",
       "  function run_inline_js() {\n",
       "    \n",
       "    if ((root.Bokeh !== undefined) || (force === true)) {\n",
       "      for (var i = 0; i < inline_js.length; i++) {\n",
       "        inline_js[i].call(root, root.Bokeh);\n",
       "      }if (force === true) {\n",
       "        display_loaded();\n",
       "      }} else if (Date.now() < root._bokeh_timeout) {\n",
       "      setTimeout(run_inline_js, 100);\n",
       "    } else if (!root._bokeh_failed_load) {\n",
       "      console.log(\"Bokeh: BokehJS failed to load within specified timeout.\");\n",
       "      root._bokeh_failed_load = true;\n",
       "    } else if (force !== true) {\n",
       "      var cell = $(document.getElementById(\"e6ac15b5-0bdd-4d37-b88d-d4cf7cf4447a\")).parents('.cell').data().cell;\n",
       "      cell.output_area.append_execute_result(NB_LOAD_WARNING)\n",
       "    }\n",
       "\n",
       "  }\n",
       "\n",
       "  if (root._bokeh_is_loading === 0) {\n",
       "    console.log(\"Bokeh: BokehJS loaded, going straight to plotting\");\n",
       "    run_inline_js();\n",
       "  } else {\n",
       "    load_libs(js_urls, function() {\n",
       "      console.log(\"Bokeh: BokehJS plotting callback run at\", now());\n",
       "      run_inline_js();\n",
       "    });\n",
       "  }\n",
       "}(window));"
      ],
      "application/vnd.bokehjs_load.v0+json": "\n(function(root) {\n  function now() {\n    return new Date();\n  }\n\n  var force = true;\n\n  if (typeof (root._bokeh_onload_callbacks) === \"undefined\" || force === true) {\n    root._bokeh_onload_callbacks = [];\n    root._bokeh_is_loading = undefined;\n  }\n\n  \n\n  \n  if (typeof (root._bokeh_timeout) === \"undefined\" || force === true) {\n    root._bokeh_timeout = Date.now() + 5000;\n    root._bokeh_failed_load = false;\n  }\n\n  var NB_LOAD_WARNING = {'data': {'text/html':\n     \"<div style='background-color: #fdd'>\\n\"+\n     \"<p>\\n\"+\n     \"BokehJS does not appear to have successfully loaded. If loading BokehJS from CDN, this \\n\"+\n     \"may be due to a slow or bad network connection. Possible fixes:\\n\"+\n     \"</p>\\n\"+\n     \"<ul>\\n\"+\n     \"<li>re-rerun `output_notebook()` to attempt to load from CDN again, or</li>\\n\"+\n     \"<li>use INLINE resources instead, as so:</li>\\n\"+\n     \"</ul>\\n\"+\n     \"<code>\\n\"+\n     \"from bokeh.resources import INLINE\\n\"+\n     \"output_notebook(resources=INLINE)\\n\"+\n     \"</code>\\n\"+\n     \"</div>\"}};\n\n  function display_loaded() {\n    var el = document.getElementById(\"e6ac15b5-0bdd-4d37-b88d-d4cf7cf4447a\");\n    if (el != null) {\n      el.textContent = \"BokehJS is loading...\";\n    }\n    if (root.Bokeh !== undefined) {\n      if (el != null) {\n        el.textContent = \"BokehJS \" + root.Bokeh.version + \" successfully loaded.\";\n      }\n    } else if (Date.now() < root._bokeh_timeout) {\n      setTimeout(display_loaded, 100)\n    }\n  }\n\n\n  function run_callbacks() {\n    try {\n      root._bokeh_onload_callbacks.forEach(function(callback) { callback() });\n    }\n    finally {\n      delete root._bokeh_onload_callbacks\n    }\n    console.info(\"Bokeh: all callbacks have finished\");\n  }\n\n  function load_libs(js_urls, callback) {\n    root._bokeh_onload_callbacks.push(callback);\n    if (root._bokeh_is_loading > 0) {\n      console.log(\"Bokeh: BokehJS is being loaded, scheduling callback at\", now());\n      return null;\n    }\n    if (js_urls == null || js_urls.length === 0) {\n      run_callbacks();\n      return null;\n    }\n    console.log(\"Bokeh: BokehJS not loaded, scheduling load and callback at\", now());\n    root._bokeh_is_loading = js_urls.length;\n    for (var i = 0; i < js_urls.length; i++) {\n      var url = js_urls[i];\n      var s = document.createElement('script');\n      s.src = url;\n      s.async = false;\n      s.onreadystatechange = s.onload = function() {\n        root._bokeh_is_loading--;\n        if (root._bokeh_is_loading === 0) {\n          console.log(\"Bokeh: all BokehJS libraries loaded\");\n          run_callbacks()\n        }\n      };\n      s.onerror = function() {\n        console.warn(\"failed to load library \" + url);\n      };\n      console.log(\"Bokeh: injecting script tag for BokehJS library: \", url);\n      document.getElementsByTagName(\"head\")[0].appendChild(s);\n    }\n  };var element = document.getElementById(\"e6ac15b5-0bdd-4d37-b88d-d4cf7cf4447a\");\n  if (element == null) {\n    console.log(\"Bokeh: ERROR: autoload.js configured with elementid 'e6ac15b5-0bdd-4d37-b88d-d4cf7cf4447a' but no matching script tag was found. \")\n    return false;\n  }\n\n  var js_urls = [\"https://cdn.pydata.org/bokeh/release/bokeh-0.12.15.min.js\", \"https://cdn.pydata.org/bokeh/release/bokeh-widgets-0.12.15.min.js\", \"https://cdn.pydata.org/bokeh/release/bokeh-tables-0.12.15.min.js\", \"https://cdn.pydata.org/bokeh/release/bokeh-gl-0.12.15.min.js\"];\n\n  var inline_js = [\n    function(Bokeh) {\n      Bokeh.set_log_level(\"info\");\n    },\n    \n    function(Bokeh) {\n      \n    },\n    function(Bokeh) {\n      console.log(\"Bokeh: injecting CSS: https://cdn.pydata.org/bokeh/release/bokeh-0.12.15.min.css\");\n      Bokeh.embed.inject_css(\"https://cdn.pydata.org/bokeh/release/bokeh-0.12.15.min.css\");\n      console.log(\"Bokeh: injecting CSS: https://cdn.pydata.org/bokeh/release/bokeh-widgets-0.12.15.min.css\");\n      Bokeh.embed.inject_css(\"https://cdn.pydata.org/bokeh/release/bokeh-widgets-0.12.15.min.css\");\n      console.log(\"Bokeh: injecting CSS: https://cdn.pydata.org/bokeh/release/bokeh-tables-0.12.15.min.css\");\n      Bokeh.embed.inject_css(\"https://cdn.pydata.org/bokeh/release/bokeh-tables-0.12.15.min.css\");\n    }\n  ];\n\n  function run_inline_js() {\n    \n    if ((root.Bokeh !== undefined) || (force === true)) {\n      for (var i = 0; i < inline_js.length; i++) {\n        inline_js[i].call(root, root.Bokeh);\n      }if (force === true) {\n        display_loaded();\n      }} else if (Date.now() < root._bokeh_timeout) {\n      setTimeout(run_inline_js, 100);\n    } else if (!root._bokeh_failed_load) {\n      console.log(\"Bokeh: BokehJS failed to load within specified timeout.\");\n      root._bokeh_failed_load = true;\n    } else if (force !== true) {\n      var cell = $(document.getElementById(\"e6ac15b5-0bdd-4d37-b88d-d4cf7cf4447a\")).parents('.cell').data().cell;\n      cell.output_area.append_execute_result(NB_LOAD_WARNING)\n    }\n\n  }\n\n  if (root._bokeh_is_loading === 0) {\n    console.log(\"Bokeh: BokehJS loaded, going straight to plotting\");\n    run_inline_js();\n  } else {\n    load_libs(js_urls, function() {\n      console.log(\"Bokeh: BokehJS plotting callback run at\", now());\n      run_inline_js();\n    });\n  }\n}(window));"
     },
     "metadata": {},
     "output_type": "display_data"
    }
   ],
   "source": [
    "#mengaktifkan output_notebook()\n",
    "output_notebook()"
   ]
  },
  {
   "cell_type": "code",
   "execution_count": 29,
   "metadata": {},
   "outputs": [],
   "source": [
    "#membuat bingkai\n",
    "l = figure(plot_width = 450, plot_height = 350)"
   ]
  },
  {
   "cell_type": "code",
   "execution_count": 30,
   "metadata": {},
   "outputs": [
    {
     "data": {
      "text/html": [
       "\n",
       "<div class=\"bk-root\">\n",
       "    <div class=\"bk-plotdiv\" id=\"3f5c98f2-fd03-4949-968c-4ffe8b334d0e\"></div>\n",
       "</div>"
      ]
     },
     "metadata": {},
     "output_type": "display_data"
    },
    {
     "data": {
      "application/javascript": [
       "(function(root) {\n",
       "  function embed_document(root) {\n",
       "    \n",
       "  var docs_json = {\"140d5a99-517f-42b0-a132-a0c5fcf1ae39\":{\"roots\":{\"references\":[{\"attributes\":{},\"id\":\"071f9f85-09c6-457e-8cea-623f6ecc0240\",\"type\":\"PanTool\"},{\"attributes\":{\"bottom_units\":\"screen\",\"fill_alpha\":{\"value\":0.5},\"fill_color\":{\"value\":\"lightgrey\"},\"left_units\":\"screen\",\"level\":\"overlay\",\"line_alpha\":{\"value\":1.0},\"line_color\":{\"value\":\"black\"},\"line_dash\":[4,4],\"line_width\":{\"value\":2},\"plot\":null,\"render_mode\":\"css\",\"right_units\":\"screen\",\"top_units\":\"screen\"},\"id\":\"2778d08a-c189-4b24-88d5-d9e46ab90cc0\",\"type\":\"BoxAnnotation\"},{\"attributes\":{\"plot\":{\"id\":\"d3b2788c-a561-46ee-b2b1-b934f744b9dc\",\"subtype\":\"Figure\",\"type\":\"Plot\"},\"ticker\":{\"id\":\"74a65283-cc0d-43e4-b47e-017294e1701e\",\"type\":\"BasicTicker\"}},\"id\":\"9be1a741-c0ee-442e-932f-d45badf23a8a\",\"type\":\"Grid\"},{\"attributes\":{},\"id\":\"2b6a2c2f-1a4f-4dd8-9d7f-012a63572787\",\"type\":\"BasicTicker\"},{\"attributes\":{},\"id\":\"9cc57182-4d08-40b1-9f23-c05bfd1448ea\",\"type\":\"WheelZoomTool\"},{\"attributes\":{},\"id\":\"e863bc2b-4e57-4ca7-badd-af0f133d0daa\",\"type\":\"BasicTickFormatter\"},{\"attributes\":{\"dimension\":1,\"plot\":{\"id\":\"d3b2788c-a561-46ee-b2b1-b934f744b9dc\",\"subtype\":\"Figure\",\"type\":\"Plot\"},\"ticker\":{\"id\":\"2b6a2c2f-1a4f-4dd8-9d7f-012a63572787\",\"type\":\"BasicTicker\"}},\"id\":\"dc5cf459-a4e8-42b3-bae3-4b90fecb302c\",\"type\":\"Grid\"},{\"attributes\":{\"plot\":null,\"text\":\"\"},\"id\":\"b99d0675-0749-4207-ab49-600b4d42830d\",\"type\":\"Title\"},{\"attributes\":{},\"id\":\"325cb80e-9669-479c-8903-6b5409d4fd16\",\"type\":\"LinearScale\"},{\"attributes\":{},\"id\":\"bec761c9-d900-42fe-aa60-3a8f1922c470\",\"type\":\"LinearScale\"},{\"attributes\":{\"callback\":null},\"id\":\"1944db31-87c0-4ae7-ace0-d1fdd5d88fe7\",\"type\":\"DataRange1d\"},{\"attributes\":{\"formatter\":{\"id\":\"e863bc2b-4e57-4ca7-badd-af0f133d0daa\",\"type\":\"BasicTickFormatter\"},\"plot\":{\"id\":\"d3b2788c-a561-46ee-b2b1-b934f744b9dc\",\"subtype\":\"Figure\",\"type\":\"Plot\"},\"ticker\":{\"id\":\"2b6a2c2f-1a4f-4dd8-9d7f-012a63572787\",\"type\":\"BasicTicker\"}},\"id\":\"179e2bc1-ebaa-4d18-b03c-698c1195b310\",\"type\":\"LinearAxis\"},{\"attributes\":{\"active_drag\":\"auto\",\"active_inspect\":\"auto\",\"active_scroll\":\"auto\",\"active_tap\":\"auto\",\"tools\":[{\"id\":\"071f9f85-09c6-457e-8cea-623f6ecc0240\",\"type\":\"PanTool\"},{\"id\":\"9cc57182-4d08-40b1-9f23-c05bfd1448ea\",\"type\":\"WheelZoomTool\"},{\"id\":\"b59634c4-c6a6-4bbd-a572-74df92d5a7a0\",\"type\":\"BoxZoomTool\"},{\"id\":\"1f8b691c-0e77-43b3-a34e-cbb33ae8bcce\",\"type\":\"SaveTool\"},{\"id\":\"3c892c28-77ba-4700-a51c-8ed4b652a438\",\"type\":\"ResetTool\"},{\"id\":\"1da8436f-76e7-4e36-bb29-b8b94c690147\",\"type\":\"HelpTool\"}]},\"id\":\"a685aa86-eb6f-4ccc-8fc1-dd70b11920fe\",\"type\":\"Toolbar\"},{\"attributes\":{\"overlay\":{\"id\":\"2778d08a-c189-4b24-88d5-d9e46ab90cc0\",\"type\":\"BoxAnnotation\"}},\"id\":\"b59634c4-c6a6-4bbd-a572-74df92d5a7a0\",\"type\":\"BoxZoomTool\"},{\"attributes\":{},\"id\":\"1f8b691c-0e77-43b3-a34e-cbb33ae8bcce\",\"type\":\"SaveTool\"},{\"attributes\":{\"source\":{\"id\":\"c0ca4182-5959-41f8-b698-13a82cdfceab\",\"type\":\"ColumnDataSource\"}},\"id\":\"ac507c31-f868-4dae-bab2-1ebf5b2d90bf\",\"type\":\"CDSView\"},{\"attributes\":{},\"id\":\"1da8436f-76e7-4e36-bb29-b8b94c690147\",\"type\":\"HelpTool\"},{\"attributes\":{\"callback\":null,\"column_names\":[\"x\",\"y\"],\"data\":{\"x\":[2,3,4,6],\"y\":[4,2,6,4]},\"selected\":null,\"selection_policy\":null},\"id\":\"c0ca4182-5959-41f8-b698-13a82cdfceab\",\"type\":\"ColumnDataSource\"},{\"attributes\":{},\"id\":\"df5dfcf8-8c6d-4a98-8221-93251824f308\",\"type\":\"BasicTickFormatter\"},{\"attributes\":{\"callback\":null},\"id\":\"1c52ab4f-7b4c-4b0c-8937-612021c174dc\",\"type\":\"DataRange1d\"},{\"attributes\":{\"line_alpha\":0.1,\"line_color\":\"#1f77b4\",\"x\":{\"field\":\"x\"},\"y\":{\"field\":\"y\"}},\"id\":\"c0841e3b-31f4-418d-8782-90b6ca88dbac\",\"type\":\"Line\"},{\"attributes\":{},\"id\":\"74a65283-cc0d-43e4-b47e-017294e1701e\",\"type\":\"BasicTicker\"},{\"attributes\":{\"formatter\":{\"id\":\"df5dfcf8-8c6d-4a98-8221-93251824f308\",\"type\":\"BasicTickFormatter\"},\"plot\":{\"id\":\"d3b2788c-a561-46ee-b2b1-b934f744b9dc\",\"subtype\":\"Figure\",\"type\":\"Plot\"},\"ticker\":{\"id\":\"74a65283-cc0d-43e4-b47e-017294e1701e\",\"type\":\"BasicTicker\"}},\"id\":\"a59621e4-30bc-4d69-ab7e-58db31b2008f\",\"type\":\"LinearAxis\"},{\"attributes\":{},\"id\":\"3c892c28-77ba-4700-a51c-8ed4b652a438\",\"type\":\"ResetTool\"},{\"attributes\":{\"below\":[{\"id\":\"a59621e4-30bc-4d69-ab7e-58db31b2008f\",\"type\":\"LinearAxis\"}],\"left\":[{\"id\":\"179e2bc1-ebaa-4d18-b03c-698c1195b310\",\"type\":\"LinearAxis\"}],\"plot_height\":350,\"plot_width\":450,\"renderers\":[{\"id\":\"a59621e4-30bc-4d69-ab7e-58db31b2008f\",\"type\":\"LinearAxis\"},{\"id\":\"9be1a741-c0ee-442e-932f-d45badf23a8a\",\"type\":\"Grid\"},{\"id\":\"179e2bc1-ebaa-4d18-b03c-698c1195b310\",\"type\":\"LinearAxis\"},{\"id\":\"dc5cf459-a4e8-42b3-bae3-4b90fecb302c\",\"type\":\"Grid\"},{\"id\":\"2778d08a-c189-4b24-88d5-d9e46ab90cc0\",\"type\":\"BoxAnnotation\"},{\"id\":\"2ec5898f-8e83-4dcb-9f6a-39cde3af0f66\",\"type\":\"GlyphRenderer\"}],\"title\":{\"id\":\"b99d0675-0749-4207-ab49-600b4d42830d\",\"type\":\"Title\"},\"toolbar\":{\"id\":\"a685aa86-eb6f-4ccc-8fc1-dd70b11920fe\",\"type\":\"Toolbar\"},\"x_range\":{\"id\":\"1944db31-87c0-4ae7-ace0-d1fdd5d88fe7\",\"type\":\"DataRange1d\"},\"x_scale\":{\"id\":\"bec761c9-d900-42fe-aa60-3a8f1922c470\",\"type\":\"LinearScale\"},\"y_range\":{\"id\":\"1c52ab4f-7b4c-4b0c-8937-612021c174dc\",\"type\":\"DataRange1d\"},\"y_scale\":{\"id\":\"325cb80e-9669-479c-8903-6b5409d4fd16\",\"type\":\"LinearScale\"}},\"id\":\"d3b2788c-a561-46ee-b2b1-b934f744b9dc\",\"subtype\":\"Figure\",\"type\":\"Plot\"},{\"attributes\":{\"data_source\":{\"id\":\"c0ca4182-5959-41f8-b698-13a82cdfceab\",\"type\":\"ColumnDataSource\"},\"glyph\":{\"id\":\"4eaf6543-8185-4d11-b654-4befdfee5786\",\"type\":\"Line\"},\"hover_glyph\":null,\"muted_glyph\":null,\"nonselection_glyph\":{\"id\":\"c0841e3b-31f4-418d-8782-90b6ca88dbac\",\"type\":\"Line\"},\"selection_glyph\":null,\"view\":{\"id\":\"ac507c31-f868-4dae-bab2-1ebf5b2d90bf\",\"type\":\"CDSView\"}},\"id\":\"2ec5898f-8e83-4dcb-9f6a-39cde3af0f66\",\"type\":\"GlyphRenderer\"},{\"attributes\":{\"line_color\":\"#1f77b4\",\"x\":{\"field\":\"x\"},\"y\":{\"field\":\"y\"}},\"id\":\"4eaf6543-8185-4d11-b654-4befdfee5786\",\"type\":\"Line\"}],\"root_ids\":[\"d3b2788c-a561-46ee-b2b1-b934f744b9dc\"]},\"title\":\"Bokeh Application\",\"version\":\"0.12.15\"}};\n",
       "  var render_items = [{\"docid\":\"140d5a99-517f-42b0-a132-a0c5fcf1ae39\",\"elementid\":\"3f5c98f2-fd03-4949-968c-4ffe8b334d0e\",\"modelid\":\"d3b2788c-a561-46ee-b2b1-b934f744b9dc\"}];\n",
       "  root.Bokeh.embed.embed_items_notebook(docs_json, render_items);\n",
       "\n",
       "  }\n",
       "  if (root.Bokeh !== undefined) {\n",
       "    embed_document(root);\n",
       "  } else {\n",
       "    var attempts = 0;\n",
       "    var timer = setInterval(function(root) {\n",
       "      if (root.Bokeh !== undefined) {\n",
       "        embed_document(root);\n",
       "        clearInterval(timer);\n",
       "      }\n",
       "      attempts++;\n",
       "      if (attempts > 100) {\n",
       "        console.log(\"Bokeh: ERROR: Unable to run BokehJS code because BokehJS library is missing\")\n",
       "        clearInterval(timer);\n",
       "      }\n",
       "    }, 10, root)\n",
       "  }\n",
       "})(window);"
      ],
      "application/vnd.bokehjs_exec.v0+json": ""
     },
     "metadata": {
      "application/vnd.bokehjs_exec.v0+json": {
       "id": "d3b2788c-a561-46ee-b2b1-b934f744b9dc"
      }
     },
     "output_type": "display_data"
    }
   ],
   "source": [
    "#memvisualisasikan data dengan line plots\n",
    "l.line([2,3,4,6], [4,2,6,4])\n",
    "\n",
    "#menampilkan hasil\n",
    "show(l)"
   ]
  },
  {
   "cell_type": "code",
   "execution_count": 31,
   "metadata": {
    "scrolled": false
   },
   "outputs": [
    {
     "data": {
      "text/html": [
       "\n",
       "<div class=\"bk-root\">\n",
       "    <div class=\"bk-plotdiv\" id=\"a5fe6c28-70db-4d78-a5b6-d230bedd905d\"></div>\n",
       "</div>"
      ]
     },
     "metadata": {},
     "output_type": "display_data"
    },
    {
     "data": {
      "application/javascript": [
       "(function(root) {\n",
       "  function embed_document(root) {\n",
       "    \n",
       "  var docs_json = {\"a810bca4-ce5b-497d-8927-808968e46c03\":{\"roots\":{\"references\":[{\"attributes\":{\"data_source\":{\"id\":\"8992e1ec-5370-4a51-b6b5-2ea272234015\",\"type\":\"ColumnDataSource\"},\"glyph\":{\"id\":\"a73d87ad-09ab-43dc-a4b4-24208cfb9efd\",\"type\":\"Line\"},\"hover_glyph\":null,\"muted_glyph\":null,\"nonselection_glyph\":{\"id\":\"2c28ecf0-0fbb-4f6e-b1bd-b8965d7b4025\",\"type\":\"Line\"},\"selection_glyph\":null,\"view\":{\"id\":\"678fde69-f321-421c-a117-1d00c26c5982\",\"type\":\"CDSView\"}},\"id\":\"e4d2f1cf-7c4f-42c1-b9a1-4bdd500912bc\",\"type\":\"GlyphRenderer\"},{\"attributes\":{\"bottom_units\":\"screen\",\"fill_alpha\":{\"value\":0.5},\"fill_color\":{\"value\":\"lightgrey\"},\"left_units\":\"screen\",\"level\":\"overlay\",\"line_alpha\":{\"value\":1.0},\"line_color\":{\"value\":\"black\"},\"line_dash\":[4,4],\"line_width\":{\"value\":2},\"plot\":null,\"render_mode\":\"css\",\"right_units\":\"screen\",\"top_units\":\"screen\"},\"id\":\"2778d08a-c189-4b24-88d5-d9e46ab90cc0\",\"type\":\"BoxAnnotation\"},{\"attributes\":{\"plot\":{\"id\":\"d3b2788c-a561-46ee-b2b1-b934f744b9dc\",\"subtype\":\"Figure\",\"type\":\"Plot\"},\"ticker\":{\"id\":\"74a65283-cc0d-43e4-b47e-017294e1701e\",\"type\":\"BasicTicker\"}},\"id\":\"9be1a741-c0ee-442e-932f-d45badf23a8a\",\"type\":\"Grid\"},{\"attributes\":{},\"id\":\"2b6a2c2f-1a4f-4dd8-9d7f-012a63572787\",\"type\":\"BasicTicker\"},{\"attributes\":{},\"id\":\"e863bc2b-4e57-4ca7-badd-af0f133d0daa\",\"type\":\"BasicTickFormatter\"},{\"attributes\":{\"dimension\":1,\"plot\":{\"id\":\"d3b2788c-a561-46ee-b2b1-b934f744b9dc\",\"subtype\":\"Figure\",\"type\":\"Plot\"},\"ticker\":{\"id\":\"2b6a2c2f-1a4f-4dd8-9d7f-012a63572787\",\"type\":\"BasicTicker\"}},\"id\":\"dc5cf459-a4e8-42b3-bae3-4b90fecb302c\",\"type\":\"Grid\"},{\"attributes\":{},\"id\":\"325cb80e-9669-479c-8903-6b5409d4fd16\",\"type\":\"LinearScale\"},{\"attributes\":{},\"id\":\"bec761c9-d900-42fe-aa60-3a8f1922c470\",\"type\":\"LinearScale\"},{\"attributes\":{\"formatter\":{\"id\":\"e863bc2b-4e57-4ca7-badd-af0f133d0daa\",\"type\":\"BasicTickFormatter\"},\"plot\":{\"id\":\"d3b2788c-a561-46ee-b2b1-b934f744b9dc\",\"subtype\":\"Figure\",\"type\":\"Plot\"},\"ticker\":{\"id\":\"2b6a2c2f-1a4f-4dd8-9d7f-012a63572787\",\"type\":\"BasicTicker\"}},\"id\":\"179e2bc1-ebaa-4d18-b03c-698c1195b310\",\"type\":\"LinearAxis\"},{\"attributes\":{\"overlay\":{\"id\":\"2778d08a-c189-4b24-88d5-d9e46ab90cc0\",\"type\":\"BoxAnnotation\"}},\"id\":\"b59634c4-c6a6-4bbd-a572-74df92d5a7a0\",\"type\":\"BoxZoomTool\"},{\"attributes\":{\"source\":{\"id\":\"c0ca4182-5959-41f8-b698-13a82cdfceab\",\"type\":\"ColumnDataSource\"}},\"id\":\"ac507c31-f868-4dae-bab2-1ebf5b2d90bf\",\"type\":\"CDSView\"},{\"attributes\":{},\"id\":\"1da8436f-76e7-4e36-bb29-b8b94c690147\",\"type\":\"HelpTool\"},{\"attributes\":{\"callback\":null,\"column_names\":[\"x\",\"y\"],\"data\":{\"x\":[2,3,4,6],\"y\":[4,2,6,4]},\"selected\":null,\"selection_policy\":null},\"id\":\"8992e1ec-5370-4a51-b6b5-2ea272234015\",\"type\":\"ColumnDataSource\"},{\"attributes\":{\"line_color\":\"red\",\"line_width\":3,\"x\":{\"field\":\"x\"},\"y\":{\"field\":\"y\"}},\"id\":\"a73d87ad-09ab-43dc-a4b4-24208cfb9efd\",\"type\":\"Line\"},{\"attributes\":{},\"id\":\"df5dfcf8-8c6d-4a98-8221-93251824f308\",\"type\":\"BasicTickFormatter\"},{\"attributes\":{\"line_alpha\":0.1,\"line_color\":\"#1f77b4\",\"x\":{\"field\":\"x\"},\"y\":{\"field\":\"y\"}},\"id\":\"c0841e3b-31f4-418d-8782-90b6ca88dbac\",\"type\":\"Line\"},{\"attributes\":{\"formatter\":{\"id\":\"df5dfcf8-8c6d-4a98-8221-93251824f308\",\"type\":\"BasicTickFormatter\"},\"plot\":{\"id\":\"d3b2788c-a561-46ee-b2b1-b934f744b9dc\",\"subtype\":\"Figure\",\"type\":\"Plot\"},\"ticker\":{\"id\":\"74a65283-cc0d-43e4-b47e-017294e1701e\",\"type\":\"BasicTicker\"}},\"id\":\"a59621e4-30bc-4d69-ab7e-58db31b2008f\",\"type\":\"LinearAxis\"},{\"attributes\":{},\"id\":\"071f9f85-09c6-457e-8cea-623f6ecc0240\",\"type\":\"PanTool\"},{\"attributes\":{},\"id\":\"9cc57182-4d08-40b1-9f23-c05bfd1448ea\",\"type\":\"WheelZoomTool\"},{\"attributes\":{\"plot\":null,\"text\":\"\"},\"id\":\"b99d0675-0749-4207-ab49-600b4d42830d\",\"type\":\"Title\"},{\"attributes\":{\"callback\":null},\"id\":\"1944db31-87c0-4ae7-ace0-d1fdd5d88fe7\",\"type\":\"DataRange1d\"},{\"attributes\":{\"active_drag\":\"auto\",\"active_inspect\":\"auto\",\"active_scroll\":\"auto\",\"active_tap\":\"auto\",\"tools\":[{\"id\":\"071f9f85-09c6-457e-8cea-623f6ecc0240\",\"type\":\"PanTool\"},{\"id\":\"9cc57182-4d08-40b1-9f23-c05bfd1448ea\",\"type\":\"WheelZoomTool\"},{\"id\":\"b59634c4-c6a6-4bbd-a572-74df92d5a7a0\",\"type\":\"BoxZoomTool\"},{\"id\":\"1f8b691c-0e77-43b3-a34e-cbb33ae8bcce\",\"type\":\"SaveTool\"},{\"id\":\"3c892c28-77ba-4700-a51c-8ed4b652a438\",\"type\":\"ResetTool\"},{\"id\":\"1da8436f-76e7-4e36-bb29-b8b94c690147\",\"type\":\"HelpTool\"}]},\"id\":\"a685aa86-eb6f-4ccc-8fc1-dd70b11920fe\",\"type\":\"Toolbar\"},{\"attributes\":{},\"id\":\"1f8b691c-0e77-43b3-a34e-cbb33ae8bcce\",\"type\":\"SaveTool\"},{\"attributes\":{\"callback\":null,\"column_names\":[\"x\",\"y\"],\"data\":{\"x\":[2,3,4,6],\"y\":[4,2,6,4]},\"selected\":null,\"selection_policy\":null},\"id\":\"c0ca4182-5959-41f8-b698-13a82cdfceab\",\"type\":\"ColumnDataSource\"},{\"attributes\":{\"callback\":null},\"id\":\"1c52ab4f-7b4c-4b0c-8937-612021c174dc\",\"type\":\"DataRange1d\"},{\"attributes\":{},\"id\":\"74a65283-cc0d-43e4-b47e-017294e1701e\",\"type\":\"BasicTicker\"},{\"attributes\":{\"line_alpha\":0.1,\"line_color\":\"#1f77b4\",\"line_width\":3,\"x\":{\"field\":\"x\"},\"y\":{\"field\":\"y\"}},\"id\":\"2c28ecf0-0fbb-4f6e-b1bd-b8965d7b4025\",\"type\":\"Line\"},{\"attributes\":{\"source\":{\"id\":\"8992e1ec-5370-4a51-b6b5-2ea272234015\",\"type\":\"ColumnDataSource\"}},\"id\":\"678fde69-f321-421c-a117-1d00c26c5982\",\"type\":\"CDSView\"},{\"attributes\":{},\"id\":\"3c892c28-77ba-4700-a51c-8ed4b652a438\",\"type\":\"ResetTool\"},{\"attributes\":{\"below\":[{\"id\":\"a59621e4-30bc-4d69-ab7e-58db31b2008f\",\"type\":\"LinearAxis\"}],\"left\":[{\"id\":\"179e2bc1-ebaa-4d18-b03c-698c1195b310\",\"type\":\"LinearAxis\"}],\"plot_height\":350,\"plot_width\":450,\"renderers\":[{\"id\":\"a59621e4-30bc-4d69-ab7e-58db31b2008f\",\"type\":\"LinearAxis\"},{\"id\":\"9be1a741-c0ee-442e-932f-d45badf23a8a\",\"type\":\"Grid\"},{\"id\":\"179e2bc1-ebaa-4d18-b03c-698c1195b310\",\"type\":\"LinearAxis\"},{\"id\":\"dc5cf459-a4e8-42b3-bae3-4b90fecb302c\",\"type\":\"Grid\"},{\"id\":\"2778d08a-c189-4b24-88d5-d9e46ab90cc0\",\"type\":\"BoxAnnotation\"},{\"id\":\"2ec5898f-8e83-4dcb-9f6a-39cde3af0f66\",\"type\":\"GlyphRenderer\"},{\"id\":\"e4d2f1cf-7c4f-42c1-b9a1-4bdd500912bc\",\"type\":\"GlyphRenderer\"}],\"title\":{\"id\":\"b99d0675-0749-4207-ab49-600b4d42830d\",\"type\":\"Title\"},\"toolbar\":{\"id\":\"a685aa86-eb6f-4ccc-8fc1-dd70b11920fe\",\"type\":\"Toolbar\"},\"x_range\":{\"id\":\"1944db31-87c0-4ae7-ace0-d1fdd5d88fe7\",\"type\":\"DataRange1d\"},\"x_scale\":{\"id\":\"bec761c9-d900-42fe-aa60-3a8f1922c470\",\"type\":\"LinearScale\"},\"y_range\":{\"id\":\"1c52ab4f-7b4c-4b0c-8937-612021c174dc\",\"type\":\"DataRange1d\"},\"y_scale\":{\"id\":\"325cb80e-9669-479c-8903-6b5409d4fd16\",\"type\":\"LinearScale\"}},\"id\":\"d3b2788c-a561-46ee-b2b1-b934f744b9dc\",\"subtype\":\"Figure\",\"type\":\"Plot\"},{\"attributes\":{\"data_source\":{\"id\":\"c0ca4182-5959-41f8-b698-13a82cdfceab\",\"type\":\"ColumnDataSource\"},\"glyph\":{\"id\":\"4eaf6543-8185-4d11-b654-4befdfee5786\",\"type\":\"Line\"},\"hover_glyph\":null,\"muted_glyph\":null,\"nonselection_glyph\":{\"id\":\"c0841e3b-31f4-418d-8782-90b6ca88dbac\",\"type\":\"Line\"},\"selection_glyph\":null,\"view\":{\"id\":\"ac507c31-f868-4dae-bab2-1ebf5b2d90bf\",\"type\":\"CDSView\"}},\"id\":\"2ec5898f-8e83-4dcb-9f6a-39cde3af0f66\",\"type\":\"GlyphRenderer\"},{\"attributes\":{\"line_color\":\"#1f77b4\",\"x\":{\"field\":\"x\"},\"y\":{\"field\":\"y\"}},\"id\":\"4eaf6543-8185-4d11-b654-4befdfee5786\",\"type\":\"Line\"}],\"root_ids\":[\"d3b2788c-a561-46ee-b2b1-b934f744b9dc\"]},\"title\":\"Bokeh Application\",\"version\":\"0.12.15\"}};\n",
       "  var render_items = [{\"docid\":\"a810bca4-ce5b-497d-8927-808968e46c03\",\"elementid\":\"a5fe6c28-70db-4d78-a5b6-d230bedd905d\",\"modelid\":\"d3b2788c-a561-46ee-b2b1-b934f744b9dc\"}];\n",
       "  root.Bokeh.embed.embed_items_notebook(docs_json, render_items);\n",
       "\n",
       "  }\n",
       "  if (root.Bokeh !== undefined) {\n",
       "    embed_document(root);\n",
       "  } else {\n",
       "    var attempts = 0;\n",
       "    var timer = setInterval(function(root) {\n",
       "      if (root.Bokeh !== undefined) {\n",
       "        embed_document(root);\n",
       "        clearInterval(timer);\n",
       "      }\n",
       "      attempts++;\n",
       "      if (attempts > 100) {\n",
       "        console.log(\"Bokeh: ERROR: Unable to run BokehJS code because BokehJS library is missing\")\n",
       "        clearInterval(timer);\n",
       "      }\n",
       "    }, 10, root)\n",
       "  }\n",
       "})(window);"
      ],
      "application/vnd.bokehjs_exec.v0+json": ""
     },
     "metadata": {
      "application/vnd.bokehjs_exec.v0+json": {
       "id": "d3b2788c-a561-46ee-b2b1-b934f744b9dc"
      }
     },
     "output_type": "display_data"
    }
   ],
   "source": [
    "#memvisualisasikan data dengan line plots menggunakan line_width = 3, color = 'red'\n",
    "l.line([2,3,4,6], [4,2,6,4], line_width = 3, color = 'red')\n",
    "\n",
    "show(l)"
   ]
  },
  {
   "cell_type": "code",
   "execution_count": 37,
   "metadata": {},
   "outputs": [],
   "source": [
    "#membuat bingkai\n",
    "l = figure(plot_width = 450, plot_height = 350)"
   ]
  },
  {
   "cell_type": "code",
   "execution_count": 38,
   "metadata": {},
   "outputs": [
    {
     "data": {
      "text/html": [
       "\n",
       "<div class=\"bk-root\">\n",
       "    <div class=\"bk-plotdiv\" id=\"5dd8d70a-cd6e-4c1d-8d71-2af5b45001d9\"></div>\n",
       "</div>"
      ]
     },
     "metadata": {},
     "output_type": "display_data"
    },
    {
     "data": {
      "application/javascript": [
       "(function(root) {\n",
       "  function embed_document(root) {\n",
       "    \n",
       "  var docs_json = {\"34128780-3a76-4189-be29-046e6c1c0222\":{\"roots\":{\"references\":[{\"attributes\":{},\"id\":\"35459e3c-397d-4fe6-84d4-63d3c9c39720\",\"type\":\"WheelZoomTool\"},{\"attributes\":{\"callback\":null,\"column_names\":[\"x\",\"y\"],\"data\":{\"x\":[2,3,4,5],\"y\":[2,3,4,5]},\"selected\":null,\"selection_policy\":null},\"id\":\"a1ae2f18-89db-49c6-9d7f-b229c68f7a15\",\"type\":\"ColumnDataSource\"},{\"attributes\":{\"formatter\":{\"id\":\"63980932-3687-429d-940b-e7717a3fbfb3\",\"type\":\"BasicTickFormatter\"},\"plot\":{\"id\":\"ee339c28-c193-4777-9797-f5c73dcd9679\",\"subtype\":\"Figure\",\"type\":\"Plot\"},\"ticker\":{\"id\":\"f56db50e-3122-4619-916b-34a6726e9104\",\"type\":\"BasicTicker\"}},\"id\":\"2fcda345-68f3-45ba-b206-192bc583e7bf\",\"type\":\"LinearAxis\"},{\"attributes\":{\"plot\":{\"id\":\"ee339c28-c193-4777-9797-f5c73dcd9679\",\"subtype\":\"Figure\",\"type\":\"Plot\"},\"ticker\":{\"id\":\"f56db50e-3122-4619-916b-34a6726e9104\",\"type\":\"BasicTicker\"}},\"id\":\"f21eb9db-43ea-4bfe-87a0-efd526f01ca1\",\"type\":\"Grid\"},{\"attributes\":{\"active_drag\":\"auto\",\"active_inspect\":\"auto\",\"active_scroll\":\"auto\",\"active_tap\":\"auto\",\"tools\":[{\"id\":\"2528dc35-fbcb-4d59-b757-34ee9b5f5a67\",\"type\":\"PanTool\"},{\"id\":\"35459e3c-397d-4fe6-84d4-63d3c9c39720\",\"type\":\"WheelZoomTool\"},{\"id\":\"4fa1f087-6940-40df-9123-4767650f36d3\",\"type\":\"BoxZoomTool\"},{\"id\":\"daa28609-049e-4717-9786-51e002dec13f\",\"type\":\"SaveTool\"},{\"id\":\"87196bef-75e8-4ae0-8205-766274320c86\",\"type\":\"ResetTool\"},{\"id\":\"df6a686a-a745-4195-90ee-57c7647df7d8\",\"type\":\"HelpTool\"}]},\"id\":\"7653f055-3b19-49e4-a132-ff0fd1b1c7dc\",\"type\":\"Toolbar\"},{\"attributes\":{},\"id\":\"f56db50e-3122-4619-916b-34a6726e9104\",\"type\":\"BasicTicker\"},{\"attributes\":{\"formatter\":{\"id\":\"ad0104e7-7599-43f7-a2eb-e4e0cecff459\",\"type\":\"BasicTickFormatter\"},\"plot\":{\"id\":\"ee339c28-c193-4777-9797-f5c73dcd9679\",\"subtype\":\"Figure\",\"type\":\"Plot\"},\"ticker\":{\"id\":\"d25012d7-8939-4d03-889f-258139fe37af\",\"type\":\"BasicTicker\"}},\"id\":\"552ec19e-e1c5-45c7-8c98-fac622c5b5ae\",\"type\":\"LinearAxis\"},{\"attributes\":{\"data_source\":{\"id\":\"a1ae2f18-89db-49c6-9d7f-b229c68f7a15\",\"type\":\"ColumnDataSource\"},\"glyph\":{\"id\":\"341b7170-7585-49f6-8884-c26bc110c4b0\",\"type\":\"Line\"},\"hover_glyph\":null,\"muted_glyph\":null,\"nonselection_glyph\":{\"id\":\"89e623e2-621c-41ba-9a95-ca68ced97d2e\",\"type\":\"Line\"},\"selection_glyph\":null,\"view\":{\"id\":\"892f85d3-84cb-492d-b0de-a36acae9bd23\",\"type\":\"CDSView\"}},\"id\":\"07d29c73-1f4b-4f9a-a5a7-2bdc523dd6d7\",\"type\":\"GlyphRenderer\"},{\"attributes\":{},\"id\":\"2528dc35-fbcb-4d59-b757-34ee9b5f5a67\",\"type\":\"PanTool\"},{\"attributes\":{},\"id\":\"3a4d0bc0-72e0-449c-87bf-97b300cb1da4\",\"type\":\"LinearScale\"},{\"attributes\":{\"line_alpha\":0.1,\"line_color\":\"#1f77b4\",\"line_width\":3,\"x\":{\"field\":\"x\"},\"y\":{\"field\":\"y\"}},\"id\":\"89e623e2-621c-41ba-9a95-ca68ced97d2e\",\"type\":\"Line\"},{\"attributes\":{\"dimension\":1,\"plot\":{\"id\":\"ee339c28-c193-4777-9797-f5c73dcd9679\",\"subtype\":\"Figure\",\"type\":\"Plot\"},\"ticker\":{\"id\":\"d25012d7-8939-4d03-889f-258139fe37af\",\"type\":\"BasicTicker\"}},\"id\":\"375296c1-bf1d-4051-a66e-63275a3af4f9\",\"type\":\"Grid\"},{\"attributes\":{},\"id\":\"ad0104e7-7599-43f7-a2eb-e4e0cecff459\",\"type\":\"BasicTickFormatter\"},{\"attributes\":{},\"id\":\"63980932-3687-429d-940b-e7717a3fbfb3\",\"type\":\"BasicTickFormatter\"},{\"attributes\":{\"below\":[{\"id\":\"2fcda345-68f3-45ba-b206-192bc583e7bf\",\"type\":\"LinearAxis\"}],\"left\":[{\"id\":\"552ec19e-e1c5-45c7-8c98-fac622c5b5ae\",\"type\":\"LinearAxis\"}],\"plot_height\":350,\"plot_width\":450,\"renderers\":[{\"id\":\"2fcda345-68f3-45ba-b206-192bc583e7bf\",\"type\":\"LinearAxis\"},{\"id\":\"f21eb9db-43ea-4bfe-87a0-efd526f01ca1\",\"type\":\"Grid\"},{\"id\":\"552ec19e-e1c5-45c7-8c98-fac622c5b5ae\",\"type\":\"LinearAxis\"},{\"id\":\"375296c1-bf1d-4051-a66e-63275a3af4f9\",\"type\":\"Grid\"},{\"id\":\"1e9ddc8e-3b9d-40bd-9628-283bdeb39ad5\",\"type\":\"BoxAnnotation\"},{\"id\":\"07d29c73-1f4b-4f9a-a5a7-2bdc523dd6d7\",\"type\":\"GlyphRenderer\"}],\"title\":{\"id\":\"e2e27282-3138-4460-98ce-d7784223beb8\",\"type\":\"Title\"},\"toolbar\":{\"id\":\"7653f055-3b19-49e4-a132-ff0fd1b1c7dc\",\"type\":\"Toolbar\"},\"x_range\":{\"id\":\"f7bb26a6-445c-4489-86a7-a7ef47a71f3d\",\"type\":\"DataRange1d\"},\"x_scale\":{\"id\":\"3a4d0bc0-72e0-449c-87bf-97b300cb1da4\",\"type\":\"LinearScale\"},\"y_range\":{\"id\":\"d2aff7dd-2728-4463-8c0d-7b070ef069cd\",\"type\":\"DataRange1d\"},\"y_scale\":{\"id\":\"7ec7c91e-f6fd-48a4-9476-3ed21366b458\",\"type\":\"LinearScale\"}},\"id\":\"ee339c28-c193-4777-9797-f5c73dcd9679\",\"subtype\":\"Figure\",\"type\":\"Plot\"},{\"attributes\":{},\"id\":\"daa28609-049e-4717-9786-51e002dec13f\",\"type\":\"SaveTool\"},{\"attributes\":{},\"id\":\"df6a686a-a745-4195-90ee-57c7647df7d8\",\"type\":\"HelpTool\"},{\"attributes\":{\"callback\":null},\"id\":\"f7bb26a6-445c-4489-86a7-a7ef47a71f3d\",\"type\":\"DataRange1d\"},{\"attributes\":{\"callback\":null},\"id\":\"d2aff7dd-2728-4463-8c0d-7b070ef069cd\",\"type\":\"DataRange1d\"},{\"attributes\":{},\"id\":\"d25012d7-8939-4d03-889f-258139fe37af\",\"type\":\"BasicTicker\"},{\"attributes\":{\"source\":{\"id\":\"a1ae2f18-89db-49c6-9d7f-b229c68f7a15\",\"type\":\"ColumnDataSource\"}},\"id\":\"892f85d3-84cb-492d-b0de-a36acae9bd23\",\"type\":\"CDSView\"},{\"attributes\":{\"overlay\":{\"id\":\"1e9ddc8e-3b9d-40bd-9628-283bdeb39ad5\",\"type\":\"BoxAnnotation\"}},\"id\":\"4fa1f087-6940-40df-9123-4767650f36d3\",\"type\":\"BoxZoomTool\"},{\"attributes\":{\"bottom_units\":\"screen\",\"fill_alpha\":{\"value\":0.5},\"fill_color\":{\"value\":\"lightgrey\"},\"left_units\":\"screen\",\"level\":\"overlay\",\"line_alpha\":{\"value\":1.0},\"line_color\":{\"value\":\"black\"},\"line_dash\":[4,4],\"line_width\":{\"value\":2},\"plot\":null,\"render_mode\":\"css\",\"right_units\":\"screen\",\"top_units\":\"screen\"},\"id\":\"1e9ddc8e-3b9d-40bd-9628-283bdeb39ad5\",\"type\":\"BoxAnnotation\"},{\"attributes\":{\"plot\":null,\"text\":\"\"},\"id\":\"e2e27282-3138-4460-98ce-d7784223beb8\",\"type\":\"Title\"},{\"attributes\":{\"line_color\":\"red\",\"line_width\":3,\"x\":{\"field\":\"x\"},\"y\":{\"field\":\"y\"}},\"id\":\"341b7170-7585-49f6-8884-c26bc110c4b0\",\"type\":\"Line\"},{\"attributes\":{},\"id\":\"87196bef-75e8-4ae0-8205-766274320c86\",\"type\":\"ResetTool\"},{\"attributes\":{},\"id\":\"7ec7c91e-f6fd-48a4-9476-3ed21366b458\",\"type\":\"LinearScale\"}],\"root_ids\":[\"ee339c28-c193-4777-9797-f5c73dcd9679\"]},\"title\":\"Bokeh Application\",\"version\":\"0.12.15\"}};\n",
       "  var render_items = [{\"docid\":\"34128780-3a76-4189-be29-046e6c1c0222\",\"elementid\":\"5dd8d70a-cd6e-4c1d-8d71-2af5b45001d9\",\"modelid\":\"ee339c28-c193-4777-9797-f5c73dcd9679\"}];\n",
       "  root.Bokeh.embed.embed_items_notebook(docs_json, render_items);\n",
       "\n",
       "  }\n",
       "  if (root.Bokeh !== undefined) {\n",
       "    embed_document(root);\n",
       "  } else {\n",
       "    var attempts = 0;\n",
       "    var timer = setInterval(function(root) {\n",
       "      if (root.Bokeh !== undefined) {\n",
       "        embed_document(root);\n",
       "        clearInterval(timer);\n",
       "      }\n",
       "      attempts++;\n",
       "      if (attempts > 100) {\n",
       "        console.log(\"Bokeh: ERROR: Unable to run BokehJS code because BokehJS library is missing\")\n",
       "        clearInterval(timer);\n",
       "      }\n",
       "    }, 10, root)\n",
       "  }\n",
       "})(window);"
      ],
      "application/vnd.bokehjs_exec.v0+json": ""
     },
     "metadata": {
      "application/vnd.bokehjs_exec.v0+json": {
       "id": "ee339c28-c193-4777-9797-f5c73dcd9679"
      }
     },
     "output_type": "display_data"
    }
   ],
   "source": [
    "#memvisualisasikan data dengan line plots menggunakan line_width = 3, color = 'red'\n",
    "l.line([2,3,4,5], [2,3,4,5], line_width = 3, color = 'red')\n",
    "\n",
    "show(l)"
   ]
  },
  {
   "cell_type": "code",
   "execution_count": 39,
   "metadata": {},
   "outputs": [
    {
     "data": {
      "text/html": [
       "\n",
       "<div class=\"bk-root\">\n",
       "    <div class=\"bk-plotdiv\" id=\"1f2e6120-1a81-4872-ae10-81eceaf7fbb6\"></div>\n",
       "</div>"
      ]
     },
     "metadata": {},
     "output_type": "display_data"
    },
    {
     "data": {
      "application/javascript": [
       "(function(root) {\n",
       "  function embed_document(root) {\n",
       "    \n",
       "  var docs_json = {\"3ff49694-c843-43a8-88a2-bba315137828\":{\"roots\":{\"references\":[{\"attributes\":{\"fill_alpha\":{\"value\":0.1},\"fill_color\":{\"value\":\"#1f77b4\"},\"line_alpha\":{\"value\":0.1},\"line_color\":{\"value\":\"#1f77b4\"},\"size\":{\"units\":\"screen\",\"value\":14},\"x\":{\"field\":\"x\"},\"y\":{\"field\":\"y\"}},\"id\":\"cce0ea8f-aa09-4db1-a43d-7fea9d14ed0c\",\"type\":\"Triangle\"},{\"attributes\":{\"formatter\":{\"id\":\"63980932-3687-429d-940b-e7717a3fbfb3\",\"type\":\"BasicTickFormatter\"},\"plot\":{\"id\":\"ee339c28-c193-4777-9797-f5c73dcd9679\",\"subtype\":\"Figure\",\"type\":\"Plot\"},\"ticker\":{\"id\":\"f56db50e-3122-4619-916b-34a6726e9104\",\"type\":\"BasicTicker\"}},\"id\":\"2fcda345-68f3-45ba-b206-192bc583e7bf\",\"type\":\"LinearAxis\"},{\"attributes\":{\"plot\":{\"id\":\"ee339c28-c193-4777-9797-f5c73dcd9679\",\"subtype\":\"Figure\",\"type\":\"Plot\"},\"ticker\":{\"id\":\"f56db50e-3122-4619-916b-34a6726e9104\",\"type\":\"BasicTicker\"}},\"id\":\"f21eb9db-43ea-4bfe-87a0-efd526f01ca1\",\"type\":\"Grid\"},{\"attributes\":{},\"id\":\"f56db50e-3122-4619-916b-34a6726e9104\",\"type\":\"BasicTicker\"},{\"attributes\":{\"data_source\":{\"id\":\"a1ae2f18-89db-49c6-9d7f-b229c68f7a15\",\"type\":\"ColumnDataSource\"},\"glyph\":{\"id\":\"341b7170-7585-49f6-8884-c26bc110c4b0\",\"type\":\"Line\"},\"hover_glyph\":null,\"muted_glyph\":null,\"nonselection_glyph\":{\"id\":\"89e623e2-621c-41ba-9a95-ca68ced97d2e\",\"type\":\"Line\"},\"selection_glyph\":null,\"view\":{\"id\":\"892f85d3-84cb-492d-b0de-a36acae9bd23\",\"type\":\"CDSView\"}},\"id\":\"07d29c73-1f4b-4f9a-a5a7-2bdc523dd6d7\",\"type\":\"GlyphRenderer\"},{\"attributes\":{},\"id\":\"2528dc35-fbcb-4d59-b757-34ee9b5f5a67\",\"type\":\"PanTool\"},{\"attributes\":{\"data_source\":{\"id\":\"781d5ad0-0f97-4a71-a70d-7f80628d08a3\",\"type\":\"ColumnDataSource\"},\"glyph\":{\"id\":\"ec8110a4-408c-4089-bad4-534f2ab22fd4\",\"type\":\"Line\"},\"hover_glyph\":null,\"muted_glyph\":null,\"nonselection_glyph\":{\"id\":\"24161df0-4e01-446f-9a5f-02f72cb189e9\",\"type\":\"Line\"},\"selection_glyph\":null,\"view\":{\"id\":\"4e9964fa-8cf2-4cdb-9089-16da8c76f3ff\",\"type\":\"CDSView\"}},\"id\":\"87ae2a4e-ff48-40b8-a891-567a1f51024d\",\"type\":\"GlyphRenderer\"},{\"attributes\":{},\"id\":\"3a4d0bc0-72e0-449c-87bf-97b300cb1da4\",\"type\":\"LinearScale\"},{\"attributes\":{},\"id\":\"ad0104e7-7599-43f7-a2eb-e4e0cecff459\",\"type\":\"BasicTickFormatter\"},{\"attributes\":{\"fill_color\":{\"value\":\"yellow\"},\"line_color\":{\"value\":\"#1f77b4\"},\"size\":{\"units\":\"screen\",\"value\":14},\"x\":{\"field\":\"x\"},\"y\":{\"field\":\"y\"}},\"id\":\"336f9f63-302f-4a71-86aa-8d53137a6e95\",\"type\":\"Triangle\"},{\"attributes\":{},\"id\":\"df6a686a-a745-4195-90ee-57c7647df7d8\",\"type\":\"HelpTool\"},{\"attributes\":{\"callback\":null,\"column_names\":[\"x\",\"y\"],\"data\":{\"x\":[2,3,4,5],\"y\":[2,3,4,5]},\"selected\":null,\"selection_policy\":null},\"id\":\"bcf1a15c-d4d0-4254-a386-b7cce8b436a0\",\"type\":\"ColumnDataSource\"},{\"attributes\":{\"callback\":null},\"id\":\"f7bb26a6-445c-4489-86a7-a7ef47a71f3d\",\"type\":\"DataRange1d\"},{\"attributes\":{\"callback\":null},\"id\":\"d2aff7dd-2728-4463-8c0d-7b070ef069cd\",\"type\":\"DataRange1d\"},{\"attributes\":{\"data_source\":{\"id\":\"bcf1a15c-d4d0-4254-a386-b7cce8b436a0\",\"type\":\"ColumnDataSource\"},\"glyph\":{\"id\":\"336f9f63-302f-4a71-86aa-8d53137a6e95\",\"type\":\"Triangle\"},\"hover_glyph\":null,\"muted_glyph\":null,\"nonselection_glyph\":{\"id\":\"cce0ea8f-aa09-4db1-a43d-7fea9d14ed0c\",\"type\":\"Triangle\"},\"selection_glyph\":null,\"view\":{\"id\":\"8480bc60-f92c-47da-bf3e-49d85f509c97\",\"type\":\"CDSView\"}},\"id\":\"66eb6481-4299-48c4-bdc0-8727b1b50251\",\"type\":\"GlyphRenderer\"},{\"attributes\":{\"overlay\":{\"id\":\"1e9ddc8e-3b9d-40bd-9628-283bdeb39ad5\",\"type\":\"BoxAnnotation\"}},\"id\":\"4fa1f087-6940-40df-9123-4767650f36d3\",\"type\":\"BoxZoomTool\"},{\"attributes\":{\"bottom_units\":\"screen\",\"fill_alpha\":{\"value\":0.5},\"fill_color\":{\"value\":\"lightgrey\"},\"left_units\":\"screen\",\"level\":\"overlay\",\"line_alpha\":{\"value\":1.0},\"line_color\":{\"value\":\"black\"},\"line_dash\":[4,4],\"line_width\":{\"value\":2},\"plot\":null,\"render_mode\":\"css\",\"right_units\":\"screen\",\"top_units\":\"screen\"},\"id\":\"1e9ddc8e-3b9d-40bd-9628-283bdeb39ad5\",\"type\":\"BoxAnnotation\"},{\"attributes\":{\"plot\":null,\"text\":\"\"},\"id\":\"e2e27282-3138-4460-98ce-d7784223beb8\",\"type\":\"Title\"},{\"attributes\":{},\"id\":\"87196bef-75e8-4ae0-8205-766274320c86\",\"type\":\"ResetTool\"},{\"attributes\":{},\"id\":\"35459e3c-397d-4fe6-84d4-63d3c9c39720\",\"type\":\"WheelZoomTool\"},{\"attributes\":{\"callback\":null,\"column_names\":[\"x\",\"y\"],\"data\":{\"x\":[2,3,4,5],\"y\":[2,3,4,5]},\"selected\":null,\"selection_policy\":null},\"id\":\"a1ae2f18-89db-49c6-9d7f-b229c68f7a15\",\"type\":\"ColumnDataSource\"},{\"attributes\":{\"line_alpha\":0.1,\"line_color\":\"#1f77b4\",\"line_width\":3,\"x\":{\"field\":\"x\"},\"y\":{\"field\":\"y\"}},\"id\":\"24161df0-4e01-446f-9a5f-02f72cb189e9\",\"type\":\"Line\"},{\"attributes\":{\"active_drag\":\"auto\",\"active_inspect\":\"auto\",\"active_scroll\":\"auto\",\"active_tap\":\"auto\",\"tools\":[{\"id\":\"2528dc35-fbcb-4d59-b757-34ee9b5f5a67\",\"type\":\"PanTool\"},{\"id\":\"35459e3c-397d-4fe6-84d4-63d3c9c39720\",\"type\":\"WheelZoomTool\"},{\"id\":\"4fa1f087-6940-40df-9123-4767650f36d3\",\"type\":\"BoxZoomTool\"},{\"id\":\"daa28609-049e-4717-9786-51e002dec13f\",\"type\":\"SaveTool\"},{\"id\":\"87196bef-75e8-4ae0-8205-766274320c86\",\"type\":\"ResetTool\"},{\"id\":\"df6a686a-a745-4195-90ee-57c7647df7d8\",\"type\":\"HelpTool\"}]},\"id\":\"7653f055-3b19-49e4-a132-ff0fd1b1c7dc\",\"type\":\"Toolbar\"},{\"attributes\":{\"formatter\":{\"id\":\"ad0104e7-7599-43f7-a2eb-e4e0cecff459\",\"type\":\"BasicTickFormatter\"},\"plot\":{\"id\":\"ee339c28-c193-4777-9797-f5c73dcd9679\",\"subtype\":\"Figure\",\"type\":\"Plot\"},\"ticker\":{\"id\":\"d25012d7-8939-4d03-889f-258139fe37af\",\"type\":\"BasicTicker\"}},\"id\":\"552ec19e-e1c5-45c7-8c98-fac622c5b5ae\",\"type\":\"LinearAxis\"},{\"attributes\":{\"line_alpha\":0.1,\"line_color\":\"#1f77b4\",\"line_width\":3,\"x\":{\"field\":\"x\"},\"y\":{\"field\":\"y\"}},\"id\":\"89e623e2-621c-41ba-9a95-ca68ced97d2e\",\"type\":\"Line\"},{\"attributes\":{\"source\":{\"id\":\"781d5ad0-0f97-4a71-a70d-7f80628d08a3\",\"type\":\"ColumnDataSource\"}},\"id\":\"4e9964fa-8cf2-4cdb-9089-16da8c76f3ff\",\"type\":\"CDSView\"},{\"attributes\":{\"dimension\":1,\"plot\":{\"id\":\"ee339c28-c193-4777-9797-f5c73dcd9679\",\"subtype\":\"Figure\",\"type\":\"Plot\"},\"ticker\":{\"id\":\"d25012d7-8939-4d03-889f-258139fe37af\",\"type\":\"BasicTicker\"}},\"id\":\"375296c1-bf1d-4051-a66e-63275a3af4f9\",\"type\":\"Grid\"},{\"attributes\":{\"line_color\":\"red\",\"line_width\":3,\"x\":{\"field\":\"x\"},\"y\":{\"field\":\"y\"}},\"id\":\"ec8110a4-408c-4089-bad4-534f2ab22fd4\",\"type\":\"Line\"},{\"attributes\":{},\"id\":\"63980932-3687-429d-940b-e7717a3fbfb3\",\"type\":\"BasicTickFormatter\"},{\"attributes\":{\"callback\":null,\"column_names\":[\"x\",\"y\"],\"data\":{\"x\":[2,3,4,5],\"y\":[2,3,4,5]},\"selected\":null,\"selection_policy\":null},\"id\":\"781d5ad0-0f97-4a71-a70d-7f80628d08a3\",\"type\":\"ColumnDataSource\"},{\"attributes\":{\"below\":[{\"id\":\"2fcda345-68f3-45ba-b206-192bc583e7bf\",\"type\":\"LinearAxis\"}],\"left\":[{\"id\":\"552ec19e-e1c5-45c7-8c98-fac622c5b5ae\",\"type\":\"LinearAxis\"}],\"plot_height\":350,\"plot_width\":450,\"renderers\":[{\"id\":\"2fcda345-68f3-45ba-b206-192bc583e7bf\",\"type\":\"LinearAxis\"},{\"id\":\"f21eb9db-43ea-4bfe-87a0-efd526f01ca1\",\"type\":\"Grid\"},{\"id\":\"552ec19e-e1c5-45c7-8c98-fac622c5b5ae\",\"type\":\"LinearAxis\"},{\"id\":\"375296c1-bf1d-4051-a66e-63275a3af4f9\",\"type\":\"Grid\"},{\"id\":\"1e9ddc8e-3b9d-40bd-9628-283bdeb39ad5\",\"type\":\"BoxAnnotation\"},{\"id\":\"07d29c73-1f4b-4f9a-a5a7-2bdc523dd6d7\",\"type\":\"GlyphRenderer\"},{\"id\":\"87ae2a4e-ff48-40b8-a891-567a1f51024d\",\"type\":\"GlyphRenderer\"},{\"id\":\"66eb6481-4299-48c4-bdc0-8727b1b50251\",\"type\":\"GlyphRenderer\"}],\"title\":{\"id\":\"e2e27282-3138-4460-98ce-d7784223beb8\",\"type\":\"Title\"},\"toolbar\":{\"id\":\"7653f055-3b19-49e4-a132-ff0fd1b1c7dc\",\"type\":\"Toolbar\"},\"x_range\":{\"id\":\"f7bb26a6-445c-4489-86a7-a7ef47a71f3d\",\"type\":\"DataRange1d\"},\"x_scale\":{\"id\":\"3a4d0bc0-72e0-449c-87bf-97b300cb1da4\",\"type\":\"LinearScale\"},\"y_range\":{\"id\":\"d2aff7dd-2728-4463-8c0d-7b070ef069cd\",\"type\":\"DataRange1d\"},\"y_scale\":{\"id\":\"7ec7c91e-f6fd-48a4-9476-3ed21366b458\",\"type\":\"LinearScale\"}},\"id\":\"ee339c28-c193-4777-9797-f5c73dcd9679\",\"subtype\":\"Figure\",\"type\":\"Plot\"},{\"attributes\":{},\"id\":\"daa28609-049e-4717-9786-51e002dec13f\",\"type\":\"SaveTool\"},{\"attributes\":{\"source\":{\"id\":\"bcf1a15c-d4d0-4254-a386-b7cce8b436a0\",\"type\":\"ColumnDataSource\"}},\"id\":\"8480bc60-f92c-47da-bf3e-49d85f509c97\",\"type\":\"CDSView\"},{\"attributes\":{},\"id\":\"d25012d7-8939-4d03-889f-258139fe37af\",\"type\":\"BasicTicker\"},{\"attributes\":{\"source\":{\"id\":\"a1ae2f18-89db-49c6-9d7f-b229c68f7a15\",\"type\":\"ColumnDataSource\"}},\"id\":\"892f85d3-84cb-492d-b0de-a36acae9bd23\",\"type\":\"CDSView\"},{\"attributes\":{\"line_color\":\"red\",\"line_width\":3,\"x\":{\"field\":\"x\"},\"y\":{\"field\":\"y\"}},\"id\":\"341b7170-7585-49f6-8884-c26bc110c4b0\",\"type\":\"Line\"},{\"attributes\":{},\"id\":\"7ec7c91e-f6fd-48a4-9476-3ed21366b458\",\"type\":\"LinearScale\"}],\"root_ids\":[\"ee339c28-c193-4777-9797-f5c73dcd9679\"]},\"title\":\"Bokeh Application\",\"version\":\"0.12.15\"}};\n",
       "  var render_items = [{\"docid\":\"3ff49694-c843-43a8-88a2-bba315137828\",\"elementid\":\"1f2e6120-1a81-4872-ae10-81eceaf7fbb6\",\"modelid\":\"ee339c28-c193-4777-9797-f5c73dcd9679\"}];\n",
       "  root.Bokeh.embed.embed_items_notebook(docs_json, render_items);\n",
       "\n",
       "  }\n",
       "  if (root.Bokeh !== undefined) {\n",
       "    embed_document(root);\n",
       "  } else {\n",
       "    var attempts = 0;\n",
       "    var timer = setInterval(function(root) {\n",
       "      if (root.Bokeh !== undefined) {\n",
       "        embed_document(root);\n",
       "        clearInterval(timer);\n",
       "      }\n",
       "      attempts++;\n",
       "      if (attempts > 100) {\n",
       "        console.log(\"Bokeh: ERROR: Unable to run BokehJS code because BokehJS library is missing\")\n",
       "        clearInterval(timer);\n",
       "      }\n",
       "    }, 10, root)\n",
       "  }\n",
       "})(window);"
      ],
      "application/vnd.bokehjs_exec.v0+json": ""
     },
     "metadata": {
      "application/vnd.bokehjs_exec.v0+json": {
       "id": "ee339c28-c193-4777-9797-f5c73dcd9679"
      }
     },
     "output_type": "display_data"
    }
   ],
   "source": [
    "#memvisualisasikan data dengan line plots menggunakan line_width = 3, color = 'red'\n",
    "#membuat triangle dengan ukuran 14 yang berwarna kuning l.triangle([2,3,4,5],[2,3,4,5], size = 14, fill_color = 'yellow')\n",
    "l.line([2,3,4,5], [2,3,4,5], line_width = 3, color = 'red')\n",
    "l.triangle([2,3,4,5],[2,3,4,5], size = 14, fill_color = 'yellow')\n",
    "\n",
    "show(l)"
   ]
  },
  {
   "cell_type": "code",
   "execution_count": 40,
   "metadata": {},
   "outputs": [
    {
     "data": {
      "text/html": [
       "\n",
       "<div class=\"bk-root\">\n",
       "    <div class=\"bk-plotdiv\" id=\"0227704f-92d4-4347-a4bb-756e783c7d48\"></div>\n",
       "</div>"
      ]
     },
     "metadata": {},
     "output_type": "display_data"
    },
    {
     "data": {
      "application/javascript": [
       "(function(root) {\n",
       "  function embed_document(root) {\n",
       "    \n",
       "  var docs_json = {\"98e8fdf9-c7ae-44ea-b5f1-ee6122cbe21e\":{\"roots\":{\"references\":[{\"attributes\":{\"fill_alpha\":{\"value\":0.1},\"fill_color\":{\"value\":\"#1f77b4\"},\"line_alpha\":{\"value\":0.1},\"line_color\":{\"value\":\"#1f77b4\"},\"size\":{\"units\":\"screen\",\"value\":14},\"x\":{\"field\":\"x\"},\"y\":{\"field\":\"y\"}},\"id\":\"cce0ea8f-aa09-4db1-a43d-7fea9d14ed0c\",\"type\":\"Triangle\"},{\"attributes\":{\"fill_color\":{\"value\":\"yellow\"},\"line_color\":{\"value\":\"green\"},\"size\":{\"units\":\"screen\",\"value\":14},\"x\":{\"field\":\"x\"},\"y\":{\"field\":\"y\"}},\"id\":\"8869a492-4fc4-4317-a8e4-b09d32fc9f47\",\"type\":\"Triangle\"},{\"attributes\":{\"formatter\":{\"id\":\"63980932-3687-429d-940b-e7717a3fbfb3\",\"type\":\"BasicTickFormatter\"},\"plot\":{\"id\":\"ee339c28-c193-4777-9797-f5c73dcd9679\",\"subtype\":\"Figure\",\"type\":\"Plot\"},\"ticker\":{\"id\":\"f56db50e-3122-4619-916b-34a6726e9104\",\"type\":\"BasicTicker\"}},\"id\":\"2fcda345-68f3-45ba-b206-192bc583e7bf\",\"type\":\"LinearAxis\"},{\"attributes\":{\"callback\":null,\"column_names\":[\"x\",\"y\"],\"data\":{\"x\":[2,3,4,5],\"y\":[2,3,4,5]},\"selected\":null,\"selection_policy\":null},\"id\":\"6c8e6f69-08eb-4184-a1e5-69d407bfcbf8\",\"type\":\"ColumnDataSource\"},{\"attributes\":{\"plot\":{\"id\":\"ee339c28-c193-4777-9797-f5c73dcd9679\",\"subtype\":\"Figure\",\"type\":\"Plot\"},\"ticker\":{\"id\":\"f56db50e-3122-4619-916b-34a6726e9104\",\"type\":\"BasicTicker\"}},\"id\":\"f21eb9db-43ea-4bfe-87a0-efd526f01ca1\",\"type\":\"Grid\"},{\"attributes\":{},\"id\":\"f56db50e-3122-4619-916b-34a6726e9104\",\"type\":\"BasicTicker\"},{\"attributes\":{\"data_source\":{\"id\":\"a1ae2f18-89db-49c6-9d7f-b229c68f7a15\",\"type\":\"ColumnDataSource\"},\"glyph\":{\"id\":\"341b7170-7585-49f6-8884-c26bc110c4b0\",\"type\":\"Line\"},\"hover_glyph\":null,\"muted_glyph\":null,\"nonselection_glyph\":{\"id\":\"89e623e2-621c-41ba-9a95-ca68ced97d2e\",\"type\":\"Line\"},\"selection_glyph\":null,\"view\":{\"id\":\"892f85d3-84cb-492d-b0de-a36acae9bd23\",\"type\":\"CDSView\"}},\"id\":\"07d29c73-1f4b-4f9a-a5a7-2bdc523dd6d7\",\"type\":\"GlyphRenderer\"},{\"attributes\":{},\"id\":\"2528dc35-fbcb-4d59-b757-34ee9b5f5a67\",\"type\":\"PanTool\"},{\"attributes\":{\"data_source\":{\"id\":\"781d5ad0-0f97-4a71-a70d-7f80628d08a3\",\"type\":\"ColumnDataSource\"},\"glyph\":{\"id\":\"ec8110a4-408c-4089-bad4-534f2ab22fd4\",\"type\":\"Line\"},\"hover_glyph\":null,\"muted_glyph\":null,\"nonselection_glyph\":{\"id\":\"24161df0-4e01-446f-9a5f-02f72cb189e9\",\"type\":\"Line\"},\"selection_glyph\":null,\"view\":{\"id\":\"4e9964fa-8cf2-4cdb-9089-16da8c76f3ff\",\"type\":\"CDSView\"}},\"id\":\"87ae2a4e-ff48-40b8-a891-567a1f51024d\",\"type\":\"GlyphRenderer\"},{\"attributes\":{},\"id\":\"3a4d0bc0-72e0-449c-87bf-97b300cb1da4\",\"type\":\"LinearScale\"},{\"attributes\":{},\"id\":\"ad0104e7-7599-43f7-a2eb-e4e0cecff459\",\"type\":\"BasicTickFormatter\"},{\"attributes\":{\"data_source\":{\"id\":\"e88eb5d1-fcf9-41ae-9dbc-5e0e587273c5\",\"type\":\"ColumnDataSource\"},\"glyph\":{\"id\":\"8869a492-4fc4-4317-a8e4-b09d32fc9f47\",\"type\":\"Triangle\"},\"hover_glyph\":null,\"muted_glyph\":null,\"nonselection_glyph\":{\"id\":\"b29aa5fb-1c71-4c72-990b-c2a3b2bf1e03\",\"type\":\"Triangle\"},\"selection_glyph\":null,\"view\":{\"id\":\"3ed68646-d529-46fe-8f1f-f233e014f826\",\"type\":\"CDSView\"}},\"id\":\"4ffb02c1-a0ea-45b1-9693-25b1bc74c749\",\"type\":\"GlyphRenderer\"},{\"attributes\":{\"fill_color\":{\"value\":\"yellow\"},\"line_color\":{\"value\":\"#1f77b4\"},\"size\":{\"units\":\"screen\",\"value\":14},\"x\":{\"field\":\"x\"},\"y\":{\"field\":\"y\"}},\"id\":\"336f9f63-302f-4a71-86aa-8d53137a6e95\",\"type\":\"Triangle\"},{\"attributes\":{},\"id\":\"df6a686a-a745-4195-90ee-57c7647df7d8\",\"type\":\"HelpTool\"},{\"attributes\":{\"callback\":null,\"column_names\":[\"x\",\"y\"],\"data\":{\"x\":[2,3,4,5],\"y\":[2,3,4,5]},\"selected\":null,\"selection_policy\":null},\"id\":\"bcf1a15c-d4d0-4254-a386-b7cce8b436a0\",\"type\":\"ColumnDataSource\"},{\"attributes\":{\"callback\":null},\"id\":\"f7bb26a6-445c-4489-86a7-a7ef47a71f3d\",\"type\":\"DataRange1d\"},{\"attributes\":{\"callback\":null},\"id\":\"d2aff7dd-2728-4463-8c0d-7b070ef069cd\",\"type\":\"DataRange1d\"},{\"attributes\":{\"data_source\":{\"id\":\"bcf1a15c-d4d0-4254-a386-b7cce8b436a0\",\"type\":\"ColumnDataSource\"},\"glyph\":{\"id\":\"336f9f63-302f-4a71-86aa-8d53137a6e95\",\"type\":\"Triangle\"},\"hover_glyph\":null,\"muted_glyph\":null,\"nonselection_glyph\":{\"id\":\"cce0ea8f-aa09-4db1-a43d-7fea9d14ed0c\",\"type\":\"Triangle\"},\"selection_glyph\":null,\"view\":{\"id\":\"8480bc60-f92c-47da-bf3e-49d85f509c97\",\"type\":\"CDSView\"}},\"id\":\"66eb6481-4299-48c4-bdc0-8727b1b50251\",\"type\":\"GlyphRenderer\"},{\"attributes\":{\"overlay\":{\"id\":\"1e9ddc8e-3b9d-40bd-9628-283bdeb39ad5\",\"type\":\"BoxAnnotation\"}},\"id\":\"4fa1f087-6940-40df-9123-4767650f36d3\",\"type\":\"BoxZoomTool\"},{\"attributes\":{\"bottom_units\":\"screen\",\"fill_alpha\":{\"value\":0.5},\"fill_color\":{\"value\":\"lightgrey\"},\"left_units\":\"screen\",\"level\":\"overlay\",\"line_alpha\":{\"value\":1.0},\"line_color\":{\"value\":\"black\"},\"line_dash\":[4,4],\"line_width\":{\"value\":2},\"plot\":null,\"render_mode\":\"css\",\"right_units\":\"screen\",\"top_units\":\"screen\"},\"id\":\"1e9ddc8e-3b9d-40bd-9628-283bdeb39ad5\",\"type\":\"BoxAnnotation\"},{\"attributes\":{\"plot\":null,\"text\":\"\"},\"id\":\"e2e27282-3138-4460-98ce-d7784223beb8\",\"type\":\"Title\"},{\"attributes\":{},\"id\":\"87196bef-75e8-4ae0-8205-766274320c86\",\"type\":\"ResetTool\"},{\"attributes\":{},\"id\":\"35459e3c-397d-4fe6-84d4-63d3c9c39720\",\"type\":\"WheelZoomTool\"},{\"attributes\":{\"callback\":null,\"column_names\":[\"x\",\"y\"],\"data\":{\"x\":[2,3,4,5],\"y\":[2,3,4,5]},\"selected\":null,\"selection_policy\":null},\"id\":\"a1ae2f18-89db-49c6-9d7f-b229c68f7a15\",\"type\":\"ColumnDataSource\"},{\"attributes\":{\"line_alpha\":0.1,\"line_color\":\"#1f77b4\",\"line_width\":3,\"x\":{\"field\":\"x\"},\"y\":{\"field\":\"y\"}},\"id\":\"24161df0-4e01-446f-9a5f-02f72cb189e9\",\"type\":\"Line\"},{\"attributes\":{\"active_drag\":\"auto\",\"active_inspect\":\"auto\",\"active_scroll\":\"auto\",\"active_tap\":\"auto\",\"tools\":[{\"id\":\"2528dc35-fbcb-4d59-b757-34ee9b5f5a67\",\"type\":\"PanTool\"},{\"id\":\"35459e3c-397d-4fe6-84d4-63d3c9c39720\",\"type\":\"WheelZoomTool\"},{\"id\":\"4fa1f087-6940-40df-9123-4767650f36d3\",\"type\":\"BoxZoomTool\"},{\"id\":\"daa28609-049e-4717-9786-51e002dec13f\",\"type\":\"SaveTool\"},{\"id\":\"87196bef-75e8-4ae0-8205-766274320c86\",\"type\":\"ResetTool\"},{\"id\":\"df6a686a-a745-4195-90ee-57c7647df7d8\",\"type\":\"HelpTool\"}]},\"id\":\"7653f055-3b19-49e4-a132-ff0fd1b1c7dc\",\"type\":\"Toolbar\"},{\"attributes\":{\"formatter\":{\"id\":\"ad0104e7-7599-43f7-a2eb-e4e0cecff459\",\"type\":\"BasicTickFormatter\"},\"plot\":{\"id\":\"ee339c28-c193-4777-9797-f5c73dcd9679\",\"subtype\":\"Figure\",\"type\":\"Plot\"},\"ticker\":{\"id\":\"d25012d7-8939-4d03-889f-258139fe37af\",\"type\":\"BasicTicker\"}},\"id\":\"552ec19e-e1c5-45c7-8c98-fac622c5b5ae\",\"type\":\"LinearAxis\"},{\"attributes\":{\"callback\":null,\"column_names\":[\"x\",\"y\"],\"data\":{\"x\":[2,3,4,5],\"y\":[2,3,4,5]},\"selected\":null,\"selection_policy\":null},\"id\":\"e88eb5d1-fcf9-41ae-9dbc-5e0e587273c5\",\"type\":\"ColumnDataSource\"},{\"attributes\":{\"line_alpha\":0.1,\"line_color\":\"#1f77b4\",\"line_width\":3,\"x\":{\"field\":\"x\"},\"y\":{\"field\":\"y\"}},\"id\":\"89e623e2-621c-41ba-9a95-ca68ced97d2e\",\"type\":\"Line\"},{\"attributes\":{\"source\":{\"id\":\"781d5ad0-0f97-4a71-a70d-7f80628d08a3\",\"type\":\"ColumnDataSource\"}},\"id\":\"4e9964fa-8cf2-4cdb-9089-16da8c76f3ff\",\"type\":\"CDSView\"},{\"attributes\":{\"dimension\":1,\"plot\":{\"id\":\"ee339c28-c193-4777-9797-f5c73dcd9679\",\"subtype\":\"Figure\",\"type\":\"Plot\"},\"ticker\":{\"id\":\"d25012d7-8939-4d03-889f-258139fe37af\",\"type\":\"BasicTicker\"}},\"id\":\"375296c1-bf1d-4051-a66e-63275a3af4f9\",\"type\":\"Grid\"},{\"attributes\":{\"data_source\":{\"id\":\"6c8e6f69-08eb-4184-a1e5-69d407bfcbf8\",\"type\":\"ColumnDataSource\"},\"glyph\":{\"id\":\"8d800e3e-668d-4707-b5e5-027bb960d6d3\",\"type\":\"Line\"},\"hover_glyph\":null,\"muted_glyph\":null,\"nonselection_glyph\":{\"id\":\"c61ae686-c69e-4342-a64f-945068f8207d\",\"type\":\"Line\"},\"selection_glyph\":null,\"view\":{\"id\":\"c47164f4-2b7d-44ff-af05-fd0abd9ff879\",\"type\":\"CDSView\"}},\"id\":\"ce116c12-37d4-49f1-b502-1d14cc76e79b\",\"type\":\"GlyphRenderer\"},{\"attributes\":{\"line_color\":\"red\",\"line_width\":3,\"x\":{\"field\":\"x\"},\"y\":{\"field\":\"y\"}},\"id\":\"ec8110a4-408c-4089-bad4-534f2ab22fd4\",\"type\":\"Line\"},{\"attributes\":{\"fill_alpha\":{\"value\":0.1},\"fill_color\":{\"value\":\"#1f77b4\"},\"line_alpha\":{\"value\":0.1},\"line_color\":{\"value\":\"#1f77b4\"},\"size\":{\"units\":\"screen\",\"value\":14},\"x\":{\"field\":\"x\"},\"y\":{\"field\":\"y\"}},\"id\":\"b29aa5fb-1c71-4c72-990b-c2a3b2bf1e03\",\"type\":\"Triangle\"},{\"attributes\":{},\"id\":\"63980932-3687-429d-940b-e7717a3fbfb3\",\"type\":\"BasicTickFormatter\"},{\"attributes\":{\"callback\":null,\"column_names\":[\"x\",\"y\"],\"data\":{\"x\":[2,3,4,5],\"y\":[2,3,4,5]},\"selected\":null,\"selection_policy\":null},\"id\":\"781d5ad0-0f97-4a71-a70d-7f80628d08a3\",\"type\":\"ColumnDataSource\"},{\"attributes\":{\"below\":[{\"id\":\"2fcda345-68f3-45ba-b206-192bc583e7bf\",\"type\":\"LinearAxis\"}],\"left\":[{\"id\":\"552ec19e-e1c5-45c7-8c98-fac622c5b5ae\",\"type\":\"LinearAxis\"}],\"plot_height\":350,\"plot_width\":450,\"renderers\":[{\"id\":\"2fcda345-68f3-45ba-b206-192bc583e7bf\",\"type\":\"LinearAxis\"},{\"id\":\"f21eb9db-43ea-4bfe-87a0-efd526f01ca1\",\"type\":\"Grid\"},{\"id\":\"552ec19e-e1c5-45c7-8c98-fac622c5b5ae\",\"type\":\"LinearAxis\"},{\"id\":\"375296c1-bf1d-4051-a66e-63275a3af4f9\",\"type\":\"Grid\"},{\"id\":\"1e9ddc8e-3b9d-40bd-9628-283bdeb39ad5\",\"type\":\"BoxAnnotation\"},{\"id\":\"07d29c73-1f4b-4f9a-a5a7-2bdc523dd6d7\",\"type\":\"GlyphRenderer\"},{\"id\":\"87ae2a4e-ff48-40b8-a891-567a1f51024d\",\"type\":\"GlyphRenderer\"},{\"id\":\"66eb6481-4299-48c4-bdc0-8727b1b50251\",\"type\":\"GlyphRenderer\"},{\"id\":\"ce116c12-37d4-49f1-b502-1d14cc76e79b\",\"type\":\"GlyphRenderer\"},{\"id\":\"4ffb02c1-a0ea-45b1-9693-25b1bc74c749\",\"type\":\"GlyphRenderer\"}],\"title\":{\"id\":\"e2e27282-3138-4460-98ce-d7784223beb8\",\"type\":\"Title\"},\"toolbar\":{\"id\":\"7653f055-3b19-49e4-a132-ff0fd1b1c7dc\",\"type\":\"Toolbar\"},\"x_range\":{\"id\":\"f7bb26a6-445c-4489-86a7-a7ef47a71f3d\",\"type\":\"DataRange1d\"},\"x_scale\":{\"id\":\"3a4d0bc0-72e0-449c-87bf-97b300cb1da4\",\"type\":\"LinearScale\"},\"y_range\":{\"id\":\"d2aff7dd-2728-4463-8c0d-7b070ef069cd\",\"type\":\"DataRange1d\"},\"y_scale\":{\"id\":\"7ec7c91e-f6fd-48a4-9476-3ed21366b458\",\"type\":\"LinearScale\"}},\"id\":\"ee339c28-c193-4777-9797-f5c73dcd9679\",\"subtype\":\"Figure\",\"type\":\"Plot\"},{\"attributes\":{\"line_alpha\":0.1,\"line_color\":\"#1f77b4\",\"line_width\":3,\"x\":{\"field\":\"x\"},\"y\":{\"field\":\"y\"}},\"id\":\"c61ae686-c69e-4342-a64f-945068f8207d\",\"type\":\"Line\"},{\"attributes\":{},\"id\":\"daa28609-049e-4717-9786-51e002dec13f\",\"type\":\"SaveTool\"},{\"attributes\":{\"source\":{\"id\":\"bcf1a15c-d4d0-4254-a386-b7cce8b436a0\",\"type\":\"ColumnDataSource\"}},\"id\":\"8480bc60-f92c-47da-bf3e-49d85f509c97\",\"type\":\"CDSView\"},{\"attributes\":{},\"id\":\"d25012d7-8939-4d03-889f-258139fe37af\",\"type\":\"BasicTicker\"},{\"attributes\":{\"source\":{\"id\":\"e88eb5d1-fcf9-41ae-9dbc-5e0e587273c5\",\"type\":\"ColumnDataSource\"}},\"id\":\"3ed68646-d529-46fe-8f1f-f233e014f826\",\"type\":\"CDSView\"},{\"attributes\":{\"source\":{\"id\":\"a1ae2f18-89db-49c6-9d7f-b229c68f7a15\",\"type\":\"ColumnDataSource\"}},\"id\":\"892f85d3-84cb-492d-b0de-a36acae9bd23\",\"type\":\"CDSView\"},{\"attributes\":{\"source\":{\"id\":\"6c8e6f69-08eb-4184-a1e5-69d407bfcbf8\",\"type\":\"ColumnDataSource\"}},\"id\":\"c47164f4-2b7d-44ff-af05-fd0abd9ff879\",\"type\":\"CDSView\"},{\"attributes\":{\"line_color\":\"red\",\"line_width\":3,\"x\":{\"field\":\"x\"},\"y\":{\"field\":\"y\"}},\"id\":\"8d800e3e-668d-4707-b5e5-027bb960d6d3\",\"type\":\"Line\"},{\"attributes\":{\"line_color\":\"red\",\"line_width\":3,\"x\":{\"field\":\"x\"},\"y\":{\"field\":\"y\"}},\"id\":\"341b7170-7585-49f6-8884-c26bc110c4b0\",\"type\":\"Line\"},{\"attributes\":{},\"id\":\"7ec7c91e-f6fd-48a4-9476-3ed21366b458\",\"type\":\"LinearScale\"}],\"root_ids\":[\"ee339c28-c193-4777-9797-f5c73dcd9679\"]},\"title\":\"Bokeh Application\",\"version\":\"0.12.15\"}};\n",
       "  var render_items = [{\"docid\":\"98e8fdf9-c7ae-44ea-b5f1-ee6122cbe21e\",\"elementid\":\"0227704f-92d4-4347-a4bb-756e783c7d48\",\"modelid\":\"ee339c28-c193-4777-9797-f5c73dcd9679\"}];\n",
       "  root.Bokeh.embed.embed_items_notebook(docs_json, render_items);\n",
       "\n",
       "  }\n",
       "  if (root.Bokeh !== undefined) {\n",
       "    embed_document(root);\n",
       "  } else {\n",
       "    var attempts = 0;\n",
       "    var timer = setInterval(function(root) {\n",
       "      if (root.Bokeh !== undefined) {\n",
       "        embed_document(root);\n",
       "        clearInterval(timer);\n",
       "      }\n",
       "      attempts++;\n",
       "      if (attempts > 100) {\n",
       "        console.log(\"Bokeh: ERROR: Unable to run BokehJS code because BokehJS library is missing\")\n",
       "        clearInterval(timer);\n",
       "      }\n",
       "    }, 10, root)\n",
       "  }\n",
       "})(window);"
      ],
      "application/vnd.bokehjs_exec.v0+json": ""
     },
     "metadata": {
      "application/vnd.bokehjs_exec.v0+json": {
       "id": "ee339c28-c193-4777-9797-f5c73dcd9679"
      }
     },
     "output_type": "display_data"
    }
   ],
   "source": [
    "#memvisualisasikan data dengan line plots menggunakan line_width = 3, color = 'red'\n",
    "#membuat triangle dengan ukuran 14 yang berwarna hijau l.triangle([2,3,4,5],[2,3,4,5], size = 14, fill_color = 'yellow', color = 'green')\n",
    "l.line([2,3,4,5], [2,3,4,5], line_width = 3, color = 'red')\n",
    "l.triangle([2,3,4,5],[2,3,4,5], size = 14, fill_color = 'yellow', color = 'green')\n",
    "\n",
    "show(l)"
   ]
  },
  {
   "cell_type": "code",
   "execution_count": 41,
   "metadata": {},
   "outputs": [
    {
     "data": {
      "text/html": [
       "\n",
       "<div class=\"bk-root\">\n",
       "    <div class=\"bk-plotdiv\" id=\"7e0cd28e-e1c9-4241-93df-97e932e60bdd\"></div>\n",
       "</div>"
      ]
     },
     "metadata": {},
     "output_type": "display_data"
    },
    {
     "data": {
      "application/javascript": [
       "(function(root) {\n",
       "  function embed_document(root) {\n",
       "    \n",
       "  var docs_json = {\"75702837-3d05-4c7a-b767-1a34ce987f55\":{\"roots\":{\"references\":[{\"attributes\":{\"formatter\":{\"id\":\"63980932-3687-429d-940b-e7717a3fbfb3\",\"type\":\"BasicTickFormatter\"},\"plot\":{\"id\":\"ee339c28-c193-4777-9797-f5c73dcd9679\",\"subtype\":\"Figure\",\"type\":\"Plot\"},\"ticker\":{\"id\":\"f56db50e-3122-4619-916b-34a6726e9104\",\"type\":\"BasicTicker\"}},\"id\":\"2fcda345-68f3-45ba-b206-192bc583e7bf\",\"type\":\"LinearAxis\"},{\"attributes\":{\"source\":{\"id\":\"0291b9d6-b05b-4287-a07c-4ccf2b2c3c54\",\"type\":\"ColumnDataSource\"}},\"id\":\"bfa49fe2-663f-42a0-9ecb-6391f7bf78d8\",\"type\":\"CDSView\"},{\"attributes\":{\"plot\":{\"id\":\"ee339c28-c193-4777-9797-f5c73dcd9679\",\"subtype\":\"Figure\",\"type\":\"Plot\"},\"ticker\":{\"id\":\"f56db50e-3122-4619-916b-34a6726e9104\",\"type\":\"BasicTicker\"}},\"id\":\"f21eb9db-43ea-4bfe-87a0-efd526f01ca1\",\"type\":\"Grid\"},{\"attributes\":{\"data_source\":{\"id\":\"4714a087-2888-42b0-be47-5c7e6c9654f1\",\"type\":\"ColumnDataSource\"},\"glyph\":{\"id\":\"3a272aab-3931-44df-8249-d290b9eb90c7\",\"type\":\"Triangle\"},\"hover_glyph\":null,\"muted_glyph\":null,\"nonselection_glyph\":{\"id\":\"a2a64a50-4c5b-4bd2-aea7-5d90cdcff878\",\"type\":\"Triangle\"},\"selection_glyph\":null,\"view\":{\"id\":\"5546114a-1771-490e-a943-911d3cbe8133\",\"type\":\"CDSView\"}},\"id\":\"bb0fafb1-a25c-4a79-8337-d85ae915294c\",\"type\":\"GlyphRenderer\"},{\"attributes\":{},\"id\":\"f56db50e-3122-4619-916b-34a6726e9104\",\"type\":\"BasicTicker\"},{\"attributes\":{\"line_color\":\"green\",\"line_width\":3,\"x\":{\"field\":\"x\"},\"y\":{\"field\":\"y\"}},\"id\":\"24117cb7-560a-4366-b0ff-d83de95e6880\",\"type\":\"Line\"},{\"attributes\":{},\"id\":\"2528dc35-fbcb-4d59-b757-34ee9b5f5a67\",\"type\":\"PanTool\"},{\"attributes\":{\"data_source\":{\"id\":\"6a412057-dc6f-4810-9cec-60b7b3f71d87\",\"type\":\"ColumnDataSource\"},\"glyph\":{\"id\":\"24117cb7-560a-4366-b0ff-d83de95e6880\",\"type\":\"Line\"},\"hover_glyph\":null,\"muted_glyph\":null,\"nonselection_glyph\":{\"id\":\"7db610b6-fb9c-4026-a6ed-2c4ce127edec\",\"type\":\"Line\"},\"selection_glyph\":null,\"view\":{\"id\":\"a9a66575-053c-444f-a88b-5f215b998630\",\"type\":\"CDSView\"}},\"id\":\"bebde6bd-c1ca-4003-83b8-1bb243fd8028\",\"type\":\"GlyphRenderer\"},{\"attributes\":{\"fill_color\":{\"value\":\"yellow\"},\"line_color\":{\"value\":\"#1f77b4\"},\"size\":{\"units\":\"screen\",\"value\":14},\"x\":{\"field\":\"x\"},\"y\":{\"field\":\"y\"}},\"id\":\"336f9f63-302f-4a71-86aa-8d53137a6e95\",\"type\":\"Triangle\"},{\"attributes\":{\"callback\":null,\"column_names\":[\"x\",\"y\"],\"data\":{\"x\":[2,3,4,5],\"y\":[2,3,4,5]},\"selected\":null,\"selection_policy\":null},\"id\":\"bcf1a15c-d4d0-4254-a386-b7cce8b436a0\",\"type\":\"ColumnDataSource\"},{\"attributes\":{\"fill_alpha\":{\"value\":0.1},\"fill_color\":{\"value\":\"#1f77b4\"},\"line_alpha\":{\"value\":0.1},\"line_color\":{\"value\":\"#1f77b4\"},\"size\":{\"units\":\"screen\",\"value\":14},\"x\":{\"field\":\"x\"},\"y\":{\"field\":\"y\"}},\"id\":\"483aa06f-f9f1-424d-90f5-8a03520fa950\",\"type\":\"Circle\"},{\"attributes\":{\"callback\":null},\"id\":\"f7bb26a6-445c-4489-86a7-a7ef47a71f3d\",\"type\":\"DataRange1d\"},{\"attributes\":{\"callback\":null},\"id\":\"d2aff7dd-2728-4463-8c0d-7b070ef069cd\",\"type\":\"DataRange1d\"},{\"attributes\":{\"line_alpha\":0.1,\"line_color\":\"#1f77b4\",\"line_width\":3,\"x\":{\"field\":\"x\"},\"y\":{\"field\":\"y\"}},\"id\":\"7133e244-8b6b-4c58-8002-7084dd50d131\",\"type\":\"Line\"},{\"attributes\":{\"source\":{\"id\":\"124e62b1-517f-4223-8c73-38b246a24d6a\",\"type\":\"ColumnDataSource\"}},\"id\":\"97c682a5-eae3-4c81-8482-18923c6276b8\",\"type\":\"CDSView\"},{\"attributes\":{\"data_source\":{\"id\":\"bcf1a15c-d4d0-4254-a386-b7cce8b436a0\",\"type\":\"ColumnDataSource\"},\"glyph\":{\"id\":\"336f9f63-302f-4a71-86aa-8d53137a6e95\",\"type\":\"Triangle\"},\"hover_glyph\":null,\"muted_glyph\":null,\"nonselection_glyph\":{\"id\":\"cce0ea8f-aa09-4db1-a43d-7fea9d14ed0c\",\"type\":\"Triangle\"},\"selection_glyph\":null,\"view\":{\"id\":\"8480bc60-f92c-47da-bf3e-49d85f509c97\",\"type\":\"CDSView\"}},\"id\":\"66eb6481-4299-48c4-bdc0-8727b1b50251\",\"type\":\"GlyphRenderer\"},{\"attributes\":{\"fill_alpha\":{\"value\":0.1},\"fill_color\":{\"value\":\"#1f77b4\"},\"line_alpha\":{\"value\":0.1},\"line_color\":{\"value\":\"#1f77b4\"},\"size\":{\"units\":\"screen\",\"value\":14},\"x\":{\"field\":\"x\"},\"y\":{\"field\":\"y\"}},\"id\":\"a2a64a50-4c5b-4bd2-aea7-5d90cdcff878\",\"type\":\"Triangle\"},{\"attributes\":{\"bottom_units\":\"screen\",\"fill_alpha\":{\"value\":0.5},\"fill_color\":{\"value\":\"lightgrey\"},\"left_units\":\"screen\",\"level\":\"overlay\",\"line_alpha\":{\"value\":1.0},\"line_color\":{\"value\":\"black\"},\"line_dash\":[4,4],\"line_width\":{\"value\":2},\"plot\":null,\"render_mode\":\"css\",\"right_units\":\"screen\",\"top_units\":\"screen\"},\"id\":\"1e9ddc8e-3b9d-40bd-9628-283bdeb39ad5\",\"type\":\"BoxAnnotation\"},{\"attributes\":{\"source\":{\"id\":\"4714a087-2888-42b0-be47-5c7e6c9654f1\",\"type\":\"ColumnDataSource\"}},\"id\":\"5546114a-1771-490e-a943-911d3cbe8133\",\"type\":\"CDSView\"},{\"attributes\":{\"line_alpha\":0.1,\"line_color\":\"#1f77b4\",\"line_width\":3,\"x\":{\"field\":\"x\"},\"y\":{\"field\":\"y\"}},\"id\":\"7db610b6-fb9c-4026-a6ed-2c4ce127edec\",\"type\":\"Line\"},{\"attributes\":{\"callback\":null,\"column_names\":[\"x\",\"y\"],\"data\":{\"x\":[2,3,4,5],\"y\":[2,3,4,5]},\"selected\":null,\"selection_policy\":null},\"id\":\"a1ae2f18-89db-49c6-9d7f-b229c68f7a15\",\"type\":\"ColumnDataSource\"},{\"attributes\":{\"active_drag\":\"auto\",\"active_inspect\":\"auto\",\"active_scroll\":\"auto\",\"active_tap\":\"auto\",\"tools\":[{\"id\":\"2528dc35-fbcb-4d59-b757-34ee9b5f5a67\",\"type\":\"PanTool\"},{\"id\":\"35459e3c-397d-4fe6-84d4-63d3c9c39720\",\"type\":\"WheelZoomTool\"},{\"id\":\"4fa1f087-6940-40df-9123-4767650f36d3\",\"type\":\"BoxZoomTool\"},{\"id\":\"daa28609-049e-4717-9786-51e002dec13f\",\"type\":\"SaveTool\"},{\"id\":\"87196bef-75e8-4ae0-8205-766274320c86\",\"type\":\"ResetTool\"},{\"id\":\"df6a686a-a745-4195-90ee-57c7647df7d8\",\"type\":\"HelpTool\"}]},\"id\":\"7653f055-3b19-49e4-a132-ff0fd1b1c7dc\",\"type\":\"Toolbar\"},{\"attributes\":{\"source\":{\"id\":\"6a412057-dc6f-4810-9cec-60b7b3f71d87\",\"type\":\"ColumnDataSource\"}},\"id\":\"a9a66575-053c-444f-a88b-5f215b998630\",\"type\":\"CDSView\"},{\"attributes\":{\"callback\":null,\"column_names\":[\"x\",\"y\"],\"data\":{\"x\":[2,3,4,5],\"y\":[2,3,4,5]},\"selected\":null,\"selection_policy\":null},\"id\":\"e88eb5d1-fcf9-41ae-9dbc-5e0e587273c5\",\"type\":\"ColumnDataSource\"},{\"attributes\":{\"dimension\":1,\"plot\":{\"id\":\"ee339c28-c193-4777-9797-f5c73dcd9679\",\"subtype\":\"Figure\",\"type\":\"Plot\"},\"ticker\":{\"id\":\"d25012d7-8939-4d03-889f-258139fe37af\",\"type\":\"BasicTicker\"}},\"id\":\"375296c1-bf1d-4051-a66e-63275a3af4f9\",\"type\":\"Grid\"},{\"attributes\":{\"data_source\":{\"id\":\"6c8e6f69-08eb-4184-a1e5-69d407bfcbf8\",\"type\":\"ColumnDataSource\"},\"glyph\":{\"id\":\"8d800e3e-668d-4707-b5e5-027bb960d6d3\",\"type\":\"Line\"},\"hover_glyph\":null,\"muted_glyph\":null,\"nonselection_glyph\":{\"id\":\"c61ae686-c69e-4342-a64f-945068f8207d\",\"type\":\"Line\"},\"selection_glyph\":null,\"view\":{\"id\":\"c47164f4-2b7d-44ff-af05-fd0abd9ff879\",\"type\":\"CDSView\"}},\"id\":\"ce116c12-37d4-49f1-b502-1d14cc76e79b\",\"type\":\"GlyphRenderer\"},{\"attributes\":{\"below\":[{\"id\":\"2fcda345-68f3-45ba-b206-192bc583e7bf\",\"type\":\"LinearAxis\"}],\"left\":[{\"id\":\"552ec19e-e1c5-45c7-8c98-fac622c5b5ae\",\"type\":\"LinearAxis\"}],\"plot_height\":350,\"plot_width\":450,\"renderers\":[{\"id\":\"2fcda345-68f3-45ba-b206-192bc583e7bf\",\"type\":\"LinearAxis\"},{\"id\":\"f21eb9db-43ea-4bfe-87a0-efd526f01ca1\",\"type\":\"Grid\"},{\"id\":\"552ec19e-e1c5-45c7-8c98-fac622c5b5ae\",\"type\":\"LinearAxis\"},{\"id\":\"375296c1-bf1d-4051-a66e-63275a3af4f9\",\"type\":\"Grid\"},{\"id\":\"1e9ddc8e-3b9d-40bd-9628-283bdeb39ad5\",\"type\":\"BoxAnnotation\"},{\"id\":\"07d29c73-1f4b-4f9a-a5a7-2bdc523dd6d7\",\"type\":\"GlyphRenderer\"},{\"id\":\"87ae2a4e-ff48-40b8-a891-567a1f51024d\",\"type\":\"GlyphRenderer\"},{\"id\":\"66eb6481-4299-48c4-bdc0-8727b1b50251\",\"type\":\"GlyphRenderer\"},{\"id\":\"ce116c12-37d4-49f1-b502-1d14cc76e79b\",\"type\":\"GlyphRenderer\"},{\"id\":\"4ffb02c1-a0ea-45b1-9693-25b1bc74c749\",\"type\":\"GlyphRenderer\"},{\"id\":\"0d415aea-2db5-4ad9-b00d-b50854a03283\",\"type\":\"GlyphRenderer\"},{\"id\":\"bb0fafb1-a25c-4a79-8337-d85ae915294c\",\"type\":\"GlyphRenderer\"},{\"id\":\"bebde6bd-c1ca-4003-83b8-1bb243fd8028\",\"type\":\"GlyphRenderer\"},{\"id\":\"2cd2a8f1-2185-441a-b88e-74ed8d798be5\",\"type\":\"GlyphRenderer\"}],\"title\":{\"id\":\"e2e27282-3138-4460-98ce-d7784223beb8\",\"type\":\"Title\"},\"toolbar\":{\"id\":\"7653f055-3b19-49e4-a132-ff0fd1b1c7dc\",\"type\":\"Toolbar\"},\"x_range\":{\"id\":\"f7bb26a6-445c-4489-86a7-a7ef47a71f3d\",\"type\":\"DataRange1d\"},\"x_scale\":{\"id\":\"3a4d0bc0-72e0-449c-87bf-97b300cb1da4\",\"type\":\"LinearScale\"},\"y_range\":{\"id\":\"d2aff7dd-2728-4463-8c0d-7b070ef069cd\",\"type\":\"DataRange1d\"},\"y_scale\":{\"id\":\"7ec7c91e-f6fd-48a4-9476-3ed21366b458\",\"type\":\"LinearScale\"}},\"id\":\"ee339c28-c193-4777-9797-f5c73dcd9679\",\"subtype\":\"Figure\",\"type\":\"Plot\"},{\"attributes\":{\"fill_color\":{\"value\":\"yellow\"},\"line_color\":{\"value\":\"green\"},\"size\":{\"units\":\"screen\",\"value\":14},\"x\":{\"field\":\"x\"},\"y\":{\"field\":\"y\"}},\"id\":\"3a272aab-3931-44df-8249-d290b9eb90c7\",\"type\":\"Triangle\"},{\"attributes\":{},\"id\":\"daa28609-049e-4717-9786-51e002dec13f\",\"type\":\"SaveTool\"},{\"attributes\":{\"line_color\":\"red\",\"line_width\":3,\"x\":{\"field\":\"x\"},\"y\":{\"field\":\"y\"}},\"id\":\"e260f0cd-744a-4c65-a427-ff45a4259faf\",\"type\":\"Line\"},{\"attributes\":{\"source\":{\"id\":\"bcf1a15c-d4d0-4254-a386-b7cce8b436a0\",\"type\":\"ColumnDataSource\"}},\"id\":\"8480bc60-f92c-47da-bf3e-49d85f509c97\",\"type\":\"CDSView\"},{\"attributes\":{},\"id\":\"d25012d7-8939-4d03-889f-258139fe37af\",\"type\":\"BasicTicker\"},{\"attributes\":{\"source\":{\"id\":\"a1ae2f18-89db-49c6-9d7f-b229c68f7a15\",\"type\":\"ColumnDataSource\"}},\"id\":\"892f85d3-84cb-492d-b0de-a36acae9bd23\",\"type\":\"CDSView\"},{\"attributes\":{\"fill_color\":{\"value\":\"orange\"},\"size\":{\"units\":\"screen\",\"value\":14},\"x\":{\"field\":\"x\"},\"y\":{\"field\":\"y\"}},\"id\":\"3e7f1212-fef5-4b47-b793-9ddeebd8adf8\",\"type\":\"Circle\"},{\"attributes\":{\"line_color\":\"red\",\"line_width\":3,\"x\":{\"field\":\"x\"},\"y\":{\"field\":\"y\"}},\"id\":\"8d800e3e-668d-4707-b5e5-027bb960d6d3\",\"type\":\"Line\"},{\"attributes\":{},\"id\":\"7ec7c91e-f6fd-48a4-9476-3ed21366b458\",\"type\":\"LinearScale\"},{\"attributes\":{\"data_source\":{\"id\":\"0291b9d6-b05b-4287-a07c-4ccf2b2c3c54\",\"type\":\"ColumnDataSource\"},\"glyph\":{\"id\":\"e260f0cd-744a-4c65-a427-ff45a4259faf\",\"type\":\"Line\"},\"hover_glyph\":null,\"muted_glyph\":null,\"nonselection_glyph\":{\"id\":\"7133e244-8b6b-4c58-8002-7084dd50d131\",\"type\":\"Line\"},\"selection_glyph\":null,\"view\":{\"id\":\"bfa49fe2-663f-42a0-9ecb-6391f7bf78d8\",\"type\":\"CDSView\"}},\"id\":\"0d415aea-2db5-4ad9-b00d-b50854a03283\",\"type\":\"GlyphRenderer\"},{\"attributes\":{\"fill_alpha\":{\"value\":0.1},\"fill_color\":{\"value\":\"#1f77b4\"},\"line_alpha\":{\"value\":0.1},\"line_color\":{\"value\":\"#1f77b4\"},\"size\":{\"units\":\"screen\",\"value\":14},\"x\":{\"field\":\"x\"},\"y\":{\"field\":\"y\"}},\"id\":\"cce0ea8f-aa09-4db1-a43d-7fea9d14ed0c\",\"type\":\"Triangle\"},{\"attributes\":{\"fill_color\":{\"value\":\"yellow\"},\"line_color\":{\"value\":\"green\"},\"size\":{\"units\":\"screen\",\"value\":14},\"x\":{\"field\":\"x\"},\"y\":{\"field\":\"y\"}},\"id\":\"8869a492-4fc4-4317-a8e4-b09d32fc9f47\",\"type\":\"Triangle\"},{\"attributes\":{\"data_source\":{\"id\":\"124e62b1-517f-4223-8c73-38b246a24d6a\",\"type\":\"ColumnDataSource\"},\"glyph\":{\"id\":\"3e7f1212-fef5-4b47-b793-9ddeebd8adf8\",\"type\":\"Circle\"},\"hover_glyph\":null,\"muted_glyph\":null,\"nonselection_glyph\":{\"id\":\"483aa06f-f9f1-424d-90f5-8a03520fa950\",\"type\":\"Circle\"},\"selection_glyph\":null,\"view\":{\"id\":\"97c682a5-eae3-4c81-8482-18923c6276b8\",\"type\":\"CDSView\"}},\"id\":\"2cd2a8f1-2185-441a-b88e-74ed8d798be5\",\"type\":\"GlyphRenderer\"},{\"attributes\":{\"callback\":null,\"column_names\":[\"x\",\"y\"],\"data\":{\"x\":[2,3,4,5],\"y\":[2,3,4,5]},\"selected\":null,\"selection_policy\":null},\"id\":\"6c8e6f69-08eb-4184-a1e5-69d407bfcbf8\",\"type\":\"ColumnDataSource\"},{\"attributes\":{\"data_source\":{\"id\":\"a1ae2f18-89db-49c6-9d7f-b229c68f7a15\",\"type\":\"ColumnDataSource\"},\"glyph\":{\"id\":\"341b7170-7585-49f6-8884-c26bc110c4b0\",\"type\":\"Line\"},\"hover_glyph\":null,\"muted_glyph\":null,\"nonselection_glyph\":{\"id\":\"89e623e2-621c-41ba-9a95-ca68ced97d2e\",\"type\":\"Line\"},\"selection_glyph\":null,\"view\":{\"id\":\"892f85d3-84cb-492d-b0de-a36acae9bd23\",\"type\":\"CDSView\"}},\"id\":\"07d29c73-1f4b-4f9a-a5a7-2bdc523dd6d7\",\"type\":\"GlyphRenderer\"},{\"attributes\":{\"callback\":null,\"column_names\":[\"x\",\"y\"],\"data\":{\"x\":[2,3,4,5],\"y\":[2,3,4,5]},\"selected\":null,\"selection_policy\":null},\"id\":\"4714a087-2888-42b0-be47-5c7e6c9654f1\",\"type\":\"ColumnDataSource\"},{\"attributes\":{\"data_source\":{\"id\":\"781d5ad0-0f97-4a71-a70d-7f80628d08a3\",\"type\":\"ColumnDataSource\"},\"glyph\":{\"id\":\"ec8110a4-408c-4089-bad4-534f2ab22fd4\",\"type\":\"Line\"},\"hover_glyph\":null,\"muted_glyph\":null,\"nonselection_glyph\":{\"id\":\"24161df0-4e01-446f-9a5f-02f72cb189e9\",\"type\":\"Line\"},\"selection_glyph\":null,\"view\":{\"id\":\"4e9964fa-8cf2-4cdb-9089-16da8c76f3ff\",\"type\":\"CDSView\"}},\"id\":\"87ae2a4e-ff48-40b8-a891-567a1f51024d\",\"type\":\"GlyphRenderer\"},{\"attributes\":{},\"id\":\"3a4d0bc0-72e0-449c-87bf-97b300cb1da4\",\"type\":\"LinearScale\"},{\"attributes\":{\"callback\":null,\"column_names\":[\"x\",\"y\"],\"data\":{\"x\":[2,3,4,5],\"y\":[2,3,4,5]},\"selected\":null,\"selection_policy\":null},\"id\":\"0291b9d6-b05b-4287-a07c-4ccf2b2c3c54\",\"type\":\"ColumnDataSource\"},{\"attributes\":{},\"id\":\"ad0104e7-7599-43f7-a2eb-e4e0cecff459\",\"type\":\"BasicTickFormatter\"},{\"attributes\":{\"callback\":null,\"column_names\":[\"x\",\"y\"],\"data\":{\"x\":[2,3,4,6],\"y\":[4,2,6,4]},\"selected\":null,\"selection_policy\":null},\"id\":\"124e62b1-517f-4223-8c73-38b246a24d6a\",\"type\":\"ColumnDataSource\"},{\"attributes\":{\"data_source\":{\"id\":\"e88eb5d1-fcf9-41ae-9dbc-5e0e587273c5\",\"type\":\"ColumnDataSource\"},\"glyph\":{\"id\":\"8869a492-4fc4-4317-a8e4-b09d32fc9f47\",\"type\":\"Triangle\"},\"hover_glyph\":null,\"muted_glyph\":null,\"nonselection_glyph\":{\"id\":\"b29aa5fb-1c71-4c72-990b-c2a3b2bf1e03\",\"type\":\"Triangle\"},\"selection_glyph\":null,\"view\":{\"id\":\"3ed68646-d529-46fe-8f1f-f233e014f826\",\"type\":\"CDSView\"}},\"id\":\"4ffb02c1-a0ea-45b1-9693-25b1bc74c749\",\"type\":\"GlyphRenderer\"},{\"attributes\":{},\"id\":\"df6a686a-a745-4195-90ee-57c7647df7d8\",\"type\":\"HelpTool\"},{\"attributes\":{\"callback\":null,\"column_names\":[\"x\",\"y\"],\"data\":{\"x\":[2,3,4,6],\"y\":[4,2,6,4]},\"selected\":null,\"selection_policy\":null},\"id\":\"6a412057-dc6f-4810-9cec-60b7b3f71d87\",\"type\":\"ColumnDataSource\"},{\"attributes\":{\"overlay\":{\"id\":\"1e9ddc8e-3b9d-40bd-9628-283bdeb39ad5\",\"type\":\"BoxAnnotation\"}},\"id\":\"4fa1f087-6940-40df-9123-4767650f36d3\",\"type\":\"BoxZoomTool\"},{\"attributes\":{\"plot\":null,\"text\":\"\"},\"id\":\"e2e27282-3138-4460-98ce-d7784223beb8\",\"type\":\"Title\"},{\"attributes\":{},\"id\":\"87196bef-75e8-4ae0-8205-766274320c86\",\"type\":\"ResetTool\"},{\"attributes\":{},\"id\":\"35459e3c-397d-4fe6-84d4-63d3c9c39720\",\"type\":\"WheelZoomTool\"},{\"attributes\":{\"line_alpha\":0.1,\"line_color\":\"#1f77b4\",\"line_width\":3,\"x\":{\"field\":\"x\"},\"y\":{\"field\":\"y\"}},\"id\":\"24161df0-4e01-446f-9a5f-02f72cb189e9\",\"type\":\"Line\"},{\"attributes\":{\"formatter\":{\"id\":\"ad0104e7-7599-43f7-a2eb-e4e0cecff459\",\"type\":\"BasicTickFormatter\"},\"plot\":{\"id\":\"ee339c28-c193-4777-9797-f5c73dcd9679\",\"subtype\":\"Figure\",\"type\":\"Plot\"},\"ticker\":{\"id\":\"d25012d7-8939-4d03-889f-258139fe37af\",\"type\":\"BasicTicker\"}},\"id\":\"552ec19e-e1c5-45c7-8c98-fac622c5b5ae\",\"type\":\"LinearAxis\"},{\"attributes\":{\"line_alpha\":0.1,\"line_color\":\"#1f77b4\",\"line_width\":3,\"x\":{\"field\":\"x\"},\"y\":{\"field\":\"y\"}},\"id\":\"89e623e2-621c-41ba-9a95-ca68ced97d2e\",\"type\":\"Line\"},{\"attributes\":{\"source\":{\"id\":\"781d5ad0-0f97-4a71-a70d-7f80628d08a3\",\"type\":\"ColumnDataSource\"}},\"id\":\"4e9964fa-8cf2-4cdb-9089-16da8c76f3ff\",\"type\":\"CDSView\"},{\"attributes\":{\"line_color\":\"red\",\"line_width\":3,\"x\":{\"field\":\"x\"},\"y\":{\"field\":\"y\"}},\"id\":\"ec8110a4-408c-4089-bad4-534f2ab22fd4\",\"type\":\"Line\"},{\"attributes\":{\"fill_alpha\":{\"value\":0.1},\"fill_color\":{\"value\":\"#1f77b4\"},\"line_alpha\":{\"value\":0.1},\"line_color\":{\"value\":\"#1f77b4\"},\"size\":{\"units\":\"screen\",\"value\":14},\"x\":{\"field\":\"x\"},\"y\":{\"field\":\"y\"}},\"id\":\"b29aa5fb-1c71-4c72-990b-c2a3b2bf1e03\",\"type\":\"Triangle\"},{\"attributes\":{},\"id\":\"63980932-3687-429d-940b-e7717a3fbfb3\",\"type\":\"BasicTickFormatter\"},{\"attributes\":{\"callback\":null,\"column_names\":[\"x\",\"y\"],\"data\":{\"x\":[2,3,4,5],\"y\":[2,3,4,5]},\"selected\":null,\"selection_policy\":null},\"id\":\"781d5ad0-0f97-4a71-a70d-7f80628d08a3\",\"type\":\"ColumnDataSource\"},{\"attributes\":{\"line_alpha\":0.1,\"line_color\":\"#1f77b4\",\"line_width\":3,\"x\":{\"field\":\"x\"},\"y\":{\"field\":\"y\"}},\"id\":\"c61ae686-c69e-4342-a64f-945068f8207d\",\"type\":\"Line\"},{\"attributes\":{\"source\":{\"id\":\"e88eb5d1-fcf9-41ae-9dbc-5e0e587273c5\",\"type\":\"ColumnDataSource\"}},\"id\":\"3ed68646-d529-46fe-8f1f-f233e014f826\",\"type\":\"CDSView\"},{\"attributes\":{\"source\":{\"id\":\"6c8e6f69-08eb-4184-a1e5-69d407bfcbf8\",\"type\":\"ColumnDataSource\"}},\"id\":\"c47164f4-2b7d-44ff-af05-fd0abd9ff879\",\"type\":\"CDSView\"},{\"attributes\":{\"line_color\":\"red\",\"line_width\":3,\"x\":{\"field\":\"x\"},\"y\":{\"field\":\"y\"}},\"id\":\"341b7170-7585-49f6-8884-c26bc110c4b0\",\"type\":\"Line\"}],\"root_ids\":[\"ee339c28-c193-4777-9797-f5c73dcd9679\"]},\"title\":\"Bokeh Application\",\"version\":\"0.12.15\"}};\n",
       "  var render_items = [{\"docid\":\"75702837-3d05-4c7a-b767-1a34ce987f55\",\"elementid\":\"7e0cd28e-e1c9-4241-93df-97e932e60bdd\",\"modelid\":\"ee339c28-c193-4777-9797-f5c73dcd9679\"}];\n",
       "  root.Bokeh.embed.embed_items_notebook(docs_json, render_items);\n",
       "\n",
       "  }\n",
       "  if (root.Bokeh !== undefined) {\n",
       "    embed_document(root);\n",
       "  } else {\n",
       "    var attempts = 0;\n",
       "    var timer = setInterval(function(root) {\n",
       "      if (root.Bokeh !== undefined) {\n",
       "        embed_document(root);\n",
       "        clearInterval(timer);\n",
       "      }\n",
       "      attempts++;\n",
       "      if (attempts > 100) {\n",
       "        console.log(\"Bokeh: ERROR: Unable to run BokehJS code because BokehJS library is missing\")\n",
       "        clearInterval(timer);\n",
       "      }\n",
       "    }, 10, root)\n",
       "  }\n",
       "})(window);"
      ],
      "application/vnd.bokehjs_exec.v0+json": ""
     },
     "metadata": {
      "application/vnd.bokehjs_exec.v0+json": {
       "id": "ee339c28-c193-4777-9797-f5c73dcd9679"
      }
     },
     "output_type": "display_data"
    }
   ],
   "source": [
    "#membuat gabungan line plots\n",
    "\n",
    "#line plots dengan titik data berbentuk triangle yang berwarna kuning dan garis triangle berwarna hijau\n",
    "l.line([2,3,4,5], [2,3,4,5], line_width = 3, color = 'red')\n",
    "l.triangle([2,3,4,5],[2,3,4,5], size = 14, fill_color = 'yellow', color = 'green')\n",
    "\n",
    "#line plots dengan titik data berbentuk circle yang berwarna orange dan garis circle berwarna hitam\n",
    "l.line([2,3,4,6], [4,2,6,4], line_width = 3, color = 'green')\n",
    "l.circle([2,3,4,6], [4,2,6,4], size =14, fill_color = 'orange', color = 'black')\n",
    "\n",
    "show(l)"
   ]
  },
  {
   "cell_type": "markdown",
   "metadata": {},
   "source": [
    "                        ##Semoga Bermanfaat\n",
    "                        ##@Raspiani_"
   ]
  }
 ],
 "metadata": {
  "kernelspec": {
   "display_name": "Python 3",
   "language": "python",
   "name": "python3"
  },
  "language_info": {
   "codemirror_mode": {
    "name": "ipython",
    "version": 3
   },
   "file_extension": ".py",
   "mimetype": "text/x-python",
   "name": "python",
   "nbconvert_exporter": "python",
   "pygments_lexer": "ipython3",
   "version": "3.6.5"
  }
 },
 "nbformat": 4,
 "nbformat_minor": 2
}
